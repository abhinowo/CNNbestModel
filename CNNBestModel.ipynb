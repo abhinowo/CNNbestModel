{
  "nbformat": 4,
  "nbformat_minor": 0,
  "metadata": {
    "accelerator": "GPU",
    "colab": {
      "name": "CapsClassification.ipynb",
      "provenance": [],
      "collapsed_sections": [],
      "toc_visible": true,
      "machine_shape": "hm",
      "authorship_tag": "ABX9TyMZqcBoCcUgDWvDj3RwxzGW",
      "include_colab_link": true
    },
    "kernelspec": {
      "display_name": "Python 3",
      "name": "python3"
    },
    "language_info": {
      "name": "python"
    }
  },
  "cells": [
    {
      "cell_type": "markdown",
      "metadata": {
        "id": "view-in-github",
        "colab_type": "text"
      },
      "source": [
        "<a href=\"https://colab.research.google.com/github/abhinowo/CNNbestModel/blob/main/CNNBestModel.ipynb\" target=\"_parent\"><img src=\"https://colab.research.google.com/assets/colab-badge.svg\" alt=\"Open In Colab\"/></a>"
      ]
    },
    {
      "cell_type": "markdown",
      "metadata": {
        "id": "Oti00j5Zln1e"
      },
      "source": [
        "# TUGAS BESAR  - B21-CAP0252\n",
        "\n",
        "- Ainiyyah M2472349\n",
        "- Amora Devi Larasati C0100996\n",
        "- Aryo Anindyo Abhinowo M2001980\t\n",
        "- Muhammad Abdullah Rasyad A0121261\n",
        "- Rizal Yusuf Audri C0121209\n",
        "- Taufik Fadlurahman Fajari A0121265\n"
      ]
    },
    {
      "cell_type": "markdown",
      "metadata": {
        "id": "KByyRRd1lpe3"
      },
      "source": [
        "## Top-Down Approach \n",
        "\n",
        "Convolutional Neural Network (CNN) adalah salah satu jenis neural network yang biasa digunakan pada data image. CNN bisa digunakan untuk mendeteksi dan mengenali object pada sebuah image. Secara garis besarnya, CNN memanfaatkan proses konvolusi dengan menggerakan sebuah kernel konvolusi (filter) berukuran tertentu ke sebuah gambar, komputer mendapatkan informasi representatif baru dari hasil perkalian bagian gambar tersebut dengan filter yang digunakan.\n",
        "\n",
        "## Project Objectives\n",
        "\n",
        "Kasus ini merupakan pengolahan pengenalan pola dari berbagai macam tempat yang ada sehingga nanti nya bisa diklasifikasikan secara supervised learning. Dataset yang kami ambil berasal dari pyimage search dengan judul  [Natural Disaster Image Dataset](https://drive.google.com/u/0/uc?id=1NvTyhUsrFbL91E10EPm38IjoCg6E2c6q&export=download) \n",
        "\n",
        "Project ini berfokus kepada\n",
        "- Exploratory Data\n",
        "- Reshapping & Labeling\n",
        "- Membuat Prediksi \n",
        "- Saving model\n",
        "- Deploying \n"
      ]
    },
    {
      "cell_type": "markdown",
      "metadata": {
        "id": "SFIZImSew80S"
      },
      "source": [
        "## 1. Import Library and Data"
      ]
    },
    {
      "cell_type": "code",
      "metadata": {
        "colab": {
          "base_uri": "https://localhost:8080/"
        },
        "id": "NwPu0aT3k_UY",
        "outputId": "95eb4bcd-85b2-415f-8d88-01093d6b2c42"
      },
      "source": [
        "from google.colab import drive\n",
        "drive.mount('/content/drive')\n",
        "root_path = 'drive/MyDrive/NDD/'"
      ],
      "execution_count": 1,
      "outputs": [
        {
          "output_type": "stream",
          "text": [
            "Drive already mounted at /content/drive; to attempt to forcibly remount, call drive.mount(\"/content/drive\", force_remount=True).\n"
          ],
          "name": "stdout"
        }
      ]
    },
    {
      "cell_type": "code",
      "metadata": {
        "id": "iTGpGkL63Saz"
      },
      "source": [
        "#!pip install -q tflite-model-maker"
      ],
      "execution_count": null,
      "outputs": []
    },
    {
      "cell_type": "code",
      "metadata": {
        "id": "G8Upd6UDgXYA"
      },
      "source": [
        "#!apt-get install tree"
      ],
      "execution_count": null,
      "outputs": []
    },
    {
      "cell_type": "code",
      "metadata": {
        "id": "rSLvxH8pk6n4"
      },
      "source": [
        "# import libraries \n",
        "import tensorflow as tf \n",
        "assert tf.__version__.startswith('2')\n",
        "\n",
        "import tensorflow.keras as keras\n",
        "import numpy as np\n",
        "import matplotlib.pyplot as plt\n",
        "import matplotlib.image as mpimg\n",
        "%matplotlib inline\n",
        "\n",
        "from google.colab import files\n",
        "from keras.preprocessing import image\n",
        "\n",
        "# from tflite_model_maker import model_spec\n",
        "# from tflite_model_maker import image_classifier\n",
        "# from tflite_model_maker.config import ExportFormat\n",
        "# from tflite_model_maker.config import QuantizationConfig\n",
        "# from tflite_model_maker.image_classifier import DataLoader\n",
        "\n",
        "# utilities library\n",
        "import cv2\n",
        "import os\n",
        "\n",
        "import random \n",
        "random.seed(0)\n",
        "np.random.seed(0)\n",
        "tf.random.set_seed(0)"
      ],
      "execution_count": 2,
      "outputs": []
    },
    {
      "cell_type": "markdown",
      "metadata": {
        "id": "KVIGaThZ0Hbp"
      },
      "source": [
        "1  **About this Data**: \n",
        "\n",
        "We will use the Natural Disaster Dataset. The data will be normalized so its value will ranging from 0 to 1. \n",
        "\n",
        "The label will be denoted as numbers, which follow this mapping : \n",
        "\n",
        "|    | Expression   |\n",
        "|---:|:-------------|\n",
        "|  0 | CYCLONE          |\n",
        "|  1 | FLOOD          |\n",
        "|  2 |  EARTHQUAKE        |\n",
        "|  3 |  WILDFIRE   |\n",
        "             \n"
      ]
    },
    {
      "cell_type": "code",
      "metadata": {
        "id": "qT2nZbs-lO9q"
      },
      "source": [
        "#!wget 'https://drive.google.com/u/0/uc?id=1NvTyhUsrFbL91E10EPm38IjoCg6E2c6q&export=download'\n",
        "#!unzip -q (namafile).zip "
      ],
      "execution_count": null,
      "outputs": []
    },
    {
      "cell_type": "code",
      "metadata": {
        "id": "QV9DeRQ-otsm"
      },
      "source": [
        "#@title Code for loading the data\n",
        "data_path = 'drive/MyDrive/NDD/'\n",
        "data_dir_list = os.listdir(data_path)\n",
        "\n",
        "img_data_list=[]\n",
        "img_label = []\n",
        "label_map = {}\n",
        "i = 0 \n",
        "\n",
        "for dataset in data_dir_list:\n",
        "    img_list=os.listdir(data_path+'/'+ dataset)\n",
        "    label_map[i] = str(dataset)\n",
        "    \n",
        "    # print ('Load the images of dataset-'+'{}\\n'.format(dataset))\n",
        "    for img in img_list:\n",
        "        img_label.append(i)\n",
        "        input_img=cv2.imread(data_path + '/'+ dataset + '/'+ img )\n",
        "        input_img_resize=cv2.resize(input_img,(224,224))\n",
        "        img_data_list.append(input_img_resize)\n",
        "    i += 1\n",
        "\n",
        "img_data = np.array(img_data_list)\n",
        "img_data = img_data.astype('float')\n",
        "img_data = img_data/255 #normalization\n",
        "img_label = np.array(img_label)\n",
        "\n",
        "def getlabel(id):\n",
        "    return label_map[id]"
      ],
      "execution_count": 3,
      "outputs": []
    },
    {
      "cell_type": "code",
      "metadata": {
        "colab": {
          "base_uri": "https://localhost:8080/"
        },
        "id": "CcKlcsWCr3kl",
        "outputId": "e4104498-1ce7-4d6e-fe67-9ac89a0fb444"
      },
      "source": [
        "label_map"
      ],
      "execution_count": 5,
      "outputs": [
        {
          "output_type": "execute_result",
          "data": {
            "text/plain": [
              "{0: 'Cyclone', 1: 'Flood', 2: 'Earthquake', 3: 'Wildfire'}"
            ]
          },
          "metadata": {
            "tags": []
          },
          "execution_count": 5
        }
      ]
    },
    {
      "cell_type": "code",
      "metadata": {
        "colab": {
          "base_uri": "https://localhost:8080/"
        },
        "id": "F953Gsj7p72A",
        "outputId": "291b5ae6-a92d-4583-dc2e-06826d9bdddf"
      },
      "source": [
        "img_data.shape"
      ],
      "execution_count": 6,
      "outputs": [
        {
          "output_type": "execute_result",
          "data": {
            "text/plain": [
              "(4428, 224, 224, 3)"
            ]
          },
          "metadata": {
            "tags": []
          },
          "execution_count": 6
        }
      ]
    },
    {
      "cell_type": "code",
      "metadata": {
        "id": "5P5EjLXvwQ6s"
      },
      "source": [
        "from sklearn.model_selection import train_test_split\n",
        "x_train, x_test, y_train, y_test = train_test_split(img_data, img_label, test_size=0.2, random_state=0)"
      ],
      "execution_count": 7,
      "outputs": []
    },
    {
      "cell_type": "code",
      "metadata": {
        "colab": {
          "base_uri": "https://localhost:8080/"
        },
        "id": "L9z0L7ZPS7Sw",
        "outputId": "a0a5f80e-9dc9-4374-c1a4-80f5bcce33c9"
      },
      "source": [
        "x_train.shape"
      ],
      "execution_count": 8,
      "outputs": [
        {
          "output_type": "execute_result",
          "data": {
            "text/plain": [
              "(3542, 224, 224, 3)"
            ]
          },
          "metadata": {
            "tags": []
          },
          "execution_count": 8
        }
      ]
    },
    {
      "cell_type": "code",
      "metadata": {
        "colab": {
          "base_uri": "https://localhost:8080/"
        },
        "id": "7HL98WEpA_8n",
        "outputId": "c8d52630-0c6d-4126-9949-24cc3e2c033d"
      },
      "source": [
        "x_test.shape"
      ],
      "execution_count": 9,
      "outputs": [
        {
          "output_type": "execute_result",
          "data": {
            "text/plain": [
              "(886, 224, 224, 3)"
            ]
          },
          "metadata": {
            "tags": []
          },
          "execution_count": 9
        }
      ]
    },
    {
      "cell_type": "code",
      "metadata": {
        "id": "utiRqrQ-TEWO",
        "colab": {
          "base_uri": "https://localhost:8080/"
        },
        "outputId": "e49a1ff5-36b7-4c29-83a9-dae027ea63c8"
      },
      "source": [
        "x_train[0]"
      ],
      "execution_count": 10,
      "outputs": [
        {
          "output_type": "execute_result",
          "data": {
            "text/plain": [
              "array([[[0.87843137, 0.9372549 , 0.94901961],\n",
              "        [0.86666667, 0.92941176, 0.96862745],\n",
              "        [0.86666667, 0.94509804, 0.96470588],\n",
              "        ...,\n",
              "        [0.87058824, 0.92156863, 0.97647059],\n",
              "        [0.85098039, 0.92941176, 0.95686275],\n",
              "        [0.87058824, 0.92941176, 0.96078431]],\n",
              "\n",
              "       [[0.87843137, 0.9372549 , 0.98431373],\n",
              "        [0.86666667, 0.9254902 , 0.98823529],\n",
              "        [0.87058824, 0.94901961, 0.97254902],\n",
              "        ...,\n",
              "        [0.85882353, 0.92941176, 0.97254902],\n",
              "        [0.83921569, 0.92941176, 0.96078431],\n",
              "        [0.89803922, 0.93333333, 0.98431373]],\n",
              "\n",
              "       [[0.8745098 , 0.94117647, 0.98823529],\n",
              "        [0.87058824, 0.92941176, 0.98039216],\n",
              "        [0.8745098 , 0.94901961, 0.94901961],\n",
              "        ...,\n",
              "        [0.92941176, 0.9372549 , 0.92941176],\n",
              "        [0.8745098 , 0.94509804, 0.97254902],\n",
              "        [0.88627451, 0.9254902 , 0.98039216]],\n",
              "\n",
              "       ...,\n",
              "\n",
              "       [[0.8627451 , 0.93333333, 0.97254902],\n",
              "        [0.87058824, 0.93333333, 0.96470588],\n",
              "        [0.87843137, 0.9372549 , 0.96078431],\n",
              "        ...,\n",
              "        [0.90196078, 0.9372549 , 0.95294118],\n",
              "        [0.86666667, 0.9372549 , 0.96470588],\n",
              "        [0.8627451 , 0.93333333, 0.97647059]],\n",
              "\n",
              "       [[0.8627451 , 0.93333333, 0.97647059],\n",
              "        [0.8627451 , 0.92941176, 0.97647059],\n",
              "        [0.86666667, 0.93333333, 0.96862745],\n",
              "        ...,\n",
              "        [0.8745098 , 0.9372549 , 0.96470588],\n",
              "        [0.85882353, 0.9372549 , 0.96862745],\n",
              "        [0.85490196, 0.9372549 , 0.96862745]],\n",
              "\n",
              "       [[0.86666667, 0.93333333, 0.96862745],\n",
              "        [0.86666667, 0.93333333, 0.96862745],\n",
              "        [0.86666667, 0.92941176, 0.97254902],\n",
              "        ...,\n",
              "        [0.8627451 , 0.93333333, 0.97254902],\n",
              "        [0.85882353, 0.9372549 , 0.96862745],\n",
              "        [0.85882353, 0.9372549 , 0.96862745]]])"
            ]
          },
          "metadata": {
            "tags": []
          },
          "execution_count": 10
        }
      ]
    },
    {
      "cell_type": "code",
      "metadata": {
        "colab": {
          "base_uri": "https://localhost:8080/",
          "height": 286
        },
        "id": "jChu9l9XTXql",
        "outputId": "262fff9f-8d1a-47b8-f93c-4fc554b9f496"
      },
      "source": [
        "plt.imshow(x_train[12])\n",
        "y_train[12]"
      ],
      "execution_count": 11,
      "outputs": [
        {
          "output_type": "execute_result",
          "data": {
            "text/plain": [
              "2"
            ]
          },
          "metadata": {
            "tags": []
          },
          "execution_count": 11
        },
        {
          "output_type": "display_data",
          "data": {
            "image/png": "[encoded data removed]",
            "text/plain": [
              "<Figure size 432x288 with 1 Axes>"
            ]
          },
          "metadata": {
            "tags": [],
            "needs_background": "light"
          }
        }
      ]
    },
    {
      "cell_type": "code",
      "metadata": {
        "id": "s97PA6pEx6-L"
      },
      "source": [
        "def display_examples(class_names, images, labels):\n",
        "    \"\"\"\n",
        "        Display 25 images from the images array with its corresponding labels\n",
        "    \"\"\"\n",
        "    \n",
        "    fig = plt.figure(figsize=(10,10))\n",
        "    fig.suptitle(\"Some examples of images of the dataset\", fontsize=16)\n",
        "    for i in range(25):\n",
        "        plt.subplot(5,5,i+1)\n",
        "        plt.xticks([])\n",
        "        plt.yticks([])\n",
        "        plt.grid(False)\n",
        "        plt.imshow(images[i], cmap=plt.cm.binary)\n",
        "        plt.xlabel(img_label[labels[i]])\n",
        "    plt.show()"
      ],
      "execution_count": null,
      "outputs": []
    },
    {
      "cell_type": "code",
      "metadata": {
        "id": "5dl6mayDx8FM"
      },
      "source": [
        "display_examples(x_train,img_data , img_label)"
      ],
      "execution_count": null,
      "outputs": []
    },
    {
      "cell_type": "markdown",
      "metadata": {
        "id": "9akVzFFWw5AX"
      },
      "source": [
        "## 2. Create the Model"
      ]
    },
    {
      "cell_type": "markdown",
      "metadata": {
        "id": "hLXLZYPeQKsj"
      },
      "source": [
        "### Model awal"
      ]
    },
    {
      "cell_type": "code",
      "metadata": {
        "id": "cp79ZT7bYOzz"
      },
      "source": [
        "# aug = ImageDataGenerator(\n",
        "# \trotation_range=30,\n",
        "# \tzoom_range=0.15,\n",
        "# \twidth_shift_range=0.2,\n",
        "# \theight_shift_range=0.2,\n",
        "# \tshear_range=0.15,\n",
        "# \thorizontal_flip=True,\n",
        "# \tfill_mode=\"nearest\")"
      ],
      "execution_count": null,
      "outputs": []
    },
    {
      "cell_type": "code",
      "metadata": {
        "id": "phIwxyEWwarr"
      },
      "source": [
        "# simple model in 1st Notebook\n",
        "\n",
        "# model_simple = keras.Sequential()\n",
        "# model_simple.add(keras.layers.Dense(units=1, input_shape=[1]))\n",
        "\n",
        "# model_simple.compile(optimizer='SGD', loss='mean_squared_error')"
      ],
      "execution_count": null,
      "outputs": []
    },
    {
      "cell_type": "code",
      "metadata": {
        "id": "0Yd5dZFzwf4G"
      },
      "source": [
        "# Neural Network in 2nd Notebook\n",
        "\n",
        "# model_nn = keras.Sequential()\n",
        "\n",
        "# model_nn.add(keras.layers.Flatten(input_shape=(128,128,3)) ) # flatten layer \n",
        "# model_nn.add(keras.layers.Dense(units = 128,activation='relu') )  #input layer \n",
        "# model_nn.add(keras.layers.Dense(units = 64, activation='relu') )  # hidden layer \n",
        "# model_nn.add(keras.layers.Dense(units = 6, activation='softmax') ) # output layer \n",
        "\n",
        "# model_nn.compile(optimizer='adam', loss='sparse_categorical_crossentropy', metrics=['accuracy'])"
      ],
      "execution_count": null,
      "outputs": []
    },
    {
      "cell_type": "code",
      "metadata": {
        "id": "lwTqpsvrwh2I"
      },
      "source": [
        "model_cnn = keras.Sequential()\n",
        "\n",
        "model_cnn.add(keras.layers.Conv2D(filters=16, kernel_size=(5,5), input_shape=(224,224,3), padding='same', activation=\"relu\"))\n",
        "model_cnn.add(keras.layers.Conv2D(filters=32, kernel_size=(3,3), padding='same', activation=\"relu\"))\n",
        "model_cnn.add(keras.layers.MaxPooling2D())\n",
        "#model_cnn.add(keras.layers.Dropout(0.5))\n",
        "\n",
        "model_cnn.add(keras.layers.Flatten()) # flatten layer \n",
        "#model_cnn.add(keras.layers.Dense(units = 512,activation='relu') ) #input layer\n",
        "model_cnn.add(keras.layers.Dense(units = 128,activation='relu') )   \n",
        "model_cnn.add(keras.layers.Dense(units = 64, activation='relu') )  # hidden layer \n",
        "model_cnn.add(keras.layers.Dense(units = 4, activation='softmax') ) # output layer \n",
        "\n",
        "model_cnn.compile(optimizer='adam', loss='sparse_categorical_crossentropy', metrics=['accuracy'])"
      ],
      "execution_count": 12,
      "outputs": []
    },
    {
      "cell_type": "code",
      "metadata": {
        "colab": {
          "base_uri": "https://localhost:8080/"
        },
        "id": "i4cpE92Nwjdi",
        "outputId": "348d0306-a5ae-4957-ab0c-70ae5be0bd7c"
      },
      "source": [
        "# summarize the model to see what happened inside\n",
        "model_cnn.summary()"
      ],
      "execution_count": 13,
      "outputs": [
        {
          "output_type": "stream",
          "text": [
            "Model: \"sequential\"\n",
            "_________________________________________________________________\n",
            "Layer (type)                 Output Shape              Param #   \n",
            "=================================================================\n",
            "conv2d (Conv2D)              (None, 224, 224, 16)      1216      \n",
            "_________________________________________________________________\n",
            "conv2d_1 (Conv2D)            (None, 224, 224, 32)      4640      \n",
            "_________________________________________________________________\n",
            "max_pooling2d (MaxPooling2D) (None, 112, 112, 32)      0         \n",
            "_________________________________________________________________\n",
            "flatten (Flatten)            (None, 401408)            0         \n",
            "_________________________________________________________________\n",
            "dense (Dense)                (None, 128)               51380352  \n",
            "_________________________________________________________________\n",
            "dense_1 (Dense)              (None, 64)                8256      \n",
            "_________________________________________________________________\n",
            "dense_2 (Dense)              (None, 4)                 260       \n",
            "=================================================================\n",
            "Total params: 51,394,724\n",
            "Trainable params: 51,394,724\n",
            "Non-trainable params: 0\n",
            "_________________________________________________________________\n"
          ],
          "name": "stdout"
        }
      ]
    },
    {
      "cell_type": "markdown",
      "metadata": {
        "id": "xceLn-xXw1TD"
      },
      "source": [
        ""
      ]
    },
    {
      "cell_type": "code",
      "metadata": {
        "colab": {
          "base_uri": "https://localhost:8080/"
        },
        "id": "OIbHQCjLwk0K",
        "outputId": "32197dbd-b78a-491c-dcc8-582ac9b4dac2"
      },
      "source": [
        "history = model_cnn.fit(x_train, y_train, validation_data= (x_test,y_test), epochs=15);"
      ],
      "execution_count": 14,
      "outputs": [
        {
          "output_type": "stream",
          "text": [
            "Epoch 1/15\n",
            "111/111 [==============================] - 20s 41ms/step - loss: 2.0867 - accuracy: 0.6335 - val_loss: 0.6927 - val_accuracy: 0.7551\n",
            "Epoch 2/15\n",
            "111/111 [==============================] - 4s 36ms/step - loss: 0.4704 - accuracy: 0.8385 - val_loss: 0.5270 - val_accuracy: 0.8070\n",
            "Epoch 3/15\n",
            "111/111 [==============================] - 4s 36ms/step - loss: 0.2425 - accuracy: 0.9173 - val_loss: 0.6987 - val_accuracy: 0.7867\n",
            "Epoch 4/15\n",
            "111/111 [==============================] - 4s 36ms/step - loss: 0.1211 - accuracy: 0.9667 - val_loss: 0.6691 - val_accuracy: 0.7765\n",
            "Epoch 5/15\n",
            "111/111 [==============================] - 4s 35ms/step - loss: 0.0632 - accuracy: 0.9814 - val_loss: 0.6327 - val_accuracy: 0.8070\n",
            "Epoch 6/15\n",
            "111/111 [==============================] - 4s 36ms/step - loss: 0.0361 - accuracy: 0.9901 - val_loss: 0.7436 - val_accuracy: 0.7935\n",
            "Epoch 7/15\n",
            "111/111 [==============================] - 4s 36ms/step - loss: 0.0140 - accuracy: 0.9969 - val_loss: 0.6863 - val_accuracy: 0.8239\n",
            "Epoch 8/15\n",
            "111/111 [==============================] - 4s 36ms/step - loss: 0.0171 - accuracy: 0.9966 - val_loss: 0.8002 - val_accuracy: 0.8126\n",
            "Epoch 9/15\n",
            "111/111 [==============================] - 4s 36ms/step - loss: 0.0113 - accuracy: 0.9977 - val_loss: 1.2068 - val_accuracy: 0.7777\n",
            "Epoch 10/15\n",
            "111/111 [==============================] - 4s 35ms/step - loss: 0.0045 - accuracy: 0.9997 - val_loss: 0.9293 - val_accuracy: 0.8341\n",
            "Epoch 11/15\n",
            "111/111 [==============================] - 4s 35ms/step - loss: 0.0032 - accuracy: 0.9994 - val_loss: 0.8175 - val_accuracy: 0.8341\n",
            "Epoch 12/15\n",
            "111/111 [==============================] - 4s 36ms/step - loss: 0.0036 - accuracy: 0.9994 - val_loss: 0.9118 - val_accuracy: 0.8284\n",
            "Epoch 13/15\n",
            "111/111 [==============================] - 4s 35ms/step - loss: 0.0022 - accuracy: 0.9997 - val_loss: 0.9421 - val_accuracy: 0.8420\n",
            "Epoch 14/15\n",
            "111/111 [==============================] - 4s 36ms/step - loss: 0.0020 - accuracy: 0.9997 - val_loss: 1.1210 - val_accuracy: 0.8160\n",
            "Epoch 15/15\n",
            "111/111 [==============================] - 4s 35ms/step - loss: 0.0027 - accuracy: 0.9994 - val_loss: 0.8986 - val_accuracy: 0.8341\n"
          ],
          "name": "stdout"
        }
      ]
    },
    {
      "cell_type": "markdown",
      "metadata": {
        "id": "_qeAUQgWwvDX"
      },
      "source": [
        ""
      ]
    },
    {
      "cell_type": "code",
      "metadata": {
        "colab": {
          "base_uri": "https://localhost:8080/"
        },
        "id": "wl0T55prwqKL",
        "outputId": "9d50d90d-0901-4a2c-e5b8-24fcd978f796"
      },
      "source": [
        "score_accuracy = model_cnn.evaluate(x_test, y_test)"
      ],
      "execution_count": 15,
      "outputs": [
        {
          "output_type": "stream",
          "text": [
            "28/28 [==============================] - 0s 13ms/step - loss: 0.8986 - accuracy: 0.8341\n"
          ],
          "name": "stdout"
        }
      ]
    },
    {
      "cell_type": "code",
      "metadata": {
        "id": "97h_-KPT2X9K"
      },
      "source": [
        "def plot_accuracy_loss(history):\n",
        "    \"\"\"\n",
        "        Plot the accuracy and the loss during the training of the nn.\n",
        "    \"\"\"\n",
        "    fig = plt.figure(figsize=(10,5))\n",
        "\n",
        "    # Plot accuracy\n",
        "    plt.subplot(221)\n",
        "    plt.plot(history.history['accuracy'],'bo--', label = \"acc\")\n",
        "    plt.plot(history.history['val_accuracy'], 'ro--', label = \"val_acc\")\n",
        "    plt.title(\"train_acc vs val_acc\")\n",
        "    plt.ylabel(\"accuracy\")\n",
        "    plt.xlabel(\"epochs\")\n",
        "    plt.legend()\n",
        "\n",
        "    # Plot loss function\n",
        "    plt.subplot(222)\n",
        "    plt.plot(history.history['loss'],'bo--', label = \"loss\")\n",
        "    plt.plot(history.history['val_loss'], 'ro--', label = \"val_loss\")\n",
        "    plt.title(\"train_loss vs val_loss\")\n",
        "    plt.ylabel(\"loss\")\n",
        "    plt.xlabel(\"epochs\")\n",
        "\n",
        "    plt.legend()\n",
        "    plt.show()"
      ],
      "execution_count": 11,
      "outputs": []
    },
    {
      "cell_type": "code",
      "metadata": {
        "colab": {
          "base_uri": "https://localhost:8080/",
          "height": 201
        },
        "id": "qn0NOoyp7YZY",
        "outputId": "97c25c97-4fb3-4ecd-c677-9de4b8fd4f8f"
      },
      "source": [
        "plot_accuracy_loss(history)"
      ],
      "execution_count": 17,
      "outputs": [
        {
          "output_type": "display_data",
          "data": {
            "image/png": "[encoded data removed]",
            "text/plain": [
              "<Figure size 720x360 with 2 Axes>"
            ]
          },
          "metadata": {
            "tags": [],
            "needs_background": "light"
          }
        }
      ]
    },
    {
      "cell_type": "markdown",
      "metadata": {
        "id": "T_FG75x6Ap7o"
      },
      "source": [
        "In the plots above, the training accuracy is increasing linearly over time, whereas validation accuracy stalls around 80% in the training process. Also, the difference in accuracy between training and validation accuracy is noticeable—a sign of overfitting.\n",
        "\n",
        "-- this new model surely overfit. doesnt have any improvement by looking at the graph\n",
        "\n"
      ]
    },
    {
      "cell_type": "code",
      "metadata": {
        "id": "Xp_0iFs5-hwb"
      },
      "source": [
        "# from tensorflow.keras.preprocessing.image import ImageDataGenerator\n",
        "\n",
        "# train_image_generator = ImageDataGenerator(rescale=1./255) # Generator for our training data\n",
        "# validation_image_generator = ImageDataGenerator(rescale=1./255) # Generator for our validation data\n",
        "\n",
        "# batch_size = 100\n",
        "# target_size = (128,128)\n",
        "# image_gen = ImageDataGenerator(rescale=1./255, horizontal_flip=True)\n",
        "# train_data_gen = image_gen.flow_from_directory(batch_size=batch_size,\n",
        "#                                                directory=x_train,\n",
        "#                                                shuffle=True,\n",
        "#                                                target_size=target_size)\n",
        "# val_data_gen = validation_image_generator.flow_from_directory(batch_size=batch_size,\n",
        "#                                                               directory=y_test,\n",
        "#                                                               target_size=target_size,\n",
        "#                                                               class_mode='categorical')"
      ],
      "execution_count": 18,
      "outputs": []
    },
    {
      "cell_type": "markdown",
      "metadata": {
        "id": "_3CboaI9QB9H"
      },
      "source": [
        "### Model 1"
      ]
    },
    {
      "cell_type": "markdown",
      "metadata": {
        "id": "TiuLUlo-YBbU"
      },
      "source": [
        "\n",
        "\n",
        "---\n",
        "\n"
      ]
    },
    {
      "cell_type": "code",
      "metadata": {
        "id": "ss-WGEkrDssu"
      },
      "source": [
        "model_cnn1 = keras.Sequential()\n",
        "\n",
        "model_cnn1.add(keras.layers.Conv2D(filters=16, kernel_size=(5,5), input_shape=(224,224,3), padding='same', activation=\"relu\"))\n",
        "model_cnn1.add(keras.layers.MaxPooling2D())\n",
        "model_cnn1.add(keras.layers.Conv2D(filters=32, kernel_size=(3,3), padding='same', activation=\"relu\"))\n",
        "model_cnn1.add(keras.layers.MaxPooling2D())\n",
        "\n",
        "\n",
        "model_cnn1.add(keras.layers.Flatten()) # flatten layer \n",
        "model_cnn1.add(keras.layers.Dense(units = 128,activation='relu') )   \n",
        "model_cnn1.add(keras.layers.Dense(units = 64, activation='relu') )  # hidden layer \n",
        "model_cnn1.add(keras.layers.Dense(units = 4, activation='softmax') ) # output layer \n",
        "\n",
        "model_cnn1.compile(optimizer='adam', loss='sparse_categorical_crossentropy', metrics=['accuracy'])"
      ],
      "execution_count": 19,
      "outputs": []
    },
    {
      "cell_type": "code",
      "metadata": {
        "colab": {
          "base_uri": "https://localhost:8080/"
        },
        "id": "njE9TYBCEE_O",
        "outputId": "0b56f920-518d-411d-b7cf-5015e97bbc22"
      },
      "source": [
        "model_cnn1.summary()"
      ],
      "execution_count": 20,
      "outputs": [
        {
          "output_type": "stream",
          "text": [
            "Model: \"sequential_1\"\n",
            "_________________________________________________________________\n",
            "Layer (type)                 Output Shape              Param #   \n",
            "=================================================================\n",
            "conv2d_2 (Conv2D)            (None, 224, 224, 16)      1216      \n",
            "_________________________________________________________________\n",
            "max_pooling2d_1 (MaxPooling2 (None, 112, 112, 16)      0         \n",
            "_________________________________________________________________\n",
            "conv2d_3 (Conv2D)            (None, 112, 112, 32)      4640      \n",
            "_________________________________________________________________\n",
            "max_pooling2d_2 (MaxPooling2 (None, 56, 56, 32)        0         \n",
            "_________________________________________________________________\n",
            "flatten_1 (Flatten)          (None, 100352)            0         \n",
            "_________________________________________________________________\n",
            "dense_3 (Dense)              (None, 128)               12845184  \n",
            "_________________________________________________________________\n",
            "dense_4 (Dense)              (None, 64)                8256      \n",
            "_________________________________________________________________\n",
            "dense_5 (Dense)              (None, 4)                 260       \n",
            "=================================================================\n",
            "Total params: 12,859,556\n",
            "Trainable params: 12,859,556\n",
            "Non-trainable params: 0\n",
            "_________________________________________________________________\n"
          ],
          "name": "stdout"
        }
      ]
    },
    {
      "cell_type": "code",
      "metadata": {
        "colab": {
          "base_uri": "https://localhost:8080/"
        },
        "id": "EmYxmIEHELfI",
        "outputId": "46607689-aef8-4d71-c544-1aec4e389dbe"
      },
      "source": [
        "history_2 = model_cnn1.fit(x_train, y_train, validation_data= (x_test,y_test), epochs=15);"
      ],
      "execution_count": 21,
      "outputs": [
        {
          "output_type": "stream",
          "text": [
            "Epoch 1/15\n",
            "111/111 [==============================] - 3s 24ms/step - loss: 1.0349 - accuracy: 0.5895 - val_loss: 0.6526 - val_accuracy: 0.7889\n",
            "Epoch 2/15\n",
            "111/111 [==============================] - 2s 21ms/step - loss: 0.4777 - accuracy: 0.8281 - val_loss: 0.4940 - val_accuracy: 0.8262\n",
            "Epoch 3/15\n",
            "111/111 [==============================] - 2s 21ms/step - loss: 0.2479 - accuracy: 0.9224 - val_loss: 0.5693 - val_accuracy: 0.7935\n",
            "Epoch 4/15\n",
            "111/111 [==============================] - 2s 21ms/step - loss: 0.1249 - accuracy: 0.9613 - val_loss: 0.5166 - val_accuracy: 0.8409\n",
            "Epoch 5/15\n",
            "111/111 [==============================] - 2s 21ms/step - loss: 0.0673 - accuracy: 0.9819 - val_loss: 0.5997 - val_accuracy: 0.8160\n",
            "Epoch 6/15\n",
            "111/111 [==============================] - 2s 21ms/step - loss: 0.0348 - accuracy: 0.9898 - val_loss: 0.6398 - val_accuracy: 0.8273\n",
            "Epoch 7/15\n",
            "111/111 [==============================] - 2s 21ms/step - loss: 0.0283 - accuracy: 0.9924 - val_loss: 0.7536 - val_accuracy: 0.7923\n",
            "Epoch 8/15\n",
            "111/111 [==============================] - 2s 21ms/step - loss: 0.0175 - accuracy: 0.9969 - val_loss: 0.7369 - val_accuracy: 0.8465\n",
            "Epoch 9/15\n",
            "111/111 [==============================] - 2s 21ms/step - loss: 0.0061 - accuracy: 0.9992 - val_loss: 1.1292 - val_accuracy: 0.8149\n",
            "Epoch 10/15\n",
            "111/111 [==============================] - 2s 21ms/step - loss: 0.0177 - accuracy: 0.9966 - val_loss: 0.7276 - val_accuracy: 0.8386\n",
            "Epoch 11/15\n",
            "111/111 [==============================] - 2s 21ms/step - loss: 0.0111 - accuracy: 0.9972 - val_loss: 0.8325 - val_accuracy: 0.8318\n",
            "Epoch 12/15\n",
            "111/111 [==============================] - 2s 21ms/step - loss: 0.0080 - accuracy: 0.9986 - val_loss: 0.7946 - val_accuracy: 0.8465\n",
            "Epoch 13/15\n",
            "111/111 [==============================] - 2s 21ms/step - loss: 0.0024 - accuracy: 0.9997 - val_loss: 0.8410 - val_accuracy: 0.8454\n",
            "Epoch 14/15\n",
            "111/111 [==============================] - 2s 21ms/step - loss: 0.0027 - accuracy: 0.9997 - val_loss: 0.9733 - val_accuracy: 0.8251\n",
            "Epoch 15/15\n",
            "111/111 [==============================] - 2s 21ms/step - loss: 0.0050 - accuracy: 0.9994 - val_loss: 0.7967 - val_accuracy: 0.8510\n"
          ],
          "name": "stdout"
        }
      ]
    },
    {
      "cell_type": "code",
      "metadata": {
        "colab": {
          "base_uri": "https://localhost:8080/"
        },
        "id": "eNnCBNZ3FGo7",
        "outputId": "dfac66f5-e4e3-4b31-b5f3-200361b55d38"
      },
      "source": [
        "score_accuracy = model_cnn1.evaluate(x_test, y_test)"
      ],
      "execution_count": 22,
      "outputs": [
        {
          "output_type": "stream",
          "text": [
            "28/28 [==============================] - 0s 10ms/step - loss: 0.7967 - accuracy: 0.8510\n"
          ],
          "name": "stdout"
        }
      ]
    },
    {
      "cell_type": "code",
      "metadata": {
        "colab": {
          "base_uri": "https://localhost:8080/",
          "height": 201
        },
        "id": "to_mlvd8FDhh",
        "outputId": "4269b693-7774-4527-88b0-127fab518dca"
      },
      "source": [
        "plot_accuracy_loss(history_2)"
      ],
      "execution_count": 23,
      "outputs": [
        {
          "output_type": "display_data",
          "data": {
            "image/png": "[encoded data removed]",
            "text/plain": [
              "<Figure size 720x360 with 2 Axes>"
            ]
          },
          "metadata": {
            "tags": [],
            "needs_background": "light"
          }
        }
      ]
    },
    {
      "cell_type": "markdown",
      "metadata": {
        "id": "BrXqRVvGDuns"
      },
      "source": [
        "### Model 2\n"
      ]
    },
    {
      "cell_type": "code",
      "metadata": {
        "id": "OLpNHO8CFaA1"
      },
      "source": [
        "model_cnn2 = keras.Sequential()\n",
        "\n",
        "model_cnn2.add(keras.layers.Conv2D(filters=16, kernel_size=(7,7), input_shape=(224,224,3), padding='same', activation=\"relu\"))\n",
        "model_cnn2.add(keras.layers.MaxPooling2D())\n",
        "model_cnn2.add(keras.layers.Conv2D(filters=16, kernel_size=(5,5), padding='same', activation=\"relu\"))\n",
        "model_cnn2.add(keras.layers.MaxPooling2D())\n",
        "model_cnn2.add(keras.layers.Conv2D(filters=16, kernel_size=(3,3), padding='same', activation=\"relu\"))\n",
        "model_cnn2.add(keras.layers.MaxPooling2D())\n",
        "\n",
        "\n",
        "model_cnn2.add(keras.layers.Flatten()) # flatten layer \n",
        "model_cnn2.add(keras.layers.Dense(units = 128,activation='relu') )   #input layer\n",
        "model_cnn2.add(keras.layers.Dense(units = 64, activation='relu') )  # hidden layer \n",
        "model_cnn2.add(keras.layers.Dense(units = 4, activation='softmax') ) # output layer \n",
        "\n",
        "model_cnn2.compile(optimizer='adam', loss='sparse_categorical_crossentropy', metrics=['accuracy'])"
      ],
      "execution_count": 24,
      "outputs": []
    },
    {
      "cell_type": "code",
      "metadata": {
        "colab": {
          "base_uri": "https://localhost:8080/"
        },
        "id": "nCFZSBgpFwkh",
        "outputId": "fe115b91-b6b4-42e3-8052-2a7100579093"
      },
      "source": [
        "model_cnn2.summary()"
      ],
      "execution_count": 25,
      "outputs": [
        {
          "output_type": "stream",
          "text": [
            "Model: \"sequential_2\"\n",
            "_________________________________________________________________\n",
            "Layer (type)                 Output Shape              Param #   \n",
            "=================================================================\n",
            "conv2d_4 (Conv2D)            (None, 224, 224, 16)      2368      \n",
            "_________________________________________________________________\n",
            "max_pooling2d_3 (MaxPooling2 (None, 112, 112, 16)      0         \n",
            "_________________________________________________________________\n",
            "conv2d_5 (Conv2D)            (None, 112, 112, 16)      6416      \n",
            "_________________________________________________________________\n",
            "max_pooling2d_4 (MaxPooling2 (None, 56, 56, 16)        0         \n",
            "_________________________________________________________________\n",
            "conv2d_6 (Conv2D)            (None, 56, 56, 16)        2320      \n",
            "_________________________________________________________________\n",
            "max_pooling2d_5 (MaxPooling2 (None, 28, 28, 16)        0         \n",
            "_________________________________________________________________\n",
            "flatten_2 (Flatten)          (None, 12544)             0         \n",
            "_________________________________________________________________\n",
            "dense_6 (Dense)              (None, 128)               1605760   \n",
            "_________________________________________________________________\n",
            "dense_7 (Dense)              (None, 64)                8256      \n",
            "_________________________________________________________________\n",
            "dense_8 (Dense)              (None, 4)                 260       \n",
            "=================================================================\n",
            "Total params: 1,625,380\n",
            "Trainable params: 1,625,380\n",
            "Non-trainable params: 0\n",
            "_________________________________________________________________\n"
          ],
          "name": "stdout"
        }
      ]
    },
    {
      "cell_type": "code",
      "metadata": {
        "colab": {
          "base_uri": "https://localhost:8080/"
        },
        "id": "BPgUD_M-FzEw",
        "outputId": "e634e1d5-5511-42e5-d526-51921f420000"
      },
      "source": [
        "history_3 = model_cnn2.fit(x_train, y_train, validation_data= (x_test,y_test), epochs=15);"
      ],
      "execution_count": 26,
      "outputs": [
        {
          "output_type": "stream",
          "text": [
            "Epoch 1/15\n",
            "111/111 [==============================] - 4s 26ms/step - loss: 0.9229 - accuracy: 0.6124 - val_loss: 0.6620 - val_accuracy: 0.7664\n",
            "Epoch 2/15\n",
            "111/111 [==============================] - 2s 22ms/step - loss: 0.5939 - accuracy: 0.7756 - val_loss: 0.5953 - val_accuracy: 0.7686\n",
            "Epoch 3/15\n",
            "111/111 [==============================] - 2s 22ms/step - loss: 0.5190 - accuracy: 0.8077 - val_loss: 0.4980 - val_accuracy: 0.8126\n",
            "Epoch 4/15\n",
            "111/111 [==============================] - 2s 22ms/step - loss: 0.4208 - accuracy: 0.8512 - val_loss: 0.6467 - val_accuracy: 0.7765\n",
            "Epoch 5/15\n",
            "111/111 [==============================] - 2s 22ms/step - loss: 0.3475 - accuracy: 0.8758 - val_loss: 0.4956 - val_accuracy: 0.8205\n",
            "Epoch 6/15\n",
            "111/111 [==============================] - 2s 22ms/step - loss: 0.2146 - accuracy: 0.9294 - val_loss: 0.5287 - val_accuracy: 0.8115\n",
            "Epoch 7/15\n",
            "111/111 [==============================] - 2s 22ms/step - loss: 0.1509 - accuracy: 0.9500 - val_loss: 0.5411 - val_accuracy: 0.8307\n",
            "Epoch 8/15\n",
            "111/111 [==============================] - 2s 22ms/step - loss: 0.1206 - accuracy: 0.9593 - val_loss: 0.8354 - val_accuracy: 0.7754\n",
            "Epoch 9/15\n",
            "111/111 [==============================] - 2s 22ms/step - loss: 0.0809 - accuracy: 0.9729 - val_loss: 0.9404 - val_accuracy: 0.8002\n",
            "Epoch 10/15\n",
            "111/111 [==============================] - 2s 22ms/step - loss: 0.0596 - accuracy: 0.9805 - val_loss: 0.8871 - val_accuracy: 0.8149\n",
            "Epoch 11/15\n",
            "111/111 [==============================] - 2s 22ms/step - loss: 0.0203 - accuracy: 0.9952 - val_loss: 0.9395 - val_accuracy: 0.7991\n",
            "Epoch 12/15\n",
            "111/111 [==============================] - 2s 22ms/step - loss: 0.0674 - accuracy: 0.9802 - val_loss: 0.6689 - val_accuracy: 0.8318\n",
            "Epoch 13/15\n",
            "111/111 [==============================] - 2s 22ms/step - loss: 0.0244 - accuracy: 0.9924 - val_loss: 1.0207 - val_accuracy: 0.8081\n",
            "Epoch 14/15\n",
            "111/111 [==============================] - 2s 22ms/step - loss: 0.0342 - accuracy: 0.9884 - val_loss: 0.9404 - val_accuracy: 0.8070\n",
            "Epoch 15/15\n",
            "111/111 [==============================] - 2s 22ms/step - loss: 0.0103 - accuracy: 0.9972 - val_loss: 1.0016 - val_accuracy: 0.8273\n"
          ],
          "name": "stdout"
        }
      ]
    },
    {
      "cell_type": "code",
      "metadata": {
        "colab": {
          "base_uri": "https://localhost:8080/"
        },
        "id": "MOJ2BMoJF3uf",
        "outputId": "8c24120e-5ff6-48b8-9076-98a44bd35bd2"
      },
      "source": [
        "score_accuracy = model_cnn2.evaluate(x_test, y_test)"
      ],
      "execution_count": 27,
      "outputs": [
        {
          "output_type": "stream",
          "text": [
            "28/28 [==============================] - 0s 11ms/step - loss: 1.0016 - accuracy: 0.8273\n"
          ],
          "name": "stdout"
        }
      ]
    },
    {
      "cell_type": "code",
      "metadata": {
        "colab": {
          "base_uri": "https://localhost:8080/",
          "height": 201
        },
        "id": "DX06VT0DGB79",
        "outputId": "7920dccf-0138-4a3b-f2c5-696a708d2d3c"
      },
      "source": [
        "plot_accuracy_loss(history_3)"
      ],
      "execution_count": 28,
      "outputs": [
        {
          "output_type": "display_data",
          "data": {
            "image/png": "[encoded data removed]",
            "text/plain": [
              "<Figure size 720x360 with 2 Axes>"
            ]
          },
          "metadata": {
            "tags": [],
            "needs_background": "light"
          }
        }
      ]
    },
    {
      "cell_type": "markdown",
      "metadata": {
        "id": "jWCTeSr8F4TQ"
      },
      "source": [
        "### Model 3"
      ]
    },
    {
      "cell_type": "code",
      "metadata": {
        "id": "460kv4E1KbIE"
      },
      "source": [
        "model_cnn3 = keras.Sequential()\n",
        "\n",
        "model_cnn3.add(keras.layers.Conv2D(filters=32, kernel_size=(7,7), input_shape=(224,224,3), padding='same', activation=\"relu\"))\n",
        "model_cnn3.add(keras.layers.MaxPooling2D())\n",
        "model_cnn3.add(keras.layers.Conv2D(filters=32, kernel_size=(5,5), padding='same', activation=\"relu\"))\n",
        "model_cnn3.add(keras.layers.MaxPooling2D())\n",
        "model_cnn3.add(keras.layers.Conv2D(filters=32, kernel_size=(3,3), padding='same', activation=\"relu\"))\n",
        "model_cnn3.add(keras.layers.MaxPooling2D())\n",
        "\n",
        "\n",
        "model_cnn3.add(keras.layers.Flatten()) # flatten layer \n",
        "model_cnn3.add(keras.layers.Dense(units = 128,activation='relu') )  #input layer \n",
        "model_cnn3.add(keras.layers.Dense(units = 64, activation='relu') )  # hidden layer \n",
        "model_cnn3.add(keras.layers.Dense(units = 4, activation='softmax') ) # output layer \n",
        "\n",
        "model_cnn3.compile(optimizer='adam', loss='sparse_categorical_crossentropy', metrics=['accuracy'])"
      ],
      "execution_count": 28,
      "outputs": []
    },
    {
      "cell_type": "code",
      "metadata": {
        "colab": {
          "base_uri": "https://localhost:8080/"
        },
        "id": "lpl83ATRKouZ",
        "outputId": "95c8b5c2-81b6-4087-b434-422c14c350db"
      },
      "source": [
        "model_cnn3.summary()"
      ],
      "execution_count": 29,
      "outputs": [
        {
          "output_type": "stream",
          "text": [
            "Model: \"sequential_3\"\n",
            "_________________________________________________________________\n",
            "Layer (type)                 Output Shape              Param #   \n",
            "=================================================================\n",
            "conv2d_7 (Conv2D)            (None, 224, 224, 32)      4736      \n",
            "_________________________________________________________________\n",
            "max_pooling2d_6 (MaxPooling2 (None, 112, 112, 32)      0         \n",
            "_________________________________________________________________\n",
            "conv2d_8 (Conv2D)            (None, 112, 112, 32)      25632     \n",
            "_________________________________________________________________\n",
            "max_pooling2d_7 (MaxPooling2 (None, 56, 56, 32)        0         \n",
            "_________________________________________________________________\n",
            "conv2d_9 (Conv2D)            (None, 56, 56, 32)        9248      \n",
            "_________________________________________________________________\n",
            "max_pooling2d_8 (MaxPooling2 (None, 28, 28, 32)        0         \n",
            "_________________________________________________________________\n",
            "flatten_3 (Flatten)          (None, 25088)             0         \n",
            "_________________________________________________________________\n",
            "dense_9 (Dense)              (None, 128)               3211392   \n",
            "_________________________________________________________________\n",
            "dense_10 (Dense)             (None, 64)                8256      \n",
            "_________________________________________________________________\n",
            "dense_11 (Dense)             (None, 4)                 260       \n",
            "=================================================================\n",
            "Total params: 3,259,524\n",
            "Trainable params: 3,259,524\n",
            "Non-trainable params: 0\n",
            "_________________________________________________________________\n"
          ],
          "name": "stdout"
        }
      ]
    },
    {
      "cell_type": "code",
      "metadata": {
        "colab": {
          "base_uri": "https://localhost:8080/"
        },
        "id": "nrx98T3HKp9T",
        "outputId": "638df431-d2a8-4dce-82b3-5356fd2862da"
      },
      "source": [
        "history_4 = model_cnn3.fit(x_train, y_train, validation_data= (x_test,y_test), epochs=15);"
      ],
      "execution_count": 30,
      "outputs": [
        {
          "output_type": "stream",
          "text": [
            "Epoch 1/15\n",
            "111/111 [==============================] - 5s 39ms/step - loss: 1.0410 - accuracy: 0.5390 - val_loss: 0.6899 - val_accuracy: 0.7460\n",
            "Epoch 2/15\n",
            "111/111 [==============================] - 3s 31ms/step - loss: 0.6281 - accuracy: 0.7676 - val_loss: 0.5768 - val_accuracy: 0.8014\n",
            "Epoch 3/15\n",
            "111/111 [==============================] - 3s 31ms/step - loss: 0.5369 - accuracy: 0.8021 - val_loss: 0.5183 - val_accuracy: 0.8047\n",
            "Epoch 4/15\n",
            "111/111 [==============================] - 3s 31ms/step - loss: 0.3951 - accuracy: 0.8492 - val_loss: 0.5410 - val_accuracy: 0.8307\n",
            "Epoch 5/15\n",
            "111/111 [==============================] - 3s 31ms/step - loss: 0.3496 - accuracy: 0.8749 - val_loss: 0.4916 - val_accuracy: 0.8307\n",
            "Epoch 6/15\n",
            "111/111 [==============================] - 3s 31ms/step - loss: 0.2355 - accuracy: 0.9187 - val_loss: 0.4865 - val_accuracy: 0.8352\n",
            "Epoch 7/15\n",
            "111/111 [==============================] - 3s 31ms/step - loss: 0.1906 - accuracy: 0.9365 - val_loss: 0.6763 - val_accuracy: 0.8025\n",
            "Epoch 8/15\n",
            "111/111 [==============================] - 3s 31ms/step - loss: 0.1113 - accuracy: 0.9608 - val_loss: 0.7055 - val_accuracy: 0.8284\n",
            "Epoch 9/15\n",
            "111/111 [==============================] - 3s 31ms/step - loss: 0.0665 - accuracy: 0.9780 - val_loss: 0.8757 - val_accuracy: 0.7607\n",
            "Epoch 10/15\n",
            "111/111 [==============================] - 3s 32ms/step - loss: 0.0504 - accuracy: 0.9853 - val_loss: 0.9006 - val_accuracy: 0.8183\n",
            "Epoch 11/15\n",
            "111/111 [==============================] - 3s 32ms/step - loss: 0.0543 - accuracy: 0.9850 - val_loss: 0.8366 - val_accuracy: 0.8330\n",
            "Epoch 12/15\n",
            "111/111 [==============================] - 3s 31ms/step - loss: 0.0144 - accuracy: 0.9963 - val_loss: 0.9916 - val_accuracy: 0.8172\n",
            "Epoch 13/15\n",
            "111/111 [==============================] - 3s 32ms/step - loss: 0.0476 - accuracy: 0.9853 - val_loss: 0.8829 - val_accuracy: 0.7856\n",
            "Epoch 14/15\n",
            "111/111 [==============================] - 3s 32ms/step - loss: 0.0361 - accuracy: 0.9879 - val_loss: 1.2086 - val_accuracy: 0.8036\n",
            "Epoch 15/15\n",
            "111/111 [==============================] - 3s 31ms/step - loss: 0.0395 - accuracy: 0.9859 - val_loss: 0.9800 - val_accuracy: 0.8284\n"
          ],
          "name": "stdout"
        }
      ]
    },
    {
      "cell_type": "code",
      "metadata": {
        "colab": {
          "base_uri": "https://localhost:8080/"
        },
        "id": "m7qUiLwnKzuS",
        "outputId": "8541995d-ae8e-4419-ceca-91c80ffc27be"
      },
      "source": [
        "score_accuracy = model_cnn3.evaluate(x_test, y_test)"
      ],
      "execution_count": 31,
      "outputs": [
        {
          "output_type": "stream",
          "text": [
            "28/28 [==============================] - 0s 14ms/step - loss: 0.9800 - accuracy: 0.8284\n"
          ],
          "name": "stdout"
        }
      ]
    },
    {
      "cell_type": "code",
      "metadata": {
        "colab": {
          "base_uri": "https://localhost:8080/",
          "height": 201
        },
        "id": "dO5PoPrIK12j",
        "outputId": "c584df19-c53b-4c3e-d14f-53ff570b10ce"
      },
      "source": [
        "plot_accuracy_loss(history_4)"
      ],
      "execution_count": 32,
      "outputs": [
        {
          "output_type": "display_data",
          "data": {
            "image/png": "[encoded data removed]",
            "text/plain": [
              "<Figure size 720x360 with 2 Axes>"
            ]
          },
          "metadata": {
            "tags": [],
            "needs_background": "light"
          }
        }
      ]
    },
    {
      "cell_type": "markdown",
      "metadata": {
        "id": "TD32h3XXKqkO"
      },
      "source": [
        "### Model 4"
      ]
    },
    {
      "cell_type": "code",
      "metadata": {
        "id": "CnicHBB8LOoG"
      },
      "source": [
        "model_cnn4 = keras.Sequential()\n",
        "\n",
        "model_cnn4.add(keras.layers.Conv2D(filters=16, kernel_size=(7,7), input_shape=(224,224,3), padding='same', activation=\"relu\"))\n",
        "model_cnn4.add(keras.layers.MaxPooling2D())\n",
        "model_cnn4.add(keras.layers.Conv2D(filters=16, kernel_size=(7,7), padding='same', activation=\"relu\"))\n",
        "model_cnn4.add(keras.layers.MaxPooling2D())\n",
        "model_cnn4.add(keras.layers.Conv2D(filters=32, kernel_size=(5,5), padding='same', activation=\"relu\"))\n",
        "model_cnn4.add(keras.layers.MaxPooling2D())\n",
        "model_cnn4.add(keras.layers.Conv2D(filters=32, kernel_size=(5,5), padding='same', activation=\"relu\"))\n",
        "model_cnn4.add(keras.layers.MaxPooling2D())\n",
        "\n",
        "model_cnn4.add(keras.layers.Flatten()) # flatten layer \n",
        "model_cnn4.add(keras.layers.Dense(units = 128,activation='relu') ) #input layer  \n",
        "model_cnn4.add(keras.layers.Dense(units = 64, activation='relu') )  # hidden layer \n",
        "model_cnn4.add(keras.layers.Dense(units = 4, activation='softmax') ) # output layer \n",
        "\n",
        "model_cnn4.compile(optimizer='adam', loss='sparse_categorical_crossentropy', metrics=['accuracy'])"
      ],
      "execution_count": 33,
      "outputs": []
    },
    {
      "cell_type": "code",
      "metadata": {
        "colab": {
          "base_uri": "https://localhost:8080/"
        },
        "id": "ldcGx_M3Lpdg",
        "outputId": "b3e33973-43ab-41a8-c770-bc5e801a8c97"
      },
      "source": [
        "model_cnn4.summary()"
      ],
      "execution_count": 34,
      "outputs": [
        {
          "output_type": "stream",
          "text": [
            "Model: \"sequential_4\"\n",
            "_________________________________________________________________\n",
            "Layer (type)                 Output Shape              Param #   \n",
            "=================================================================\n",
            "conv2d_10 (Conv2D)           (None, 224, 224, 16)      2368      \n",
            "_________________________________________________________________\n",
            "max_pooling2d_9 (MaxPooling2 (None, 112, 112, 16)      0         \n",
            "_________________________________________________________________\n",
            "conv2d_11 (Conv2D)           (None, 112, 112, 16)      12560     \n",
            "_________________________________________________________________\n",
            "max_pooling2d_10 (MaxPooling (None, 56, 56, 16)        0         \n",
            "_________________________________________________________________\n",
            "conv2d_12 (Conv2D)           (None, 56, 56, 32)        12832     \n",
            "_________________________________________________________________\n",
            "max_pooling2d_11 (MaxPooling (None, 28, 28, 32)        0         \n",
            "_________________________________________________________________\n",
            "conv2d_13 (Conv2D)           (None, 28, 28, 32)        25632     \n",
            "_________________________________________________________________\n",
            "max_pooling2d_12 (MaxPooling (None, 14, 14, 32)        0         \n",
            "_________________________________________________________________\n",
            "flatten_4 (Flatten)          (None, 6272)              0         \n",
            "_________________________________________________________________\n",
            "dense_12 (Dense)             (None, 128)               802944    \n",
            "_________________________________________________________________\n",
            "dense_13 (Dense)             (None, 64)                8256      \n",
            "_________________________________________________________________\n",
            "dense_14 (Dense)             (None, 4)                 260       \n",
            "=================================================================\n",
            "Total params: 864,852\n",
            "Trainable params: 864,852\n",
            "Non-trainable params: 0\n",
            "_________________________________________________________________\n"
          ],
          "name": "stdout"
        }
      ]
    },
    {
      "cell_type": "code",
      "metadata": {
        "colab": {
          "base_uri": "https://localhost:8080/"
        },
        "id": "n1S6_hsCLtM7",
        "outputId": "63cf9e6c-690c-4b0c-c1df-6ccc32af82c8"
      },
      "source": [
        "history_5 = model_cnn4.fit(x_train, y_train, validation_data= (x_test,y_test), epochs=15);"
      ],
      "execution_count": 35,
      "outputs": [
        {
          "output_type": "stream",
          "text": [
            "Epoch 1/15\n",
            "111/111 [==============================] - 4s 31ms/step - loss: 1.0606 - accuracy: 0.5215 - val_loss: 0.7037 - val_accuracy: 0.7517\n",
            "Epoch 2/15\n",
            "111/111 [==============================] - 3s 24ms/step - loss: 0.6916 - accuracy: 0.7482 - val_loss: 0.5897 - val_accuracy: 0.7901\n",
            "Epoch 3/15\n",
            "111/111 [==============================] - 3s 24ms/step - loss: 0.5915 - accuracy: 0.7747 - val_loss: 0.5633 - val_accuracy: 0.7833\n",
            "Epoch 4/15\n",
            "111/111 [==============================] - 3s 24ms/step - loss: 0.4889 - accuracy: 0.8199 - val_loss: 0.5111 - val_accuracy: 0.8160\n",
            "Epoch 5/15\n",
            "111/111 [==============================] - 3s 24ms/step - loss: 0.4520 - accuracy: 0.8317 - val_loss: 0.5061 - val_accuracy: 0.8070\n",
            "Epoch 6/15\n",
            "111/111 [==============================] - 3s 24ms/step - loss: 0.3897 - accuracy: 0.8566 - val_loss: 0.4884 - val_accuracy: 0.8273\n",
            "Epoch 7/15\n",
            "111/111 [==============================] - 3s 24ms/step - loss: 0.3196 - accuracy: 0.8840 - val_loss: 0.4879 - val_accuracy: 0.8228\n",
            "Epoch 8/15\n",
            "111/111 [==============================] - 3s 24ms/step - loss: 0.2525 - accuracy: 0.9111 - val_loss: 0.5422 - val_accuracy: 0.8375\n",
            "Epoch 9/15\n",
            "111/111 [==============================] - 3s 24ms/step - loss: 0.1843 - accuracy: 0.9356 - val_loss: 0.6087 - val_accuracy: 0.8059\n",
            "Epoch 10/15\n",
            "111/111 [==============================] - 3s 24ms/step - loss: 0.1497 - accuracy: 0.9495 - val_loss: 0.6253 - val_accuracy: 0.8296\n",
            "Epoch 11/15\n",
            "111/111 [==============================] - 3s 24ms/step - loss: 0.1190 - accuracy: 0.9608 - val_loss: 0.5567 - val_accuracy: 0.8363\n",
            "Epoch 12/15\n",
            "111/111 [==============================] - 3s 24ms/step - loss: 0.1022 - accuracy: 0.9630 - val_loss: 0.7688 - val_accuracy: 0.8115\n",
            "Epoch 13/15\n",
            "111/111 [==============================] - 3s 24ms/step - loss: 0.0508 - accuracy: 0.9833 - val_loss: 0.8986 - val_accuracy: 0.8228\n",
            "Epoch 14/15\n",
            "111/111 [==============================] - 3s 24ms/step - loss: 0.0452 - accuracy: 0.9859 - val_loss: 0.8908 - val_accuracy: 0.8318\n",
            "Epoch 15/15\n",
            "111/111 [==============================] - 3s 24ms/step - loss: 0.0434 - accuracy: 0.9833 - val_loss: 0.9300 - val_accuracy: 0.8183\n"
          ],
          "name": "stdout"
        }
      ]
    },
    {
      "cell_type": "code",
      "metadata": {
        "colab": {
          "base_uri": "https://localhost:8080/"
        },
        "id": "NdXEi3l6LwIT",
        "outputId": "566a5ae7-80f9-4719-895c-ecb1ddda2122"
      },
      "source": [
        "score_accuracy = model_cnn4.evaluate(x_test, y_test)"
      ],
      "execution_count": 36,
      "outputs": [
        {
          "output_type": "stream",
          "text": [
            "28/28 [==============================] - 0s 12ms/step - loss: 0.9300 - accuracy: 0.8183\n"
          ],
          "name": "stdout"
        }
      ]
    },
    {
      "cell_type": "code",
      "metadata": {
        "colab": {
          "base_uri": "https://localhost:8080/",
          "height": 201
        },
        "id": "w8_M0Je_LydV",
        "outputId": "9dab3775-aeb2-4cd1-911c-fb1158faf191"
      },
      "source": [
        "plot_accuracy_loss(history_5)"
      ],
      "execution_count": 37,
      "outputs": [
        {
          "output_type": "display_data",
          "data": {
            "image/png": "[encoded data removed]",
            "text/plain": [
              "<Figure size 720x360 with 2 Axes>"
            ]
          },
          "metadata": {
            "tags": [],
            "needs_background": "light"
          }
        }
      ]
    },
    {
      "cell_type": "markdown",
      "metadata": {
        "id": "7T6xZ8m0LntU"
      },
      "source": [
        "### Model 5"
      ]
    },
    {
      "cell_type": "code",
      "metadata": {
        "id": "BKWILJd5LgJR"
      },
      "source": [
        "model_cnn5 = keras.Sequential()\n",
        "\n",
        "model_cnn5.add(keras.layers.Conv2D(filters=16, kernel_size=(5,5), input_shape=(224,224,3), padding='same', activation=\"relu\"))\n",
        "model_cnn5.add(keras.layers.MaxPooling2D())\n",
        "model_cnn5.add(keras.layers.Conv2D(filters=16, kernel_size=(5,5), padding='same', activation=\"relu\"))\n",
        "model_cnn5.add(keras.layers.MaxPooling2D())\n",
        "model_cnn5.add(keras.layers.Conv2D(filters=32, kernel_size=(3,3), padding='same', activation=\"relu\"))\n",
        "model_cnn5.add(keras.layers.MaxPooling2D())\n",
        "model_cnn5.add(keras.layers.Conv2D(filters=32, kernel_size=(3,3), padding='same', activation=\"relu\"))\n",
        "model_cnn5.add(keras.layers.MaxPooling2D())\n",
        "\n",
        "model_cnn5.add(keras.layers.Flatten()) # flatten layer \n",
        "model_cnn5.add(keras.layers.Dense(units = 128,activation='relu') ) #input layer  \n",
        "model_cnn5.add(keras.layers.Dense(units = 64, activation='relu') )  # hidden layer \n",
        "model_cnn5.add(keras.layers.Dense(units = 4, activation='softmax') ) # output layer \n",
        "\n",
        "model_cnn5.compile(optimizer='adam', loss='sparse_categorical_crossentropy', metrics=['accuracy'])"
      ],
      "execution_count": 38,
      "outputs": []
    },
    {
      "cell_type": "code",
      "metadata": {
        "colab": {
          "base_uri": "https://localhost:8080/"
        },
        "id": "xQCFaUFLNaAm",
        "outputId": "2dfe3ea1-fb79-48f0-8646-10286bf6880d"
      },
      "source": [
        "model_cnn5.summary()"
      ],
      "execution_count": 39,
      "outputs": [
        {
          "output_type": "stream",
          "text": [
            "Model: \"sequential_5\"\n",
            "_________________________________________________________________\n",
            "Layer (type)                 Output Shape              Param #   \n",
            "=================================================================\n",
            "conv2d_14 (Conv2D)           (None, 224, 224, 16)      1216      \n",
            "_________________________________________________________________\n",
            "max_pooling2d_13 (MaxPooling (None, 112, 112, 16)      0         \n",
            "_________________________________________________________________\n",
            "conv2d_15 (Conv2D)           (None, 112, 112, 16)      6416      \n",
            "_________________________________________________________________\n",
            "max_pooling2d_14 (MaxPooling (None, 56, 56, 16)        0         \n",
            "_________________________________________________________________\n",
            "conv2d_16 (Conv2D)           (None, 56, 56, 32)        4640      \n",
            "_________________________________________________________________\n",
            "max_pooling2d_15 (MaxPooling (None, 28, 28, 32)        0         \n",
            "_________________________________________________________________\n",
            "conv2d_17 (Conv2D)           (None, 28, 28, 32)        9248      \n",
            "_________________________________________________________________\n",
            "max_pooling2d_16 (MaxPooling (None, 14, 14, 32)        0         \n",
            "_________________________________________________________________\n",
            "flatten_5 (Flatten)          (None, 6272)              0         \n",
            "_________________________________________________________________\n",
            "dense_15 (Dense)             (None, 128)               802944    \n",
            "_________________________________________________________________\n",
            "dense_16 (Dense)             (None, 64)                8256      \n",
            "_________________________________________________________________\n",
            "dense_17 (Dense)             (None, 4)                 260       \n",
            "=================================================================\n",
            "Total params: 832,980\n",
            "Trainable params: 832,980\n",
            "Non-trainable params: 0\n",
            "_________________________________________________________________\n"
          ],
          "name": "stdout"
        }
      ]
    },
    {
      "cell_type": "code",
      "metadata": {
        "colab": {
          "base_uri": "https://localhost:8080/"
        },
        "id": "3z2kauxcQkb1",
        "outputId": "db9ff427-d653-422b-980d-66c2c52ed892"
      },
      "source": [
        "history_6 = model_cnn5.fit(x_train, y_train, validation_data= (x_test,y_test), epochs=15);"
      ],
      "execution_count": 40,
      "outputs": [
        {
          "output_type": "stream",
          "text": [
            "Epoch 1/15\n",
            "111/111 [==============================] - 3s 27ms/step - loss: 1.0158 - accuracy: 0.5635 - val_loss: 0.6801 - val_accuracy: 0.7449\n",
            "Epoch 2/15\n",
            "111/111 [==============================] - 2s 21ms/step - loss: 0.6388 - accuracy: 0.7688 - val_loss: 0.6375 - val_accuracy: 0.7348\n",
            "Epoch 3/15\n",
            "111/111 [==============================] - 2s 21ms/step - loss: 0.5490 - accuracy: 0.7956 - val_loss: 0.5334 - val_accuracy: 0.8025\n",
            "Epoch 4/15\n",
            "111/111 [==============================] - 2s 21ms/step - loss: 0.4583 - accuracy: 0.8289 - val_loss: 0.5238 - val_accuracy: 0.8273\n",
            "Epoch 5/15\n",
            "111/111 [==============================] - 2s 21ms/step - loss: 0.4215 - accuracy: 0.8425 - val_loss: 0.4360 - val_accuracy: 0.8409\n",
            "Epoch 6/15\n",
            "111/111 [==============================] - 2s 21ms/step - loss: 0.3322 - accuracy: 0.8786 - val_loss: 0.4044 - val_accuracy: 0.8465\n",
            "Epoch 7/15\n",
            "111/111 [==============================] - 2s 21ms/step - loss: 0.2473 - accuracy: 0.9150 - val_loss: 0.4455 - val_accuracy: 0.8386\n",
            "Epoch 8/15\n",
            "111/111 [==============================] - 2s 21ms/step - loss: 0.2340 - accuracy: 0.9198 - val_loss: 0.4775 - val_accuracy: 0.8330\n",
            "Epoch 9/15\n",
            "111/111 [==============================] - 2s 21ms/step - loss: 0.1594 - accuracy: 0.9410 - val_loss: 0.6106 - val_accuracy: 0.8363\n",
            "Epoch 10/15\n",
            "111/111 [==============================] - 2s 21ms/step - loss: 0.1023 - accuracy: 0.9673 - val_loss: 0.5236 - val_accuracy: 0.8521\n",
            "Epoch 11/15\n",
            "111/111 [==============================] - 2s 21ms/step - loss: 0.1081 - accuracy: 0.9641 - val_loss: 0.5500 - val_accuracy: 0.8600\n",
            "Epoch 12/15\n",
            "111/111 [==============================] - 2s 21ms/step - loss: 0.0626 - accuracy: 0.9788 - val_loss: 0.6628 - val_accuracy: 0.8330\n",
            "Epoch 13/15\n",
            "111/111 [==============================] - 2s 21ms/step - loss: 0.0452 - accuracy: 0.9833 - val_loss: 0.5964 - val_accuracy: 0.8578\n",
            "Epoch 14/15\n",
            "111/111 [==============================] - 2s 21ms/step - loss: 0.0713 - accuracy: 0.9794 - val_loss: 0.5369 - val_accuracy: 0.8510\n",
            "Epoch 15/15\n",
            "111/111 [==============================] - 2s 21ms/step - loss: 0.0944 - accuracy: 0.9675 - val_loss: 0.6147 - val_accuracy: 0.8521\n"
          ],
          "name": "stdout"
        }
      ]
    },
    {
      "cell_type": "code",
      "metadata": {
        "colab": {
          "base_uri": "https://localhost:8080/"
        },
        "id": "S-LMglbHQqNQ",
        "outputId": "338bb212-a270-4ee1-fc67-9224c9baa1c9"
      },
      "source": [
        "score_accuracy = model_cnn5.evaluate(x_test, y_test)"
      ],
      "execution_count": 41,
      "outputs": [
        {
          "output_type": "stream",
          "text": [
            "28/28 [==============================] - 0s 11ms/step - loss: 0.6147 - accuracy: 0.8521\n"
          ],
          "name": "stdout"
        }
      ]
    },
    {
      "cell_type": "code",
      "metadata": {
        "colab": {
          "base_uri": "https://localhost:8080/",
          "height": 201
        },
        "id": "BMptEN5-Q4_6",
        "outputId": "e116e593-4d87-4789-a469-354777dd7976"
      },
      "source": [
        "plot_accuracy_loss(history_6)"
      ],
      "execution_count": 42,
      "outputs": [
        {
          "output_type": "display_data",
          "data": {
            "image/png": "[encoded data removed]",
            "text/plain": [
              "<Figure size 720x360 with 2 Axes>"
            ]
          },
          "metadata": {
            "tags": [],
            "needs_background": "light"
          }
        }
      ]
    },
    {
      "cell_type": "markdown",
      "metadata": {
        "id": "Bpv1r1niQrZY"
      },
      "source": [
        "### Model 6"
      ]
    },
    {
      "cell_type": "code",
      "metadata": {
        "id": "WolxGWdIHZcF"
      },
      "source": [
        "model_cnn6 = keras.Sequential()\n",
        "\n",
        "model_cnn6.add(keras.layers.Conv2D(filters=16, kernel_size=(7,7), input_shape=(224,224,3), padding='same', activation=\"relu\"))\n",
        "model_cnn6.add(keras.layers.MaxPooling2D())\n",
        "model_cnn6.add(keras.layers.Conv2D(filters=16, kernel_size=(5,5), padding='same', activation=\"relu\"))\n",
        "model_cnn6.add(keras.layers.MaxPooling2D())\n",
        "model_cnn6.add(keras.layers.Conv2D(filters=32, kernel_size=(3,3), padding='same', activation=\"relu\"))\n",
        "model_cnn6.add(keras.layers.MaxPooling2D())\n",
        "model_cnn6.add(keras.layers.Conv2D(filters=32, kernel_size=(3,3), padding='same', activation=\"relu\"))\n",
        "model_cnn6.add(keras.layers.MaxPooling2D())\n",
        "\n",
        "model_cnn6.add(keras.layers.Flatten()) # flatten layer \n",
        "model_cnn6.add(keras.layers.Dense(units = 128,activation='relu') )   \n",
        "model_cnn6.add(keras.layers.Dense(units = 64, activation='relu') )  # hidden layer \n",
        "model_cnn6.add(keras.layers.Dense(units = 4, activation='softmax') ) # output layer \n",
        "\n",
        "model_cnn6.compile(optimizer='adam', loss='sparse_categorical_crossentropy', metrics=['accuracy'])"
      ],
      "execution_count": 43,
      "outputs": []
    },
    {
      "cell_type": "code",
      "metadata": {
        "colab": {
          "base_uri": "https://localhost:8080/"
        },
        "id": "uqG2Tp4uHo4y",
        "outputId": "7b1586b5-167c-459f-d775-58c12acfe08c"
      },
      "source": [
        "model_cnn6.summary()"
      ],
      "execution_count": 44,
      "outputs": [
        {
          "output_type": "stream",
          "text": [
            "Model: \"sequential_6\"\n",
            "_________________________________________________________________\n",
            "Layer (type)                 Output Shape              Param #   \n",
            "=================================================================\n",
            "conv2d_18 (Conv2D)           (None, 224, 224, 16)      2368      \n",
            "_________________________________________________________________\n",
            "max_pooling2d_17 (MaxPooling (None, 112, 112, 16)      0         \n",
            "_________________________________________________________________\n",
            "conv2d_19 (Conv2D)           (None, 112, 112, 16)      6416      \n",
            "_________________________________________________________________\n",
            "max_pooling2d_18 (MaxPooling (None, 56, 56, 16)        0         \n",
            "_________________________________________________________________\n",
            "conv2d_20 (Conv2D)           (None, 56, 56, 32)        4640      \n",
            "_________________________________________________________________\n",
            "max_pooling2d_19 (MaxPooling (None, 28, 28, 32)        0         \n",
            "_________________________________________________________________\n",
            "conv2d_21 (Conv2D)           (None, 28, 28, 32)        9248      \n",
            "_________________________________________________________________\n",
            "max_pooling2d_20 (MaxPooling (None, 14, 14, 32)        0         \n",
            "_________________________________________________________________\n",
            "flatten_6 (Flatten)          (None, 6272)              0         \n",
            "_________________________________________________________________\n",
            "dense_18 (Dense)             (None, 128)               802944    \n",
            "_________________________________________________________________\n",
            "dense_19 (Dense)             (None, 64)                8256      \n",
            "_________________________________________________________________\n",
            "dense_20 (Dense)             (None, 4)                 260       \n",
            "=================================================================\n",
            "Total params: 834,132\n",
            "Trainable params: 834,132\n",
            "Non-trainable params: 0\n",
            "_________________________________________________________________\n"
          ],
          "name": "stdout"
        }
      ]
    },
    {
      "cell_type": "code",
      "metadata": {
        "colab": {
          "base_uri": "https://localhost:8080/"
        },
        "id": "HRbng3u9HzNb",
        "outputId": "d652ed48-76f8-42d0-dd7a-0b30efefd1c7"
      },
      "source": [
        "history_7 = model_cnn6.fit(x_train, y_train, validation_data= (x_test,y_test), epochs=15);"
      ],
      "execution_count": 45,
      "outputs": [
        {
          "output_type": "stream",
          "text": [
            "Epoch 1/15\n",
            "111/111 [==============================] - 4s 27ms/step - loss: 1.0809 - accuracy: 0.5285 - val_loss: 0.7914 - val_accuracy: 0.7088\n",
            "Epoch 2/15\n",
            "111/111 [==============================] - 3s 23ms/step - loss: 0.7121 - accuracy: 0.7357 - val_loss: 0.6338 - val_accuracy: 0.7720\n",
            "Epoch 3/15\n",
            "111/111 [==============================] - 3s 23ms/step - loss: 0.6279 - accuracy: 0.7645 - val_loss: 0.5936 - val_accuracy: 0.7856\n",
            "Epoch 4/15\n",
            "111/111 [==============================] - 3s 23ms/step - loss: 0.5124 - accuracy: 0.8091 - val_loss: 0.5592 - val_accuracy: 0.8126\n",
            "Epoch 5/15\n",
            "111/111 [==============================] - 3s 23ms/step - loss: 0.4669 - accuracy: 0.8213 - val_loss: 0.5277 - val_accuracy: 0.8070\n",
            "Epoch 6/15\n",
            "111/111 [==============================] - 3s 23ms/step - loss: 0.3706 - accuracy: 0.8673 - val_loss: 0.5241 - val_accuracy: 0.8217\n",
            "Epoch 7/15\n",
            "111/111 [==============================] - 3s 23ms/step - loss: 0.2801 - accuracy: 0.8967 - val_loss: 0.6593 - val_accuracy: 0.7856\n",
            "Epoch 8/15\n",
            "111/111 [==============================] - 3s 24ms/step - loss: 0.2172 - accuracy: 0.9241 - val_loss: 0.6855 - val_accuracy: 0.8149\n",
            "Epoch 9/15\n",
            "111/111 [==============================] - 3s 23ms/step - loss: 0.1474 - accuracy: 0.9464 - val_loss: 0.6535 - val_accuracy: 0.8160\n",
            "Epoch 10/15\n",
            "111/111 [==============================] - 3s 23ms/step - loss: 0.1209 - accuracy: 0.9585 - val_loss: 0.8071 - val_accuracy: 0.7856\n",
            "Epoch 11/15\n",
            "111/111 [==============================] - 3s 23ms/step - loss: 0.0756 - accuracy: 0.9729 - val_loss: 1.0257 - val_accuracy: 0.8262\n",
            "Epoch 12/15\n",
            "111/111 [==============================] - 3s 23ms/step - loss: 0.0703 - accuracy: 0.9760 - val_loss: 0.9833 - val_accuracy: 0.7889\n",
            "Epoch 13/15\n",
            "111/111 [==============================] - 3s 24ms/step - loss: 0.0934 - accuracy: 0.9661 - val_loss: 0.9075 - val_accuracy: 0.8183\n",
            "Epoch 14/15\n",
            "111/111 [==============================] - 3s 23ms/step - loss: 0.0260 - accuracy: 0.9932 - val_loss: 1.3301 - val_accuracy: 0.8025\n",
            "Epoch 15/15\n",
            "111/111 [==============================] - 3s 23ms/step - loss: 0.0199 - accuracy: 0.9938 - val_loss: 1.3121 - val_accuracy: 0.8194\n"
          ],
          "name": "stdout"
        }
      ]
    },
    {
      "cell_type": "code",
      "metadata": {
        "colab": {
          "base_uri": "https://localhost:8080/"
        },
        "id": "eTutGiFVHwDW",
        "outputId": "92158949-d011-4b31-af4e-6db66fd42f39"
      },
      "source": [
        "score_accuracy = model_cnn6.evaluate(x_test, y_test)"
      ],
      "execution_count": 46,
      "outputs": [
        {
          "output_type": "stream",
          "text": [
            "28/28 [==============================] - 0s 12ms/step - loss: 1.3121 - accuracy: 0.8194\n"
          ],
          "name": "stdout"
        }
      ]
    },
    {
      "cell_type": "code",
      "metadata": {
        "colab": {
          "base_uri": "https://localhost:8080/",
          "height": 201
        },
        "id": "41Vpd43wIBL-",
        "outputId": "9648b042-d366-47ff-dd30-c907126a4514"
      },
      "source": [
        "plot_accuracy_loss(history_7)"
      ],
      "execution_count": 47,
      "outputs": [
        {
          "output_type": "display_data",
          "data": {
            "image/png": "[encoded data removed]",
            "text/plain": [
              "<Figure size 720x360 with 2 Axes>"
            ]
          },
          "metadata": {
            "tags": [],
            "needs_background": "light"
          }
        }
      ]
    },
    {
      "cell_type": "markdown",
      "metadata": {
        "id": "jdcf93LcI17u"
      },
      "source": [
        "### Model 7 +dropout 0.5"
      ]
    },
    {
      "cell_type": "code",
      "metadata": {
        "id": "bMhmAfP7I091"
      },
      "source": [
        "model_cnn7 = keras.Sequential()\n",
        "\n",
        "model_cnn7.add(keras.layers.Conv2D(filters=16, kernel_size=(5,5), input_shape=(224,224,3), padding='same', activation=\"relu\"))\n",
        "model_cnn7.add(keras.layers.MaxPooling2D())\n",
        "model_cnn7.add(keras.layers.Conv2D(filters=16, kernel_size=(5,5), padding='same', activation=\"relu\"))\n",
        "model_cnn7.add(keras.layers.MaxPooling2D())\n",
        "model_cnn7.add(keras.layers.Conv2D(filters=32, kernel_size=(3,3), padding='same', activation=\"relu\"))\n",
        "model_cnn7.add(keras.layers.MaxPooling2D())\n",
        "model_cnn7.add(keras.layers.Conv2D(filters=32, kernel_size=(3,3), padding='same', activation=\"relu\"))\n",
        "model_cnn7.add(keras.layers.MaxPooling2D())\n",
        "\n",
        "#Dropout\n",
        "model_cnn7.add(keras.layers.Dropout(0.5))\n",
        "\n",
        "\n",
        "model_cnn7.add(keras.layers.Flatten()) # flatten layer \n",
        "#model_cnn.add(keras.layers.Dense(units = 512,activation='relu') ) #input layer\n",
        "model_cnn7.add(keras.layers.Dense(units = 128,activation='relu') )   \n",
        "model_cnn7.add(keras.layers.Dense(units = 64, activation='relu') )  # hidden layer \n",
        "model_cnn7.add(keras.layers.Dense(units = 4, activation='softmax') ) # output layer \n",
        "\n",
        "model_cnn7.compile(optimizer='adam', loss='sparse_categorical_crossentropy', metrics=['accuracy'])"
      ],
      "execution_count": 48,
      "outputs": []
    },
    {
      "cell_type": "code",
      "metadata": {
        "colab": {
          "base_uri": "https://localhost:8080/"
        },
        "id": "Slr0unXTJEAr",
        "outputId": "1e02be4b-e3a3-4b5b-8215-f0658fe25bcf"
      },
      "source": [
        "model_cnn7.summary()"
      ],
      "execution_count": 49,
      "outputs": [
        {
          "output_type": "stream",
          "text": [
            "Model: \"sequential_7\"\n",
            "_________________________________________________________________\n",
            "Layer (type)                 Output Shape              Param #   \n",
            "=================================================================\n",
            "conv2d_22 (Conv2D)           (None, 224, 224, 16)      1216      \n",
            "_________________________________________________________________\n",
            "max_pooling2d_21 (MaxPooling (None, 112, 112, 16)      0         \n",
            "_________________________________________________________________\n",
            "conv2d_23 (Conv2D)           (None, 112, 112, 16)      6416      \n",
            "_________________________________________________________________\n",
            "max_pooling2d_22 (MaxPooling (None, 56, 56, 16)        0         \n",
            "_________________________________________________________________\n",
            "conv2d_24 (Conv2D)           (None, 56, 56, 32)        4640      \n",
            "_________________________________________________________________\n",
            "max_pooling2d_23 (MaxPooling (None, 28, 28, 32)        0         \n",
            "_________________________________________________________________\n",
            "conv2d_25 (Conv2D)           (None, 28, 28, 32)        9248      \n",
            "_________________________________________________________________\n",
            "max_pooling2d_24 (MaxPooling (None, 14, 14, 32)        0         \n",
            "_________________________________________________________________\n",
            "dropout (Dropout)            (None, 14, 14, 32)        0         \n",
            "_________________________________________________________________\n",
            "flatten_7 (Flatten)          (None, 6272)              0         \n",
            "_________________________________________________________________\n",
            "dense_21 (Dense)             (None, 128)               802944    \n",
            "_________________________________________________________________\n",
            "dense_22 (Dense)             (None, 64)                8256      \n",
            "_________________________________________________________________\n",
            "dense_23 (Dense)             (None, 4)                 260       \n",
            "=================================================================\n",
            "Total params: 832,980\n",
            "Trainable params: 832,980\n",
            "Non-trainable params: 0\n",
            "_________________________________________________________________\n"
          ],
          "name": "stdout"
        }
      ]
    },
    {
      "cell_type": "code",
      "metadata": {
        "colab": {
          "base_uri": "https://localhost:8080/"
        },
        "id": "DUt2NSSBJJ3Q",
        "outputId": "7bbb59b5-bea0-4a79-8a84-f01398f9199c"
      },
      "source": [
        "history_8 = model_cnn7.fit(x_train, y_train, validation_data= (x_test,y_test), epochs=15);"
      ],
      "execution_count": 50,
      "outputs": [
        {
          "output_type": "stream",
          "text": [
            "Epoch 1/15\n",
            "111/111 [==============================] - 3s 25ms/step - loss: 0.9666 - accuracy: 0.5966 - val_loss: 0.6968 - val_accuracy: 0.7619\n",
            "Epoch 2/15\n",
            "111/111 [==============================] - 2s 23ms/step - loss: 0.6009 - accuracy: 0.7840 - val_loss: 0.6354 - val_accuracy: 0.7709\n",
            "Epoch 3/15\n",
            "111/111 [==============================] - 3s 23ms/step - loss: 0.5626 - accuracy: 0.7866 - val_loss: 0.4982 - val_accuracy: 0.8386\n",
            "Epoch 4/15\n",
            "111/111 [==============================] - 2s 22ms/step - loss: 0.4520 - accuracy: 0.8405 - val_loss: 0.5331 - val_accuracy: 0.8239\n",
            "Epoch 5/15\n",
            "111/111 [==============================] - 3s 23ms/step - loss: 0.4118 - accuracy: 0.8515 - val_loss: 0.5030 - val_accuracy: 0.8228\n",
            "Epoch 6/15\n",
            "111/111 [==============================] - 3s 23ms/step - loss: 0.3627 - accuracy: 0.8744 - val_loss: 0.3998 - val_accuracy: 0.8713\n",
            "Epoch 7/15\n",
            "111/111 [==============================] - 3s 23ms/step - loss: 0.2953 - accuracy: 0.8947 - val_loss: 0.4123 - val_accuracy: 0.8657\n",
            "Epoch 8/15\n",
            "111/111 [==============================] - 3s 23ms/step - loss: 0.2773 - accuracy: 0.9029 - val_loss: 0.5217 - val_accuracy: 0.8251\n",
            "Epoch 9/15\n",
            "111/111 [==============================] - 2s 23ms/step - loss: 0.2370 - accuracy: 0.9156 - val_loss: 0.5452 - val_accuracy: 0.8081\n",
            "Epoch 10/15\n",
            "111/111 [==============================] - 2s 23ms/step - loss: 0.2291 - accuracy: 0.9204 - val_loss: 0.4104 - val_accuracy: 0.8725\n",
            "Epoch 11/15\n",
            "111/111 [==============================] - 3s 23ms/step - loss: 0.1732 - accuracy: 0.9353 - val_loss: 0.4484 - val_accuracy: 0.8725\n",
            "Epoch 12/15\n",
            "111/111 [==============================] - 2s 23ms/step - loss: 0.1580 - accuracy: 0.9449 - val_loss: 0.4446 - val_accuracy: 0.8691\n",
            "Epoch 13/15\n",
            "111/111 [==============================] - 2s 23ms/step - loss: 0.1509 - accuracy: 0.9458 - val_loss: 0.4989 - val_accuracy: 0.8657\n",
            "Epoch 14/15\n",
            "111/111 [==============================] - 3s 23ms/step - loss: 0.1201 - accuracy: 0.9557 - val_loss: 0.4045 - val_accuracy: 0.8736\n",
            "Epoch 15/15\n",
            "111/111 [==============================] - 2s 22ms/step - loss: 0.0984 - accuracy: 0.9630 - val_loss: 0.5002 - val_accuracy: 0.8702\n"
          ],
          "name": "stdout"
        }
      ]
    },
    {
      "cell_type": "code",
      "metadata": {
        "colab": {
          "base_uri": "https://localhost:8080/"
        },
        "id": "8-weP6TnJUQe",
        "outputId": "ed3cb861-d073-4aa5-f9c5-5e3df32ddd55"
      },
      "source": [
        "score_accuracy = model_cnn7.evaluate(x_test, y_test)"
      ],
      "execution_count": 52,
      "outputs": [
        {
          "output_type": "stream",
          "text": [
            "28/28 [==============================] - 0s 11ms/step - loss: 0.5002 - accuracy: 0.8702\n"
          ],
          "name": "stdout"
        }
      ]
    },
    {
      "cell_type": "code",
      "metadata": {
        "colab": {
          "base_uri": "https://localhost:8080/",
          "height": 201
        },
        "id": "Con1JOzyJgYi",
        "outputId": "6399e9df-c54e-4dde-aed6-36568cc2e6d4"
      },
      "source": [
        "plot_accuracy_loss(history_8)"
      ],
      "execution_count": 53,
      "outputs": [
        {
          "output_type": "display_data",
          "data": {
            "image/png": "[encoded data removed]",
            "text/plain": [
              "<Figure size 720x360 with 2 Axes>"
            ]
          },
          "metadata": {
            "tags": [],
            "needs_background": "light"
          }
        }
      ]
    },
    {
      "cell_type": "markdown",
      "metadata": {
        "id": "ctUklV8uJEgN"
      },
      "source": [
        "### Model 8 + dropout 0.6\n"
      ]
    },
    {
      "cell_type": "code",
      "metadata": {
        "id": "Z3kvcWmFJfji"
      },
      "source": [
        "model_cnn8 = keras.Sequential()\n",
        "\n",
        "model_cnn8.add(keras.layers.Conv2D(filters=16, kernel_size=(5,5), input_shape=(224,224,3), padding='same', activation=\"relu\"))\n",
        "model_cnn8.add(keras.layers.MaxPooling2D())\n",
        "model_cnn8.add(keras.layers.Conv2D(filters=16, kernel_size=(5,5), padding='same', activation=\"relu\"))\n",
        "model_cnn8.add(keras.layers.MaxPooling2D())\n",
        "model_cnn8.add(keras.layers.Conv2D(filters=32, kernel_size=(3,3), padding='same', activation=\"relu\"))\n",
        "model_cnn8.add(keras.layers.MaxPooling2D())\n",
        "model_cnn8.add(keras.layers.Conv2D(filters=32, kernel_size=(3,3), padding='same', activation=\"relu\"))\n",
        "model_cnn8.add(keras.layers.MaxPooling2D())\n",
        "\n",
        "#Dropout\n",
        "model_cnn8.add(keras.layers.Dropout(0.6))\n",
        "\n",
        "model_cnn8.add(keras.layers.Flatten()) # flatten layer \n",
        "model_cnn8.add(keras.layers.Dense(units = 128,activation='relu') )   #input layer\n",
        "model_cnn8.add(keras.layers.Dense(units = 64, activation='relu') )  # hidden layer \n",
        "model_cnn8.add(keras.layers.Dense(units = 4, activation='softmax') ) # output layer \n",
        "\n",
        "model_cnn8.compile(optimizer='adam', loss='sparse_categorical_crossentropy', metrics=['accuracy'])"
      ],
      "execution_count": 54,
      "outputs": []
    },
    {
      "cell_type": "code",
      "metadata": {
        "colab": {
          "base_uri": "https://localhost:8080/"
        },
        "id": "5l5M__72JzTW",
        "outputId": "15f78c8c-9025-4c82-ac9f-57ea4666fbb4"
      },
      "source": [
        "model_cnn8.summary()"
      ],
      "execution_count": 55,
      "outputs": [
        {
          "output_type": "stream",
          "text": [
            "Model: \"sequential_8\"\n",
            "_________________________________________________________________\n",
            "Layer (type)                 Output Shape              Param #   \n",
            "=================================================================\n",
            "conv2d_26 (Conv2D)           (None, 224, 224, 16)      1216      \n",
            "_________________________________________________________________\n",
            "max_pooling2d_25 (MaxPooling (None, 112, 112, 16)      0         \n",
            "_________________________________________________________________\n",
            "conv2d_27 (Conv2D)           (None, 112, 112, 16)      6416      \n",
            "_________________________________________________________________\n",
            "max_pooling2d_26 (MaxPooling (None, 56, 56, 16)        0         \n",
            "_________________________________________________________________\n",
            "conv2d_28 (Conv2D)           (None, 56, 56, 32)        4640      \n",
            "_________________________________________________________________\n",
            "max_pooling2d_27 (MaxPooling (None, 28, 28, 32)        0         \n",
            "_________________________________________________________________\n",
            "conv2d_29 (Conv2D)           (None, 28, 28, 32)        9248      \n",
            "_________________________________________________________________\n",
            "max_pooling2d_28 (MaxPooling (None, 14, 14, 32)        0         \n",
            "_________________________________________________________________\n",
            "dropout_1 (Dropout)          (None, 14, 14, 32)        0         \n",
            "_________________________________________________________________\n",
            "flatten_8 (Flatten)          (None, 6272)              0         \n",
            "_________________________________________________________________\n",
            "dense_24 (Dense)             (None, 128)               802944    \n",
            "_________________________________________________________________\n",
            "dense_25 (Dense)             (None, 64)                8256      \n",
            "_________________________________________________________________\n",
            "dense_26 (Dense)             (None, 4)                 260       \n",
            "=================================================================\n",
            "Total params: 832,980\n",
            "Trainable params: 832,980\n",
            "Non-trainable params: 0\n",
            "_________________________________________________________________\n"
          ],
          "name": "stdout"
        }
      ]
    },
    {
      "cell_type": "code",
      "metadata": {
        "colab": {
          "base_uri": "https://localhost:8080/"
        },
        "id": "etYGdOJYJ1t0",
        "outputId": "5308b11f-1053-46f8-89a6-633a95b693d0"
      },
      "source": [
        "history_9 = model_cnn8.fit(x_train, y_train, validation_data= (x_test,y_test), epochs=15);"
      ],
      "execution_count": 56,
      "outputs": [
        {
          "output_type": "stream",
          "text": [
            "Epoch 1/15\n",
            "111/111 [==============================] - 3s 25ms/step - loss: 0.9774 - accuracy: 0.5895 - val_loss: 0.6118 - val_accuracy: 0.7743\n",
            "Epoch 2/15\n",
            "111/111 [==============================] - 3s 27ms/step - loss: 0.6279 - accuracy: 0.7631 - val_loss: 0.5656 - val_accuracy: 0.7889\n",
            "Epoch 3/15\n",
            "111/111 [==============================] - 3s 26ms/step - loss: 0.5648 - accuracy: 0.7854 - val_loss: 0.5879 - val_accuracy: 0.7878\n",
            "Epoch 4/15\n",
            "111/111 [==============================] - 3s 26ms/step - loss: 0.5056 - accuracy: 0.8075 - val_loss: 0.5389 - val_accuracy: 0.8081\n",
            "Epoch 5/15\n",
            "111/111 [==============================] - 3s 26ms/step - loss: 0.4802 - accuracy: 0.8159 - val_loss: 0.5377 - val_accuracy: 0.8036\n",
            "Epoch 6/15\n",
            "111/111 [==============================] - 3s 27ms/step - loss: 0.4030 - accuracy: 0.8557 - val_loss: 0.4348 - val_accuracy: 0.8521\n",
            "Epoch 7/15\n",
            "111/111 [==============================] - 3s 27ms/step - loss: 0.3330 - accuracy: 0.8837 - val_loss: 0.4490 - val_accuracy: 0.8476\n",
            "Epoch 8/15\n",
            "111/111 [==============================] - 3s 27ms/step - loss: 0.3328 - accuracy: 0.8783 - val_loss: 0.6038 - val_accuracy: 0.8002\n",
            "Epoch 9/15\n",
            "111/111 [==============================] - 3s 27ms/step - loss: 0.3065 - accuracy: 0.8893 - val_loss: 0.4402 - val_accuracy: 0.8476\n",
            "Epoch 10/15\n",
            "111/111 [==============================] - 3s 27ms/step - loss: 0.2799 - accuracy: 0.9012 - val_loss: 0.4304 - val_accuracy: 0.8589\n",
            "Epoch 11/15\n",
            "111/111 [==============================] - 3s 27ms/step - loss: 0.2410 - accuracy: 0.9099 - val_loss: 0.4442 - val_accuracy: 0.8623\n",
            "Epoch 12/15\n",
            "111/111 [==============================] - 3s 27ms/step - loss: 0.2155 - accuracy: 0.9232 - val_loss: 0.4273 - val_accuracy: 0.8758\n",
            "Epoch 13/15\n",
            "111/111 [==============================] - 3s 27ms/step - loss: 0.1988 - accuracy: 0.9272 - val_loss: 0.5201 - val_accuracy: 0.8375\n",
            "Epoch 14/15\n",
            "111/111 [==============================] - 3s 26ms/step - loss: 0.1637 - accuracy: 0.9458 - val_loss: 0.4389 - val_accuracy: 0.8668\n",
            "Epoch 15/15\n",
            "111/111 [==============================] - 3s 26ms/step - loss: 0.1657 - accuracy: 0.9449 - val_loss: 0.4934 - val_accuracy: 0.8544\n"
          ],
          "name": "stdout"
        }
      ]
    },
    {
      "cell_type": "code",
      "metadata": {
        "colab": {
          "base_uri": "https://localhost:8080/"
        },
        "id": "5UDzs3GnJ-Io",
        "outputId": "485db7e1-2695-41cd-d838-894e459c36d7"
      },
      "source": [
        "score_accuracy = model_cnn8.evaluate(x_test, y_test)"
      ],
      "execution_count": 57,
      "outputs": [
        {
          "output_type": "stream",
          "text": [
            "28/28 [==============================] - 0s 15ms/step - loss: 0.4934 - accuracy: 0.8544\n"
          ],
          "name": "stdout"
        }
      ]
    },
    {
      "cell_type": "code",
      "metadata": {
        "colab": {
          "base_uri": "https://localhost:8080/",
          "height": 201
        },
        "id": "JZtqALcsKJ-r",
        "outputId": "e662f8e8-6f55-447b-a42a-410d5ee05f15"
      },
      "source": [
        "plot_accuracy_loss(history_9)"
      ],
      "execution_count": 57,
      "outputs": [
        {
          "output_type": "display_data",
          "data": {
            "image/png": "[encoded data removed]",
            "text/plain": [
              "<Figure size 720x360 with 2 Axes>"
            ]
          },
          "metadata": {
            "tags": [],
            "needs_background": "light"
          }
        }
      ]
    },
    {
      "cell_type": "markdown",
      "metadata": {
        "id": "5Hprbvf8UOHF"
      },
      "source": [
        "### Model 9 + dropout 0.7"
      ]
    },
    {
      "cell_type": "code",
      "metadata": {
        "id": "pqGQskthUNhX"
      },
      "source": [
        "model_cnn9 = keras.Sequential()\n",
        "\n",
        "model_cnn9.add(keras.layers.Conv2D(filters=16, kernel_size=(5,5), input_shape=(224,224,3), padding='same', activation=\"relu\"))\n",
        "model_cnn9.add(keras.layers.MaxPooling2D())\n",
        "model_cnn9.add(keras.layers.Conv2D(filters=16, kernel_size=(5,5), padding='same', activation=\"relu\"))\n",
        "model_cnn9.add(keras.layers.MaxPooling2D())\n",
        "model_cnn9.add(keras.layers.Conv2D(filters=32, kernel_size=(3,3), padding='same', activation=\"relu\"))\n",
        "model_cnn9.add(keras.layers.MaxPooling2D())\n",
        "model_cnn9.add(keras.layers.Conv2D(filters=32, kernel_size=(3,3), padding='same', activation=\"relu\"))\n",
        "model_cnn9.add(keras.layers.MaxPooling2D())\n",
        "\n",
        "#Dropout\n",
        "model_cnn9.add(keras.layers.Dropout(0.7))\n",
        "\n",
        "model_cnn9.add(keras.layers.Flatten()) # flatten layer \n",
        "model_cnn9.add(keras.layers.Dense(units = 128,activation='relu') )   #input layer\n",
        "model_cnn9.add(keras.layers.Dense(units = 64, activation='relu') )  # hidden layer \n",
        "model_cnn9.add(keras.layers.Dense(units = 4, activation='softmax') ) # output layer \n",
        "\n",
        "model_cnn9.compile(optimizer='adam', loss='sparse_categorical_crossentropy', metrics=['accuracy'])"
      ],
      "execution_count": 58,
      "outputs": []
    },
    {
      "cell_type": "code",
      "metadata": {
        "colab": {
          "base_uri": "https://localhost:8080/"
        },
        "id": "zj3gsXi8Ucqi",
        "outputId": "8b870e8e-4d27-44fa-ec83-728856c81a27"
      },
      "source": [
        "model_cnn9.summary()"
      ],
      "execution_count": 59,
      "outputs": [
        {
          "output_type": "stream",
          "text": [
            "Model: \"sequential_9\"\n",
            "_________________________________________________________________\n",
            "Layer (type)                 Output Shape              Param #   \n",
            "=================================================================\n",
            "conv2d_30 (Conv2D)           (None, 224, 224, 16)      1216      \n",
            "_________________________________________________________________\n",
            "max_pooling2d_29 (MaxPooling (None, 112, 112, 16)      0         \n",
            "_________________________________________________________________\n",
            "conv2d_31 (Conv2D)           (None, 112, 112, 16)      6416      \n",
            "_________________________________________________________________\n",
            "max_pooling2d_30 (MaxPooling (None, 56, 56, 16)        0         \n",
            "_________________________________________________________________\n",
            "conv2d_32 (Conv2D)           (None, 56, 56, 32)        4640      \n",
            "_________________________________________________________________\n",
            "max_pooling2d_31 (MaxPooling (None, 28, 28, 32)        0         \n",
            "_________________________________________________________________\n",
            "conv2d_33 (Conv2D)           (None, 28, 28, 32)        9248      \n",
            "_________________________________________________________________\n",
            "max_pooling2d_32 (MaxPooling (None, 14, 14, 32)        0         \n",
            "_________________________________________________________________\n",
            "dropout_2 (Dropout)          (None, 14, 14, 32)        0         \n",
            "_________________________________________________________________\n",
            "flatten_9 (Flatten)          (None, 6272)              0         \n",
            "_________________________________________________________________\n",
            "dense_27 (Dense)             (None, 128)               802944    \n",
            "_________________________________________________________________\n",
            "dense_28 (Dense)             (None, 64)                8256      \n",
            "_________________________________________________________________\n",
            "dense_29 (Dense)             (None, 4)                 260       \n",
            "=================================================================\n",
            "Total params: 832,980\n",
            "Trainable params: 832,980\n",
            "Non-trainable params: 0\n",
            "_________________________________________________________________\n"
          ],
          "name": "stdout"
        }
      ]
    },
    {
      "cell_type": "code",
      "metadata": {
        "colab": {
          "base_uri": "https://localhost:8080/"
        },
        "id": "fBkujpOKUiJg",
        "outputId": "4cffba97-7ace-4929-ed82-1a2c639de686"
      },
      "source": [
        "history_10 = model_cnn9.fit(x_train, y_train, validation_data= (x_test,y_test), epochs=15);"
      ],
      "execution_count": 60,
      "outputs": [
        {
          "output_type": "stream",
          "text": [
            "Epoch 1/15\n",
            "111/111 [==============================] - 3s 25ms/step - loss: 1.0959 - accuracy: 0.5237 - val_loss: 0.8538 - val_accuracy: 0.6840\n",
            "Epoch 2/15\n",
            "111/111 [==============================] - 3s 26ms/step - loss: 0.7097 - accuracy: 0.7324 - val_loss: 0.6002 - val_accuracy: 0.7822\n",
            "Epoch 3/15\n",
            "111/111 [==============================] - 3s 25ms/step - loss: 0.5945 - accuracy: 0.7798 - val_loss: 0.5926 - val_accuracy: 0.7867\n",
            "Epoch 4/15\n",
            "111/111 [==============================] - 3s 25ms/step - loss: 0.5278 - accuracy: 0.8108 - val_loss: 0.5875 - val_accuracy: 0.7720\n",
            "Epoch 5/15\n",
            "111/111 [==============================] - 3s 25ms/step - loss: 0.5285 - accuracy: 0.8024 - val_loss: 0.5409 - val_accuracy: 0.8183\n",
            "Epoch 6/15\n",
            "111/111 [==============================] - 3s 26ms/step - loss: 0.4856 - accuracy: 0.8230 - val_loss: 0.5620 - val_accuracy: 0.8047\n",
            "Epoch 7/15\n",
            "111/111 [==============================] - 3s 26ms/step - loss: 0.4278 - accuracy: 0.8436 - val_loss: 0.5296 - val_accuracy: 0.8149\n",
            "Epoch 8/15\n",
            "111/111 [==============================] - 3s 26ms/step - loss: 0.3933 - accuracy: 0.8605 - val_loss: 0.4999 - val_accuracy: 0.8228\n",
            "Epoch 9/15\n",
            "111/111 [==============================] - 3s 25ms/step - loss: 0.3747 - accuracy: 0.8574 - val_loss: 0.4700 - val_accuracy: 0.8386\n",
            "Epoch 10/15\n",
            "111/111 [==============================] - 3s 26ms/step - loss: 0.3292 - accuracy: 0.8794 - val_loss: 0.4434 - val_accuracy: 0.8442\n",
            "Epoch 11/15\n",
            "111/111 [==============================] - 3s 25ms/step - loss: 0.3022 - accuracy: 0.8922 - val_loss: 0.4176 - val_accuracy: 0.8499\n",
            "Epoch 12/15\n",
            "111/111 [==============================] - 3s 26ms/step - loss: 0.2895 - accuracy: 0.8927 - val_loss: 0.4421 - val_accuracy: 0.8533\n",
            "Epoch 13/15\n",
            "111/111 [==============================] - 3s 25ms/step - loss: 0.2349 - accuracy: 0.9156 - val_loss: 0.4208 - val_accuracy: 0.8567\n",
            "Epoch 14/15\n",
            "111/111 [==============================] - 3s 26ms/step - loss: 0.2079 - accuracy: 0.9241 - val_loss: 0.4441 - val_accuracy: 0.8431\n",
            "Epoch 15/15\n",
            "111/111 [==============================] - 3s 25ms/step - loss: 0.2308 - accuracy: 0.9184 - val_loss: 0.4783 - val_accuracy: 0.8454\n"
          ],
          "name": "stdout"
        }
      ]
    },
    {
      "cell_type": "code",
      "metadata": {
        "colab": {
          "base_uri": "https://localhost:8080/"
        },
        "id": "CW8cWQuIUmxf",
        "outputId": "0abdf1df-538a-44b2-84d7-8d14178b2a07"
      },
      "source": [
        "score_accuracy = model_cnn9.evaluate(x_test, y_test)"
      ],
      "execution_count": 61,
      "outputs": [
        {
          "output_type": "stream",
          "text": [
            "28/28 [==============================] - 0s 14ms/step - loss: 0.4783 - accuracy: 0.8454\n"
          ],
          "name": "stdout"
        }
      ]
    },
    {
      "cell_type": "code",
      "metadata": {
        "colab": {
          "base_uri": "https://localhost:8080/",
          "height": 201
        },
        "id": "g5kKffIpha4q",
        "outputId": "c171403c-0a14-40e5-8c5c-c36cae793512"
      },
      "source": [
        "plot_accuracy_loss(history_10)"
      ],
      "execution_count": 62,
      "outputs": [
        {
          "output_type": "display_data",
          "data": {
            "image/png": "[encoded data removed]",
            "text/plain": [
              "<Figure size 720x360 with 2 Axes>"
            ]
          },
          "metadata": {
            "tags": [],
            "needs_background": "light"
          }
        }
      ]
    },
    {
      "cell_type": "markdown",
      "metadata": {
        "id": "RRottoWFJ_CW"
      },
      "source": [
        "### Model 10 + regularisasi +d 0.5"
      ]
    },
    {
      "cell_type": "code",
      "metadata": {
        "id": "wAuMSHfY9Ggr"
      },
      "source": [
        "from tensorflow.keras import layers\n",
        "from tensorflow.keras.models import Sequential\n",
        "from keras import regularizers\n",
        "\n",
        "model_cnn10 = keras.Sequential()\n",
        "\n",
        "#Regularization optimizes a model by penalizing complex models, therefore minimizing loss and complexity. \n",
        "model_cnn10.add(keras.layers.Conv2D(filters=16, kernel_size=(5,5), input_shape=(224,224,3), padding='same', activation=\"relu\",  kernel_regularizer=regularizers.l2(l=0.01)))\n",
        "model_cnn10.add(keras.layers.MaxPooling2D())\n",
        "model_cnn10.add(keras.layers.Conv2D(filters=16, kernel_size=(5,5), padding='same', activation=\"relu\",  kernel_regularizer=regularizers.l2(l=0.01)))\n",
        "model_cnn10.add(keras.layers.MaxPooling2D())\n",
        "model_cnn10.add(keras.layers.Conv2D(filters=32, kernel_size=(3,3), padding='same', activation=\"relu\"))\n",
        "model_cnn10.add(keras.layers.MaxPooling2D())\n",
        "model_cnn10.add(keras.layers.Conv2D(filters=32, kernel_size=(3,3), padding='same', activation=\"relu\"))\n",
        "model_cnn10.add(keras.layers.MaxPooling2D())\n",
        "\n",
        "#using dropout\n",
        "model_cnn10.add(keras.layers.Dropout(0.5))\n",
        "\n",
        "model_cnn10.add(keras.layers.Flatten()) # flatten layer \n",
        "model_cnn10.add(keras.layers.Dense(units = 128,activation='relu') )  #input layer \n",
        "model_cnn10.add(keras.layers.Dense(units = 64, activation='relu') )  # hidden layer \n",
        "model_cnn10.add(keras.layers.Dense(units = 4, activation='softmax') ) # output layer \n",
        "\n",
        "model_cnn10.compile(optimizer='adam', loss='sparse_categorical_crossentropy', metrics=['accuracy'])"
      ],
      "execution_count": 4,
      "outputs": []
    },
    {
      "cell_type": "code",
      "metadata": {
        "colab": {
          "base_uri": "https://localhost:8080/"
        },
        "id": "9kDjMW7hDxYT",
        "outputId": "cb868ebb-50f6-4d7a-cf40-54098443a3e0"
      },
      "source": [
        "model_cnn10.summary()"
      ],
      "execution_count": 5,
      "outputs": [
        {
          "output_type": "stream",
          "text": [
            "Model: \"sequential\"\n",
            "_________________________________________________________________\n",
            "Layer (type)                 Output Shape              Param #   \n",
            "=================================================================\n",
            "conv2d (Conv2D)              (None, 224, 224, 16)      1216      \n",
            "_________________________________________________________________\n",
            "max_pooling2d (MaxPooling2D) (None, 112, 112, 16)      0         \n",
            "_________________________________________________________________\n",
            "conv2d_1 (Conv2D)            (None, 112, 112, 16)      6416      \n",
            "_________________________________________________________________\n",
            "max_pooling2d_1 (MaxPooling2 (None, 56, 56, 16)        0         \n",
            "_________________________________________________________________\n",
            "conv2d_2 (Conv2D)            (None, 56, 56, 32)        4640      \n",
            "_________________________________________________________________\n",
            "max_pooling2d_2 (MaxPooling2 (None, 28, 28, 32)        0         \n",
            "_________________________________________________________________\n",
            "conv2d_3 (Conv2D)            (None, 28, 28, 32)        9248      \n",
            "_________________________________________________________________\n",
            "max_pooling2d_3 (MaxPooling2 (None, 14, 14, 32)        0         \n",
            "_________________________________________________________________\n",
            "dropout (Dropout)            (None, 14, 14, 32)        0         \n",
            "_________________________________________________________________\n",
            "flatten (Flatten)            (None, 6272)              0         \n",
            "_________________________________________________________________\n",
            "dense (Dense)                (None, 128)               802944    \n",
            "_________________________________________________________________\n",
            "dense_1 (Dense)              (None, 64)                8256      \n",
            "_________________________________________________________________\n",
            "dense_2 (Dense)              (None, 4)                 260       \n",
            "=================================================================\n",
            "Total params: 832,980\n",
            "Trainable params: 832,980\n",
            "Non-trainable params: 0\n",
            "_________________________________________________________________\n"
          ],
          "name": "stdout"
        }
      ]
    },
    {
      "cell_type": "code",
      "metadata": {
        "colab": {
          "base_uri": "https://localhost:8080/"
        },
        "id": "VSJbjrAVDy6W",
        "outputId": "2d49dbf9-8840-4327-e8de-fec49bfb9e45"
      },
      "source": [
        "history_11 = model_cnn10.fit(x_train, y_train, validation_data= (x_test,y_test), epochs=15);"
      ],
      "execution_count": 8,
      "outputs": [
        {
          "output_type": "stream",
          "text": [
            "Epoch 1/15\n",
            "111/111 [==============================] - 18s 26ms/step - loss: 1.0769 - accuracy: 0.5855 - val_loss: 0.8188 - val_accuracy: 0.7348\n",
            "Epoch 2/15\n",
            "111/111 [==============================] - 2s 21ms/step - loss: 0.6980 - accuracy: 0.7744 - val_loss: 0.7491 - val_accuracy: 0.7483\n",
            "Epoch 3/15\n",
            "111/111 [==============================] - 2s 21ms/step - loss: 0.6391 - accuracy: 0.7942 - val_loss: 0.5778 - val_accuracy: 0.8284\n",
            "Epoch 4/15\n",
            "111/111 [==============================] - 2s 21ms/step - loss: 0.5712 - accuracy: 0.8250 - val_loss: 0.6067 - val_accuracy: 0.8273\n",
            "Epoch 5/15\n",
            "111/111 [==============================] - 2s 21ms/step - loss: 0.5078 - accuracy: 0.8433 - val_loss: 0.5152 - val_accuracy: 0.8499\n",
            "Epoch 6/15\n",
            "111/111 [==============================] - 2s 21ms/step - loss: 0.4364 - accuracy: 0.8696 - val_loss: 0.4957 - val_accuracy: 0.8555\n",
            "Epoch 7/15\n",
            "111/111 [==============================] - 2s 21ms/step - loss: 0.3754 - accuracy: 0.8890 - val_loss: 0.5464 - val_accuracy: 0.8420\n",
            "Epoch 8/15\n",
            "111/111 [==============================] - 2s 21ms/step - loss: 0.3859 - accuracy: 0.8857 - val_loss: 0.5693 - val_accuracy: 0.8352\n",
            "Epoch 9/15\n",
            "111/111 [==============================] - 2s 21ms/step - loss: 0.3039 - accuracy: 0.9161 - val_loss: 0.4968 - val_accuracy: 0.8600\n",
            "Epoch 10/15\n",
            "111/111 [==============================] - 2s 21ms/step - loss: 0.2852 - accuracy: 0.9232 - val_loss: 0.4926 - val_accuracy: 0.8725\n",
            "Epoch 11/15\n",
            "111/111 [==============================] - 2s 21ms/step - loss: 0.2547 - accuracy: 0.9322 - val_loss: 0.6001 - val_accuracy: 0.8465\n",
            "Epoch 12/15\n",
            "111/111 [==============================] - 2s 21ms/step - loss: 0.2419 - accuracy: 0.9379 - val_loss: 0.5596 - val_accuracy: 0.8533\n",
            "Epoch 13/15\n",
            "111/111 [==============================] - 2s 21ms/step - loss: 0.2130 - accuracy: 0.9455 - val_loss: 0.5591 - val_accuracy: 0.8431\n",
            "Epoch 14/15\n",
            "111/111 [==============================] - 2s 21ms/step - loss: 0.2008 - accuracy: 0.9529 - val_loss: 0.5770 - val_accuracy: 0.8465\n",
            "Epoch 15/15\n",
            "111/111 [==============================] - 2s 21ms/step - loss: 0.2183 - accuracy: 0.9444 - val_loss: 0.5199 - val_accuracy: 0.8646\n"
          ],
          "name": "stdout"
        }
      ]
    },
    {
      "cell_type": "code",
      "metadata": {
        "colab": {
          "base_uri": "https://localhost:8080/"
        },
        "id": "Y5xtgt7AJBVb",
        "outputId": "aed1824f-cd09-4073-ffcf-ba5e5f143fc7"
      },
      "source": [
        "score_accuracy = model_cnn10.evaluate(x_test, y_test)"
      ],
      "execution_count": 9,
      "outputs": [
        {
          "output_type": "stream",
          "text": [
            "28/28 [==============================] - 0s 11ms/step - loss: 0.5199 - accuracy: 0.8646\n"
          ],
          "name": "stdout"
        }
      ]
    },
    {
      "cell_type": "code",
      "metadata": {
        "colab": {
          "base_uri": "https://localhost:8080/",
          "height": 201
        },
        "id": "-oQdbIZiFM5M",
        "outputId": "95c37b03-172a-444d-e78f-2b1cfa372e22"
      },
      "source": [
        "plot_accuracy_loss(history_11)"
      ],
      "execution_count": 12,
      "outputs": [
        {
          "output_type": "display_data",
          "data": {
            "image/png": "[encoded data removed]",
            "text/plain": [
              "<Figure size 720x360 with 2 Axes>"
            ]
          },
          "metadata": {
            "tags": [],
            "needs_background": "light"
          }
        }
      ]
    },
    {
      "cell_type": "markdown",
      "metadata": {
        "id": "CIJLxH1RNUhn"
      },
      "source": [
        "### Model 11 + regularisasi + d 0.7"
      ]
    },
    {
      "cell_type": "code",
      "metadata": {
        "id": "RCTJC3lTMMiZ"
      },
      "source": [
        "from tensorflow.keras import layers\n",
        "from tensorflow.keras.models import Sequential\n",
        "from keras import regularizers\n",
        "\n",
        "model_cnn11 = keras.Sequential()\n",
        "\n",
        "#Regularization optimizes a model by penalizing complex models, therefore minimizing loss and complexity. \n",
        "model_cnn11.add(keras.layers.Conv2D(filters=16, kernel_size=(5,5), input_shape=(224,224,3), padding='same', activation=\"relu\",  kernel_regularizer=regularizers.l2(l=0.01)))\n",
        "model_cnn11.add(keras.layers.MaxPooling2D())\n",
        "model_cnn11.add(keras.layers.Conv2D(filters=16, kernel_size=(5,5), padding='same', activation=\"relu\",  kernel_regularizer=regularizers.l2(l=0.01)))\n",
        "model_cnn11.add(keras.layers.MaxPooling2D())\n",
        "model_cnn11.add(keras.layers.Conv2D(filters=32, kernel_size=(3,3), padding='same', activation=\"relu\"))\n",
        "model_cnn11.add(keras.layers.MaxPooling2D())\n",
        "model_cnn11.add(keras.layers.Conv2D(filters=32, kernel_size=(3,3), padding='same', activation=\"relu\"))\n",
        "model_cnn11.add(keras.layers.MaxPooling2D())\n",
        "#using dropout\n",
        "model_cnn11.add(keras.layers.Dropout(0.7))\n",
        "\n",
        "model_cnn11.add(keras.layers.Flatten()) # flatten layer \n",
        "\n",
        "#model_cnn2.add(keras.layers.Dense(units = 64, activation='relu') )\n",
        "model_cnn11.add(keras.layers.Dense(units = 128,activation='relu') )  #input layer \n",
        "model_cnn11.add(keras.layers.Dense(units = 64, activation='relu') )  # hidden layer \n",
        "model_cnn11.add(keras.layers.Dense(units = 4, activation='softmax') ) # output layer \n",
        "\n",
        "model_cnn11.compile(optimizer='adam', loss='sparse_categorical_crossentropy', metrics=['accuracy'])"
      ],
      "execution_count": 13,
      "outputs": []
    },
    {
      "cell_type": "code",
      "metadata": {
        "colab": {
          "base_uri": "https://localhost:8080/"
        },
        "id": "0f8zJixeMaIt",
        "outputId": "1586260e-6e8a-453f-9a20-2fca59273e96"
      },
      "source": [
        "model_cnn11.summary()"
      ],
      "execution_count": 14,
      "outputs": [
        {
          "output_type": "stream",
          "text": [
            "Model: \"sequential_1\"\n",
            "_________________________________________________________________\n",
            "Layer (type)                 Output Shape              Param #   \n",
            "=================================================================\n",
            "conv2d_4 (Conv2D)            (None, 224, 224, 16)      1216      \n",
            "_________________________________________________________________\n",
            "max_pooling2d_4 (MaxPooling2 (None, 112, 112, 16)      0         \n",
            "_________________________________________________________________\n",
            "conv2d_5 (Conv2D)            (None, 112, 112, 16)      6416      \n",
            "_________________________________________________________________\n",
            "max_pooling2d_5 (MaxPooling2 (None, 56, 56, 16)        0         \n",
            "_________________________________________________________________\n",
            "conv2d_6 (Conv2D)            (None, 56, 56, 32)        4640      \n",
            "_________________________________________________________________\n",
            "max_pooling2d_6 (MaxPooling2 (None, 28, 28, 32)        0         \n",
            "_________________________________________________________________\n",
            "conv2d_7 (Conv2D)            (None, 28, 28, 32)        9248      \n",
            "_________________________________________________________________\n",
            "max_pooling2d_7 (MaxPooling2 (None, 14, 14, 32)        0         \n",
            "_________________________________________________________________\n",
            "dropout_1 (Dropout)          (None, 14, 14, 32)        0         \n",
            "_________________________________________________________________\n",
            "flatten_1 (Flatten)          (None, 6272)              0         \n",
            "_________________________________________________________________\n",
            "dense_3 (Dense)              (None, 128)               802944    \n",
            "_________________________________________________________________\n",
            "dense_4 (Dense)              (None, 64)                8256      \n",
            "_________________________________________________________________\n",
            "dense_5 (Dense)              (None, 4)                 260       \n",
            "=================================================================\n",
            "Total params: 832,980\n",
            "Trainable params: 832,980\n",
            "Non-trainable params: 0\n",
            "_________________________________________________________________\n"
          ],
          "name": "stdout"
        }
      ]
    },
    {
      "cell_type": "code",
      "metadata": {
        "colab": {
          "base_uri": "https://localhost:8080/"
        },
        "id": "rQObJCfJMXjb",
        "outputId": "afb6b122-4e09-4e64-9546-ec52ed2efa45"
      },
      "source": [
        "history_12 = model_cnn11.fit(x_train, y_train, validation_data= (x_test,y_test), epochs=15);"
      ],
      "execution_count": 15,
      "outputs": [
        {
          "output_type": "stream",
          "text": [
            "Epoch 1/15\n",
            "111/111 [==============================] - 3s 23ms/step - loss: 1.2265 - accuracy: 0.5011 - val_loss: 0.9288 - val_accuracy: 0.6885\n",
            "Epoch 2/15\n",
            "111/111 [==============================] - 2s 21ms/step - loss: 0.7880 - accuracy: 0.7298 - val_loss: 0.7267 - val_accuracy: 0.7596\n",
            "Epoch 3/15\n",
            "111/111 [==============================] - 2s 21ms/step - loss: 0.6806 - accuracy: 0.7722 - val_loss: 0.5970 - val_accuracy: 0.8160\n",
            "Epoch 4/15\n",
            "111/111 [==============================] - 2s 21ms/step - loss: 0.5812 - accuracy: 0.8128 - val_loss: 0.5424 - val_accuracy: 0.8318\n",
            "Epoch 5/15\n",
            "111/111 [==============================] - 2s 21ms/step - loss: 0.5594 - accuracy: 0.8173 - val_loss: 0.5143 - val_accuracy: 0.8318\n",
            "Epoch 6/15\n",
            "111/111 [==============================] - 2s 21ms/step - loss: 0.5034 - accuracy: 0.8337 - val_loss: 0.5235 - val_accuracy: 0.8397\n",
            "Epoch 7/15\n",
            "111/111 [==============================] - 2s 21ms/step - loss: 0.4529 - accuracy: 0.8549 - val_loss: 0.5470 - val_accuracy: 0.8296\n",
            "Epoch 8/15\n",
            "111/111 [==============================] - 2s 21ms/step - loss: 0.4488 - accuracy: 0.8614 - val_loss: 0.6533 - val_accuracy: 0.8047\n",
            "Epoch 9/15\n",
            "111/111 [==============================] - 2s 21ms/step - loss: 0.4120 - accuracy: 0.8718 - val_loss: 0.5446 - val_accuracy: 0.8307\n",
            "Epoch 10/15\n",
            "111/111 [==============================] - 2s 21ms/step - loss: 0.3787 - accuracy: 0.8828 - val_loss: 0.4777 - val_accuracy: 0.8589\n",
            "Epoch 11/15\n",
            "111/111 [==============================] - 2s 21ms/step - loss: 0.3549 - accuracy: 0.8916 - val_loss: 0.4950 - val_accuracy: 0.8476\n",
            "Epoch 12/15\n",
            "111/111 [==============================] - 2s 21ms/step - loss: 0.3350 - accuracy: 0.8967 - val_loss: 0.5288 - val_accuracy: 0.8442\n",
            "Epoch 13/15\n",
            "111/111 [==============================] - 2s 21ms/step - loss: 0.3338 - accuracy: 0.9023 - val_loss: 0.4842 - val_accuracy: 0.8555\n",
            "Epoch 14/15\n",
            "111/111 [==============================] - 2s 21ms/step - loss: 0.2894 - accuracy: 0.9128 - val_loss: 0.4379 - val_accuracy: 0.8781\n",
            "Epoch 15/15\n",
            "111/111 [==============================] - 2s 21ms/step - loss: 0.2895 - accuracy: 0.9105 - val_loss: 0.5223 - val_accuracy: 0.8375\n"
          ],
          "name": "stdout"
        }
      ]
    },
    {
      "cell_type": "code",
      "metadata": {
        "colab": {
          "base_uri": "https://localhost:8080/"
        },
        "id": "H_m01bS_NiS8",
        "outputId": "2b273e1f-9a5d-4480-d51b-63168ac03d1f"
      },
      "source": [
        "score_accuracy = model_cnn11.evaluate(x_test, y_test)"
      ],
      "execution_count": 16,
      "outputs": [
        {
          "output_type": "stream",
          "text": [
            "28/28 [==============================] - 0s 10ms/step - loss: 0.5223 - accuracy: 0.8375\n"
          ],
          "name": "stdout"
        }
      ]
    },
    {
      "cell_type": "code",
      "metadata": {
        "colab": {
          "base_uri": "https://localhost:8080/",
          "height": 201
        },
        "id": "5KsUDq3JNmCg",
        "outputId": "8a7d176e-5845-4b00-852c-042c1fde4238"
      },
      "source": [
        "plot_accuracy_loss(history_12)"
      ],
      "execution_count": 17,
      "outputs": [
        {
          "output_type": "display_data",
          "data": {
            "image/png": "[encoded data removed]",
            "text/plain": [
              "<Figure size 720x360 with 2 Axes>"
            ]
          },
          "metadata": {
            "tags": [],
            "needs_background": "light"
          }
        }
      ]
    },
    {
      "cell_type": "markdown",
      "metadata": {
        "id": "nzi32isPBZyl"
      },
      "source": [
        "try make the total parameter less, so it can be save more efficient"
      ]
    },
    {
      "cell_type": "markdown",
      "metadata": {
        "id": "282K5cUrP5-t"
      },
      "source": [
        "### Model 12 + regularize + d 0.5 + 2"
      ]
    },
    {
      "cell_type": "code",
      "metadata": {
        "id": "keubRid8P4Ns"
      },
      "source": [
        "from tensorflow.keras import layers\n",
        "from tensorflow.keras.models import Sequential\n",
        "from keras import regularizers\n",
        "\n",
        "model_cnn12 = keras.Sequential()\n",
        "\n",
        "#Regularization optimizes a model by penalizing complex models, therefore minimizing loss and complexity. \n",
        "model_cnn12.add(keras.layers.Conv2D(filters=16, kernel_size=(5,5), input_shape=(224,224,3), padding='same', activation=\"relu\",  kernel_regularizer=regularizers.l2(l=0.01)))\n",
        "model_cnn12.add(keras.layers.MaxPooling2D())\n",
        "model_cnn12.add(keras.layers.Conv2D(filters=16, kernel_size=(5,5), padding='same', activation=\"relu\",  kernel_regularizer=regularizers.l2(l=0.01)))\n",
        "model_cnn12.add(keras.layers.MaxPooling2D())\n",
        "model_cnn12.add(keras.layers.Conv2D(filters=32, kernel_size=(3,3), padding='same', activation=\"relu\"))\n",
        "model_cnn12.add(keras.layers.MaxPooling2D())\n",
        "model_cnn12.add(keras.layers.Conv2D(filters=32, kernel_size=(3,3), padding='same', activation=\"relu\"))\n",
        "model_cnn12.add(keras.layers.MaxPooling2D())\n",
        "#using dropout\n",
        "model_cnn12.add(keras.layers.Dropout(0.5))\n",
        "\n",
        "model_cnn12.add(keras.layers.Flatten()) # flatten layer \n",
        "\n",
        "model_cnn12.add(keras.layers.Dense(units = 64, activation='relu') )  # hidden layer \n",
        "model_cnn12.add(keras.layers.Dense(units = 4, activation='softmax') ) # output layer \n",
        "\n",
        "model_cnn12.compile(optimizer='adam', loss='sparse_categorical_crossentropy', metrics=['accuracy'])"
      ],
      "execution_count": 18,
      "outputs": []
    },
    {
      "cell_type": "code",
      "metadata": {
        "colab": {
          "base_uri": "https://localhost:8080/"
        },
        "id": "Cf6g7VuPQG_9",
        "outputId": "592aa450-ef76-4a75-b00d-af4c8308ce1b"
      },
      "source": [
        "model_cnn12.summary()"
      ],
      "execution_count": 19,
      "outputs": [
        {
          "output_type": "stream",
          "text": [
            "Model: \"sequential_2\"\n",
            "_________________________________________________________________\n",
            "Layer (type)                 Output Shape              Param #   \n",
            "=================================================================\n",
            "conv2d_8 (Conv2D)            (None, 224, 224, 16)      1216      \n",
            "_________________________________________________________________\n",
            "max_pooling2d_8 (MaxPooling2 (None, 112, 112, 16)      0         \n",
            "_________________________________________________________________\n",
            "conv2d_9 (Conv2D)            (None, 112, 112, 16)      6416      \n",
            "_________________________________________________________________\n",
            "max_pooling2d_9 (MaxPooling2 (None, 56, 56, 16)        0         \n",
            "_________________________________________________________________\n",
            "conv2d_10 (Conv2D)           (None, 56, 56, 32)        4640      \n",
            "_________________________________________________________________\n",
            "max_pooling2d_10 (MaxPooling (None, 28, 28, 32)        0         \n",
            "_________________________________________________________________\n",
            "conv2d_11 (Conv2D)           (None, 28, 28, 32)        9248      \n",
            "_________________________________________________________________\n",
            "max_pooling2d_11 (MaxPooling (None, 14, 14, 32)        0         \n",
            "_________________________________________________________________\n",
            "dropout_2 (Dropout)          (None, 14, 14, 32)        0         \n",
            "_________________________________________________________________\n",
            "flatten_2 (Flatten)          (None, 6272)              0         \n",
            "_________________________________________________________________\n",
            "dense_6 (Dense)              (None, 64)                401472    \n",
            "_________________________________________________________________\n",
            "dense_7 (Dense)              (None, 4)                 260       \n",
            "=================================================================\n",
            "Total params: 423,252\n",
            "Trainable params: 423,252\n",
            "Non-trainable params: 0\n",
            "_________________________________________________________________\n"
          ],
          "name": "stdout"
        }
      ]
    },
    {
      "cell_type": "code",
      "metadata": {
        "colab": {
          "base_uri": "https://localhost:8080/"
        },
        "id": "xBrDsCHWQLFb",
        "outputId": "be280e96-ce5d-45b7-e089-0210c6f1dda9"
      },
      "source": [
        "history_13 = model_cnn12.fit(x_train, y_train, validation_data= (x_test,y_test), epochs=15);"
      ],
      "execution_count": 20,
      "outputs": [
        {
          "output_type": "stream",
          "text": [
            "Epoch 1/15\n",
            "111/111 [==============================] - 3s 23ms/step - loss: 1.0913 - accuracy: 0.5985 - val_loss: 0.8353 - val_accuracy: 0.7111\n",
            "Epoch 2/15\n",
            "111/111 [==============================] - 2s 21ms/step - loss: 0.7534 - accuracy: 0.7696 - val_loss: 0.6581 - val_accuracy: 0.8002\n",
            "Epoch 3/15\n",
            "111/111 [==============================] - 2s 21ms/step - loss: 0.6441 - accuracy: 0.7984 - val_loss: 0.6177 - val_accuracy: 0.7912\n",
            "Epoch 4/15\n",
            "111/111 [==============================] - 2s 21ms/step - loss: 0.5776 - accuracy: 0.8230 - val_loss: 0.6395 - val_accuracy: 0.8036\n",
            "Epoch 5/15\n",
            "111/111 [==============================] - 2s 21ms/step - loss: 0.5445 - accuracy: 0.8363 - val_loss: 0.5430 - val_accuracy: 0.8521\n",
            "Epoch 6/15\n",
            "111/111 [==============================] - 2s 21ms/step - loss: 0.4757 - accuracy: 0.8532 - val_loss: 0.5015 - val_accuracy: 0.8476\n",
            "Epoch 7/15\n",
            "111/111 [==============================] - 2s 21ms/step - loss: 0.4127 - accuracy: 0.8828 - val_loss: 0.4685 - val_accuracy: 0.8657\n",
            "Epoch 8/15\n",
            "111/111 [==============================] - 2s 21ms/step - loss: 0.3961 - accuracy: 0.8950 - val_loss: 0.6258 - val_accuracy: 0.8160\n",
            "Epoch 9/15\n",
            "111/111 [==============================] - 2s 21ms/step - loss: 0.3645 - accuracy: 0.8938 - val_loss: 0.4695 - val_accuracy: 0.8634\n",
            "Epoch 10/15\n",
            "111/111 [==============================] - 2s 21ms/step - loss: 0.3149 - accuracy: 0.9111 - val_loss: 0.5560 - val_accuracy: 0.8341\n",
            "Epoch 11/15\n",
            "111/111 [==============================] - 2s 21ms/step - loss: 0.3053 - accuracy: 0.9187 - val_loss: 0.4795 - val_accuracy: 0.8747\n",
            "Epoch 12/15\n",
            "111/111 [==============================] - 2s 21ms/step - loss: 0.2877 - accuracy: 0.9238 - val_loss: 0.4650 - val_accuracy: 0.8713\n",
            "Epoch 13/15\n",
            "111/111 [==============================] - 2s 21ms/step - loss: 0.2473 - accuracy: 0.9365 - val_loss: 0.4565 - val_accuracy: 0.8646\n",
            "Epoch 14/15\n",
            "111/111 [==============================] - 2s 21ms/step - loss: 0.2191 - accuracy: 0.9464 - val_loss: 0.4752 - val_accuracy: 0.8713\n",
            "Epoch 15/15\n",
            "111/111 [==============================] - 2s 21ms/step - loss: 0.2236 - accuracy: 0.9449 - val_loss: 0.5762 - val_accuracy: 0.8567\n"
          ],
          "name": "stdout"
        }
      ]
    },
    {
      "cell_type": "code",
      "metadata": {
        "colab": {
          "base_uri": "https://localhost:8080/"
        },
        "id": "hTwTcsaVQKep",
        "outputId": "8eb64dc7-2e5f-44b3-d4cb-de79976e94c5"
      },
      "source": [
        "score_accuracy = model_cnn12.evaluate(x_test, y_test)"
      ],
      "execution_count": 21,
      "outputs": [
        {
          "output_type": "stream",
          "text": [
            "28/28 [==============================] - 0s 10ms/step - loss: 0.5762 - accuracy: 0.8567\n"
          ],
          "name": "stdout"
        }
      ]
    },
    {
      "cell_type": "code",
      "metadata": {
        "colab": {
          "base_uri": "https://localhost:8080/",
          "height": 201
        },
        "id": "ONZjz1PwQP20",
        "outputId": "c0373429-b55b-470c-a1b3-834b6a453c70"
      },
      "source": [
        "plot_accuracy_loss(history_13)"
      ],
      "execution_count": 23,
      "outputs": [
        {
          "output_type": "display_data",
          "data": {
            "image/png": "[encoded data removed]",
            "text/plain": [
              "<Figure size 720x360 with 2 Axes>"
            ]
          },
          "metadata": {
            "tags": [],
            "needs_background": "light"
          }
        }
      ]
    },
    {
      "cell_type": "markdown",
      "metadata": {
        "id": "KodzdaEgQZwY"
      },
      "source": [
        "### Model 13 +regularize + d 0.7 + 2"
      ]
    },
    {
      "cell_type": "code",
      "metadata": {
        "id": "LiWW82ncQZRy"
      },
      "source": [
        "from tensorflow.keras import layers\n",
        "from tensorflow.keras.models import Sequential\n",
        "from keras import regularizers\n",
        "\n",
        "model_cnn13 = keras.Sequential()\n",
        "\n",
        "#Regularization optimizes a model by penalizing complex models, therefore minimizing loss and complexity. \n",
        "model_cnn13.add(keras.layers.Conv2D(filters=16, kernel_size=(5,3), input_shape=(224,224,3), padding='same', activation=\"relu\",  kernel_regularizer=regularizers.l2(l=0.01)))\n",
        "model_cnn13.add(keras.layers.MaxPooling2D())\n",
        "model_cnn13.add(keras.layers.Conv2D(filters=16, kernel_size=(5,5), padding='same', activation=\"relu\",  kernel_regularizer=regularizers.l2(l=0.01)))\n",
        "model_cnn13.add(keras.layers.MaxPooling2D())\n",
        "model_cnn13.add(keras.layers.Conv2D(filters=32, kernel_size=(3,3), padding='same', activation=\"relu\"))\n",
        "model_cnn13.add(keras.layers.MaxPooling2D())\n",
        "model_cnn13.add(keras.layers.Conv2D(filters=32, kernel_size=(3,3), padding='same', activation=\"relu\"))\n",
        "model_cnn13.add(keras.layers.MaxPooling2D())\n",
        "\n",
        "#using dropout\n",
        "model_cnn13.add(keras.layers.Dropout(0.7))\n",
        "\n",
        "model_cnn13.add(keras.layers.Flatten()) # flatten layer \n",
        "\n",
        "model_cnn13.add(keras.layers.Dense(units = 64, activation='relu') )  # hidden layer \n",
        "model_cnn13.add(keras.layers.Dense(units = 4, activation='softmax') ) # output layer \n",
        "\n",
        "model_cnn13.compile(optimizer='adam', loss='sparse_categorical_crossentropy', metrics=['accuracy'])"
      ],
      "execution_count": 27,
      "outputs": []
    },
    {
      "cell_type": "code",
      "metadata": {
        "colab": {
          "base_uri": "https://localhost:8080/"
        },
        "id": "2Pc51QO6Q9w7",
        "outputId": "6f4b557e-bcba-4e63-e726-b02502f4e891"
      },
      "source": [
        "model_cnn13.summary()"
      ],
      "execution_count": 28,
      "outputs": [
        {
          "output_type": "stream",
          "text": [
            "Model: \"sequential_6\"\n",
            "_________________________________________________________________\n",
            "Layer (type)                 Output Shape              Param #   \n",
            "=================================================================\n",
            "conv2d_24 (Conv2D)           (None, 224, 224, 16)      736       \n",
            "_________________________________________________________________\n",
            "max_pooling2d_24 (MaxPooling (None, 112, 112, 16)      0         \n",
            "_________________________________________________________________\n",
            "conv2d_25 (Conv2D)           (None, 112, 112, 16)      6416      \n",
            "_________________________________________________________________\n",
            "max_pooling2d_25 (MaxPooling (None, 56, 56, 16)        0         \n",
            "_________________________________________________________________\n",
            "conv2d_26 (Conv2D)           (None, 56, 56, 32)        4640      \n",
            "_________________________________________________________________\n",
            "max_pooling2d_26 (MaxPooling (None, 28, 28, 32)        0         \n",
            "_________________________________________________________________\n",
            "conv2d_27 (Conv2D)           (None, 28, 28, 32)        9248      \n",
            "_________________________________________________________________\n",
            "max_pooling2d_27 (MaxPooling (None, 14, 14, 32)        0         \n",
            "_________________________________________________________________\n",
            "dropout_6 (Dropout)          (None, 14, 14, 32)        0         \n",
            "_________________________________________________________________\n",
            "flatten_6 (Flatten)          (None, 6272)              0         \n",
            "_________________________________________________________________\n",
            "dense_14 (Dense)             (None, 64)                401472    \n",
            "_________________________________________________________________\n",
            "dense_15 (Dense)             (None, 4)                 260       \n",
            "=================================================================\n",
            "Total params: 422,772\n",
            "Trainable params: 422,772\n",
            "Non-trainable params: 0\n",
            "_________________________________________________________________\n"
          ],
          "name": "stdout"
        }
      ]
    },
    {
      "cell_type": "code",
      "metadata": {
        "colab": {
          "base_uri": "https://localhost:8080/"
        },
        "id": "kcYg57jSRD2Z",
        "outputId": "5a9b2ee5-8ad5-4a7b-9db8-52e3ccb06979"
      },
      "source": [
        "history_14 = model_cnn13.fit(x_train, y_train, validation_data= (x_test,y_test), epochs=15);"
      ],
      "execution_count": 30,
      "outputs": [
        {
          "output_type": "stream",
          "text": [
            "Epoch 1/15\n",
            "111/111 [==============================] - 3s 25ms/step - loss: 1.1459 - accuracy: 0.5576 - val_loss: 0.8303 - val_accuracy: 0.7348\n",
            "Epoch 2/15\n",
            "111/111 [==============================] - 2s 20ms/step - loss: 0.7553 - accuracy: 0.7513 - val_loss: 0.6306 - val_accuracy: 0.8059\n",
            "Epoch 3/15\n",
            "111/111 [==============================] - 2s 20ms/step - loss: 0.6482 - accuracy: 0.7905 - val_loss: 0.5920 - val_accuracy: 0.8160\n",
            "Epoch 4/15\n",
            "111/111 [==============================] - 2s 20ms/step - loss: 0.5566 - accuracy: 0.8278 - val_loss: 0.5766 - val_accuracy: 0.8273\n",
            "Epoch 5/15\n",
            "111/111 [==============================] - 2s 20ms/step - loss: 0.5706 - accuracy: 0.8227 - val_loss: 0.5558 - val_accuracy: 0.8217\n",
            "Epoch 6/15\n",
            "111/111 [==============================] - 2s 20ms/step - loss: 0.5019 - accuracy: 0.8427 - val_loss: 0.5011 - val_accuracy: 0.8488\n",
            "Epoch 7/15\n",
            "111/111 [==============================] - 2s 20ms/step - loss: 0.4741 - accuracy: 0.8521 - val_loss: 0.5390 - val_accuracy: 0.8352\n",
            "Epoch 8/15\n",
            "111/111 [==============================] - 2s 20ms/step - loss: 0.4389 - accuracy: 0.8670 - val_loss: 0.5862 - val_accuracy: 0.8273\n",
            "Epoch 9/15\n",
            "111/111 [==============================] - 2s 20ms/step - loss: 0.4180 - accuracy: 0.8732 - val_loss: 0.5169 - val_accuracy: 0.8363\n",
            "Epoch 10/15\n",
            "111/111 [==============================] - 2s 20ms/step - loss: 0.3823 - accuracy: 0.8840 - val_loss: 0.4870 - val_accuracy: 0.8555\n",
            "Epoch 11/15\n",
            "111/111 [==============================] - 2s 20ms/step - loss: 0.3585 - accuracy: 0.8953 - val_loss: 0.5155 - val_accuracy: 0.8397\n",
            "Epoch 12/15\n",
            "111/111 [==============================] - 2s 20ms/step - loss: 0.3541 - accuracy: 0.8958 - val_loss: 0.4825 - val_accuracy: 0.8679\n",
            "Epoch 13/15\n",
            "111/111 [==============================] - 2s 20ms/step - loss: 0.3373 - accuracy: 0.9003 - val_loss: 0.4909 - val_accuracy: 0.8589\n",
            "Epoch 14/15\n",
            "111/111 [==============================] - 2s 20ms/step - loss: 0.2826 - accuracy: 0.9241 - val_loss: 0.4359 - val_accuracy: 0.8837\n",
            "Epoch 15/15\n",
            "111/111 [==============================] - 2s 20ms/step - loss: 0.2817 - accuracy: 0.9193 - val_loss: 0.5389 - val_accuracy: 0.8454\n"
          ],
          "name": "stdout"
        }
      ]
    },
    {
      "cell_type": "code",
      "metadata": {
        "colab": {
          "base_uri": "https://localhost:8080/"
        },
        "id": "CeuEiObTRDt8",
        "outputId": "415d1335-3075-44bf-97c3-75c82dbaf0eb"
      },
      "source": [
        "score_accuracy = model_cnn13.evaluate(x_test, y_test)"
      ],
      "execution_count": 31,
      "outputs": [
        {
          "output_type": "stream",
          "text": [
            "28/28 [==============================] - 0s 10ms/step - loss: 0.5389 - accuracy: 0.8454\n"
          ],
          "name": "stdout"
        }
      ]
    },
    {
      "cell_type": "code",
      "metadata": {
        "colab": {
          "base_uri": "https://localhost:8080/",
          "height": 201
        },
        "id": "S3aMYMllRDc0",
        "outputId": "26203755-7683-4059-8dd5-ee6bc2163642"
      },
      "source": [
        "plot_acc_loss(history_10)"
      ],
      "execution_count": null,
      "outputs": [
        {
          "output_type": "display_data",
          "data": {
            "image/png": "[encoded data removed]",
            "text/plain": [
              "<Figure size 720x360 with 2 Axes>"
            ]
          },
          "metadata": {
            "tags": [],
            "needs_background": "light"
          }
        }
      ]
    },
    {
      "cell_type": "markdown",
      "metadata": {
        "id": "-kdscvo-qMyJ"
      },
      "source": [
        "### Model Final 1 + d 0.5 + 2"
      ]
    },
    {
      "cell_type": "code",
      "metadata": {
        "id": "LMFb6iH9qL9n"
      },
      "source": [
        "model_cnnFinal = keras.Sequential()\n",
        "\n",
        "model_cnnFinal.add(keras.layers.Conv2D(filters=16, kernel_size=(5,5), input_shape=(224,224,3), padding='same', activation=\"relu\"))\n",
        "model_cnnFinal.add(keras.layers.MaxPooling2D())\n",
        "model_cnnFinal.add(keras.layers.Conv2D(filters=16, kernel_size=(5,5), padding='same', activation=\"relu\"))\n",
        "model_cnnFinal.add(keras.layers.MaxPooling2D())\n",
        "model_cnnFinal.add(keras.layers.Conv2D(filters=32, kernel_size=(3,3), padding='same', activation=\"relu\"))\n",
        "model_cnnFinal.add(keras.layers.MaxPooling2D())\n",
        "model_cnnFinal.add(keras.layers.Conv2D(filters=32, kernel_size=(3,3), padding='same', activation=\"relu\"))\n",
        "model_cnnFinal.add(keras.layers.MaxPooling2D())\n",
        "\n",
        "#Dropout\n",
        "model_cnnFinal.add(keras.layers.Dropout(0.5))\n",
        "\n",
        "model_cnnFinal.add(keras.layers.Flatten()) # flatten layer \n",
        "model_cnnFinal.add(keras.layers.Dense(units = 64, activation='relu') )  # hidden layer \n",
        "model_cnnFinal.add(keras.layers.Dense(units = 4, activation='softmax') ) # output layer \n",
        "\n",
        "model_cnnFinal.compile(optimizer='adam', loss='sparse_categorical_crossentropy', metrics=['accuracy'])"
      ],
      "execution_count": 32,
      "outputs": []
    },
    {
      "cell_type": "code",
      "metadata": {
        "colab": {
          "base_uri": "https://localhost:8080/"
        },
        "id": "yefEaH2JqVAr",
        "outputId": "8ec8bf21-c06e-4303-f473-8ffb5ea795b0"
      },
      "source": [
        "model_cnnFinal.summary()"
      ],
      "execution_count": 33,
      "outputs": [
        {
          "output_type": "stream",
          "text": [
            "Model: \"sequential_7\"\n",
            "_________________________________________________________________\n",
            "Layer (type)                 Output Shape              Param #   \n",
            "=================================================================\n",
            "conv2d_28 (Conv2D)           (None, 224, 224, 16)      1216      \n",
            "_________________________________________________________________\n",
            "max_pooling2d_28 (MaxPooling (None, 112, 112, 16)      0         \n",
            "_________________________________________________________________\n",
            "conv2d_29 (Conv2D)           (None, 112, 112, 16)      6416      \n",
            "_________________________________________________________________\n",
            "max_pooling2d_29 (MaxPooling (None, 56, 56, 16)        0         \n",
            "_________________________________________________________________\n",
            "conv2d_30 (Conv2D)           (None, 56, 56, 32)        4640      \n",
            "_________________________________________________________________\n",
            "max_pooling2d_30 (MaxPooling (None, 28, 28, 32)        0         \n",
            "_________________________________________________________________\n",
            "conv2d_31 (Conv2D)           (None, 28, 28, 32)        9248      \n",
            "_________________________________________________________________\n",
            "max_pooling2d_31 (MaxPooling (None, 14, 14, 32)        0         \n",
            "_________________________________________________________________\n",
            "dropout_7 (Dropout)          (None, 14, 14, 32)        0         \n",
            "_________________________________________________________________\n",
            "flatten_7 (Flatten)          (None, 6272)              0         \n",
            "_________________________________________________________________\n",
            "dense_16 (Dense)             (None, 64)                401472    \n",
            "_________________________________________________________________\n",
            "dense_17 (Dense)             (None, 4)                 260       \n",
            "=================================================================\n",
            "Total params: 423,252\n",
            "Trainable params: 423,252\n",
            "Non-trainable params: 0\n",
            "_________________________________________________________________\n"
          ],
          "name": "stdout"
        }
      ]
    },
    {
      "cell_type": "code",
      "metadata": {
        "colab": {
          "base_uri": "https://localhost:8080/"
        },
        "id": "AwZtMy8Rqfoo",
        "outputId": "7b8f56ad-6892-48a0-dbb7-f6df78f96871"
      },
      "source": [
        "history_final = model_cnnFinal.fit(x_train, y_train, validation_data= (x_test,y_test), epochs=15);"
      ],
      "execution_count": 34,
      "outputs": [
        {
          "output_type": "stream",
          "text": [
            "Epoch 1/15\n",
            "111/111 [==============================] - 4s 29ms/step - loss: 1.0923 - accuracy: 0.5296 - val_loss: 0.9061 - val_accuracy: 0.6580\n",
            "Epoch 2/15\n",
            "111/111 [==============================] - 2s 21ms/step - loss: 0.7295 - accuracy: 0.7250 - val_loss: 0.6146 - val_accuracy: 0.7743\n",
            "Epoch 3/15\n",
            "111/111 [==============================] - 2s 21ms/step - loss: 0.5741 - accuracy: 0.7851 - val_loss: 0.5354 - val_accuracy: 0.8002\n",
            "Epoch 4/15\n",
            "111/111 [==============================] - 2s 21ms/step - loss: 0.4865 - accuracy: 0.8213 - val_loss: 0.4698 - val_accuracy: 0.8318\n",
            "Epoch 5/15\n",
            "111/111 [==============================] - 2s 21ms/step - loss: 0.4268 - accuracy: 0.8447 - val_loss: 0.4443 - val_accuracy: 0.8499\n",
            "Epoch 6/15\n",
            "111/111 [==============================] - 2s 21ms/step - loss: 0.4045 - accuracy: 0.8501 - val_loss: 0.4272 - val_accuracy: 0.8476\n",
            "Epoch 7/15\n",
            "111/111 [==============================] - 2s 21ms/step - loss: 0.3530 - accuracy: 0.8693 - val_loss: 0.4020 - val_accuracy: 0.8646\n",
            "Epoch 8/15\n",
            "111/111 [==============================] - 2s 21ms/step - loss: 0.2969 - accuracy: 0.8910 - val_loss: 0.4775 - val_accuracy: 0.8431\n",
            "Epoch 9/15\n",
            "111/111 [==============================] - 2s 21ms/step - loss: 0.2898 - accuracy: 0.8927 - val_loss: 0.4331 - val_accuracy: 0.8488\n",
            "Epoch 10/15\n",
            "111/111 [==============================] - 2s 21ms/step - loss: 0.2663 - accuracy: 0.9015 - val_loss: 0.4478 - val_accuracy: 0.8510\n",
            "Epoch 11/15\n",
            "111/111 [==============================] - 2s 21ms/step - loss: 0.2180 - accuracy: 0.9218 - val_loss: 0.4323 - val_accuracy: 0.8600\n",
            "Epoch 12/15\n",
            "111/111 [==============================] - 2s 21ms/step - loss: 0.2003 - accuracy: 0.9339 - val_loss: 0.4378 - val_accuracy: 0.8499\n",
            "Epoch 13/15\n",
            "111/111 [==============================] - 2s 21ms/step - loss: 0.1916 - accuracy: 0.9277 - val_loss: 0.4366 - val_accuracy: 0.8623\n",
            "Epoch 14/15\n",
            "111/111 [==============================] - 2s 21ms/step - loss: 0.1472 - accuracy: 0.9466 - val_loss: 0.4893 - val_accuracy: 0.8702\n",
            "Epoch 15/15\n",
            "111/111 [==============================] - 2s 21ms/step - loss: 0.1381 - accuracy: 0.9520 - val_loss: 0.4997 - val_accuracy: 0.8442\n"
          ],
          "name": "stdout"
        }
      ]
    },
    {
      "cell_type": "code",
      "metadata": {
        "colab": {
          "base_uri": "https://localhost:8080/"
        },
        "id": "DxLLTLU1qpxN",
        "outputId": "ea9be859-35fb-4bf4-f1d0-b6b9c100c948"
      },
      "source": [
        "score_accuracy = model_cnnFinal.evaluate(x_test, y_test)"
      ],
      "execution_count": 36,
      "outputs": [
        {
          "output_type": "stream",
          "text": [
            "28/28 [==============================] - 0s 10ms/step - loss: 0.4997 - accuracy: 0.8442\n"
          ],
          "name": "stdout"
        }
      ]
    },
    {
      "cell_type": "code",
      "metadata": {
        "colab": {
          "base_uri": "https://localhost:8080/",
          "height": 201
        },
        "id": "oOOV9u9JqmUU",
        "outputId": "69667b36-b560-4860-f096-efe11ea893f2"
      },
      "source": [
        "plot_accuracy_loss(history_final)"
      ],
      "execution_count": 35,
      "outputs": [
        {
          "output_type": "display_data",
          "data": {
            "image/png": "[encoded data removed]",
            "text/plain": [
              "<Figure size 720x360 with 2 Axes>"
            ]
          },
          "metadata": {
            "tags": [],
            "needs_background": "light"
          }
        }
      ]
    },
    {
      "cell_type": "markdown",
      "metadata": {
        "id": "vVcSfU9NRa09"
      },
      "source": [
        "### Model Final Capstone + 3"
      ]
    },
    {
      "cell_type": "code",
      "metadata": {
        "id": "Jt7RIG3yRZ-d"
      },
      "source": [
        "from tensorflow.keras import layers\n",
        "from tensorflow.keras.models import Sequential\n",
        "from keras import regularizers\n",
        "\n",
        "model = keras.Sequential()\n",
        "\n",
        "#Regularization optimizes a model by penalizing complex models, therefore minimizing loss and complexity. \n",
        "model.add(keras.layers.Conv2D(filters=16, kernel_size=(7,7), input_shape=(224,224,3), padding='same', activation=\"relu\",  kernel_regularizer=regularizers.l2(l=0.01)))\n",
        "model.add(keras.layers.MaxPooling2D())\n",
        "model.add(keras.layers.Conv2D(filters=16, kernel_size=(5,5), padding='same', activation=\"relu\",  kernel_regularizer=regularizers.l2(l=0.01)))\n",
        "model.add(keras.layers.MaxPooling2D())\n",
        "model.add(keras.layers.Conv2D(filters=32, kernel_size=(3,3), padding='same', activation=\"relu\"))\n",
        "model.add(keras.layers.MaxPooling2D())\n",
        "model.add(keras.layers.Conv2D(filters=32, kernel_size=(2,2), padding='same', activation=\"relu\"))\n",
        "model.add(keras.layers.MaxPooling2D())\n",
        "\n",
        "#using dropout\n",
        "model.add(keras.layers.Dropout(0.7))\n",
        "\n",
        "model.add(keras.layers.Flatten()) # flatten layer \n",
        "model.add(keras.layers.Dense(units = 64, activation='relu') )  #input layer \n",
        "model.add(keras.layers.Dense(units = 16, activation='relu') )  # hidden layer \n",
        "model.add(keras.layers.Dense(units = 4, activation='softmax') ) # output layer \n",
        "\n",
        "model.compile(optimizer='adam', loss='sparse_categorical_crossentropy', metrics=['accuracy'])"
      ],
      "execution_count": 37,
      "outputs": []
    },
    {
      "cell_type": "code",
      "metadata": {
        "colab": {
          "base_uri": "https://localhost:8080/"
        },
        "id": "e_Yg9M3PRhQy",
        "outputId": "7d3532fa-0cba-4d6b-b701-51eb3657de3c"
      },
      "source": [
        "model.summary()"
      ],
      "execution_count": 38,
      "outputs": [
        {
          "output_type": "stream",
          "text": [
            "Model: \"sequential_8\"\n",
            "_________________________________________________________________\n",
            "Layer (type)                 Output Shape              Param #   \n",
            "=================================================================\n",
            "conv2d_32 (Conv2D)           (None, 224, 224, 16)      2368      \n",
            "_________________________________________________________________\n",
            "max_pooling2d_32 (MaxPooling (None, 112, 112, 16)      0         \n",
            "_________________________________________________________________\n",
            "conv2d_33 (Conv2D)           (None, 112, 112, 16)      6416      \n",
            "_________________________________________________________________\n",
            "max_pooling2d_33 (MaxPooling (None, 56, 56, 16)        0         \n",
            "_________________________________________________________________\n",
            "conv2d_34 (Conv2D)           (None, 56, 56, 32)        4640      \n",
            "_________________________________________________________________\n",
            "max_pooling2d_34 (MaxPooling (None, 28, 28, 32)        0         \n",
            "_________________________________________________________________\n",
            "conv2d_35 (Conv2D)           (None, 28, 28, 32)        4128      \n",
            "_________________________________________________________________\n",
            "max_pooling2d_35 (MaxPooling (None, 14, 14, 32)        0         \n",
            "_________________________________________________________________\n",
            "dropout_8 (Dropout)          (None, 14, 14, 32)        0         \n",
            "_________________________________________________________________\n",
            "flatten_8 (Flatten)          (None, 6272)              0         \n",
            "_________________________________________________________________\n",
            "dense_18 (Dense)             (None, 64)                401472    \n",
            "_________________________________________________________________\n",
            "dense_19 (Dense)             (None, 16)                1040      \n",
            "_________________________________________________________________\n",
            "dense_20 (Dense)             (None, 4)                 68        \n",
            "=================================================================\n",
            "Total params: 420,132\n",
            "Trainable params: 420,132\n",
            "Non-trainable params: 0\n",
            "_________________________________________________________________\n"
          ],
          "name": "stdout"
        }
      ]
    },
    {
      "cell_type": "code",
      "metadata": {
        "colab": {
          "base_uri": "https://localhost:8080/"
        },
        "id": "9Mb7-KQ9RkXS",
        "outputId": "1c2bf887-96a0-46f2-b954-b2a1f774d2b0"
      },
      "source": [
        "history_model = model.fit(x_train, y_train, validation_data= (x_test,y_test), epochs=15);"
      ],
      "execution_count": 39,
      "outputs": [
        {
          "output_type": "stream",
          "text": [
            "Epoch 1/15\n",
            "111/111 [==============================] - 4s 27ms/step - loss: 1.2194 - accuracy: 0.5130 - val_loss: 1.0131 - val_accuracy: 0.6411\n",
            "Epoch 2/15\n",
            "111/111 [==============================] - 3s 23ms/step - loss: 0.8128 - accuracy: 0.7126 - val_loss: 0.7121 - val_accuracy: 0.7686\n",
            "Epoch 3/15\n",
            "111/111 [==============================] - 3s 23ms/step - loss: 0.6876 - accuracy: 0.7538 - val_loss: 0.6960 - val_accuracy: 0.7799\n",
            "Epoch 4/15\n",
            "111/111 [==============================] - 3s 23ms/step - loss: 0.6269 - accuracy: 0.7877 - val_loss: 0.6714 - val_accuracy: 0.7743\n",
            "Epoch 5/15\n",
            "111/111 [==============================] - 3s 23ms/step - loss: 0.5879 - accuracy: 0.8007 - val_loss: 0.5957 - val_accuracy: 0.8047\n",
            "Epoch 6/15\n",
            "111/111 [==============================] - 3s 23ms/step - loss: 0.5429 - accuracy: 0.8134 - val_loss: 0.5636 - val_accuracy: 0.8115\n",
            "Epoch 7/15\n",
            "111/111 [==============================] - 3s 23ms/step - loss: 0.4977 - accuracy: 0.8363 - val_loss: 0.6240 - val_accuracy: 0.7912\n",
            "Epoch 8/15\n",
            "111/111 [==============================] - 3s 23ms/step - loss: 0.4442 - accuracy: 0.8554 - val_loss: 0.6183 - val_accuracy: 0.8014\n",
            "Epoch 9/15\n",
            "111/111 [==============================] - 3s 23ms/step - loss: 0.4298 - accuracy: 0.8642 - val_loss: 0.5903 - val_accuracy: 0.8047\n",
            "Epoch 10/15\n",
            "111/111 [==============================] - 3s 23ms/step - loss: 0.4347 - accuracy: 0.8563 - val_loss: 0.5014 - val_accuracy: 0.8363\n",
            "Epoch 11/15\n",
            "111/111 [==============================] - 3s 23ms/step - loss: 0.3906 - accuracy: 0.8721 - val_loss: 0.4910 - val_accuracy: 0.8657\n",
            "Epoch 12/15\n",
            "111/111 [==============================] - 3s 23ms/step - loss: 0.3782 - accuracy: 0.8752 - val_loss: 0.5175 - val_accuracy: 0.8533\n",
            "Epoch 13/15\n",
            "111/111 [==============================] - 3s 27ms/step - loss: 0.3498 - accuracy: 0.8871 - val_loss: 0.5774 - val_accuracy: 0.8228\n",
            "Epoch 14/15\n",
            "111/111 [==============================] - 3s 23ms/step - loss: 0.3138 - accuracy: 0.9046 - val_loss: 0.4790 - val_accuracy: 0.8544\n",
            "Epoch 15/15\n",
            "111/111 [==============================] - 3s 23ms/step - loss: 0.2972 - accuracy: 0.9085 - val_loss: 0.4705 - val_accuracy: 0.8589\n"
          ],
          "name": "stdout"
        }
      ]
    },
    {
      "cell_type": "code",
      "metadata": {
        "colab": {
          "base_uri": "https://localhost:8080/"
        },
        "id": "fpu7cIOeRoYs",
        "outputId": "e3a546be-a977-4eed-a792-e857ced854d1"
      },
      "source": [
        "score_accuracy = model.evaluate(x_test, y_test)"
      ],
      "execution_count": 40,
      "outputs": [
        {
          "output_type": "stream",
          "text": [
            "28/28 [==============================] - 0s 11ms/step - loss: 0.4705 - accuracy: 0.8589\n"
          ],
          "name": "stdout"
        }
      ]
    },
    {
      "cell_type": "code",
      "metadata": {
        "colab": {
          "base_uri": "https://localhost:8080/",
          "height": 201
        },
        "id": "5GjNQCS8RqEG",
        "outputId": "8c356b77-6246-4eb9-885d-a432953fb372"
      },
      "source": [
        "plot_accuracy_loss(history_model)"
      ],
      "execution_count": 41,
      "outputs": [
        {
          "output_type": "display_data",
          "data": {
            "image/png": "[encoded data removed]",
            "text/plain": [
              "<Figure size 720x360 with 2 Axes>"
            ]
          },
          "metadata": {
            "tags": [],
            "needs_background": "light"
          }
        }
      ]
    },
    {
      "cell_type": "markdown",
      "metadata": {
        "id": "6D0EF133q-Zy"
      },
      "source": [
        "### Model Upgrade Capstone + d 0.5 + 3"
      ]
    },
    {
      "cell_type": "code",
      "metadata": {
        "id": "s5n4ra_2q9jf"
      },
      "source": [
        "modelcnn = keras.Sequential()\n",
        "\n",
        "#Regularization optimizes a model by penalizing complex models, therefore minimizing loss and complexity. \n",
        "modelcnn.add(keras.layers.Conv2D(filters=16, kernel_size=(7,7), input_shape=(224,224,3), padding='same', activation=\"relu\",  kernel_regularizer=regularizers.l2(l=0.01)))\n",
        "modelcnn.add(keras.layers.MaxPooling2D())\n",
        "modelcnn.add(keras.layers.Conv2D(filters=16, kernel_size=(5,5), padding='same', activation=\"relu\",  kernel_regularizer=regularizers.l2(l=0.01)))\n",
        "modelcnn.add(keras.layers.MaxPooling2D())\n",
        "modelcnn.add(keras.layers.Conv2D(filters=32, kernel_size=(3,3), padding='same', activation=\"relu\"))\n",
        "modelcnn.add(keras.layers.MaxPooling2D())\n",
        "modelcnn.add(keras.layers.Conv2D(filters=32, kernel_size=(3,3), padding='same', activation=\"relu\"))\n",
        "modelcnn.add(keras.layers.MaxPooling2D())\n",
        "\n",
        "#using dropout\n",
        "modelcnn.add(keras.layers.Dropout(0.5))\n",
        "\n",
        "modelcnn.add(keras.layers.Flatten()) # flatten layer \n",
        "modelcnn.add(keras.layers.Dense(units = 64, activation='relu') )  #input layer \n",
        "modelcnn.add(keras.layers.Dense(units = 16, activation='relu') )  # hidden layer \n",
        "modelcnn.add(keras.layers.Dense(units = 4, activation='softmax') ) # output layer \n",
        "\n",
        "modelcnn.compile(optimizer='adam', loss='sparse_categorical_crossentropy', metrics=['accuracy'])"
      ],
      "execution_count": 42,
      "outputs": []
    },
    {
      "cell_type": "code",
      "metadata": {
        "colab": {
          "base_uri": "https://localhost:8080/"
        },
        "id": "OgqrYap4sBxm",
        "outputId": "37681e70-8e2d-4593-89b4-6d107c5ffd03"
      },
      "source": [
        "modelcnn.summary()"
      ],
      "execution_count": 43,
      "outputs": [
        {
          "output_type": "stream",
          "text": [
            "Model: \"sequential_9\"\n",
            "_________________________________________________________________\n",
            "Layer (type)                 Output Shape              Param #   \n",
            "=================================================================\n",
            "conv2d_36 (Conv2D)           (None, 224, 224, 16)      2368      \n",
            "_________________________________________________________________\n",
            "max_pooling2d_36 (MaxPooling (None, 112, 112, 16)      0         \n",
            "_________________________________________________________________\n",
            "conv2d_37 (Conv2D)           (None, 112, 112, 16)      6416      \n",
            "_________________________________________________________________\n",
            "max_pooling2d_37 (MaxPooling (None, 56, 56, 16)        0         \n",
            "_________________________________________________________________\n",
            "conv2d_38 (Conv2D)           (None, 56, 56, 32)        4640      \n",
            "_________________________________________________________________\n",
            "max_pooling2d_38 (MaxPooling (None, 28, 28, 32)        0         \n",
            "_________________________________________________________________\n",
            "conv2d_39 (Conv2D)           (None, 28, 28, 32)        9248      \n",
            "_________________________________________________________________\n",
            "max_pooling2d_39 (MaxPooling (None, 14, 14, 32)        0         \n",
            "_________________________________________________________________\n",
            "dropout_9 (Dropout)          (None, 14, 14, 32)        0         \n",
            "_________________________________________________________________\n",
            "flatten_9 (Flatten)          (None, 6272)              0         \n",
            "_________________________________________________________________\n",
            "dense_21 (Dense)             (None, 64)                401472    \n",
            "_________________________________________________________________\n",
            "dense_22 (Dense)             (None, 16)                1040      \n",
            "_________________________________________________________________\n",
            "dense_23 (Dense)             (None, 4)                 68        \n",
            "=================================================================\n",
            "Total params: 425,252\n",
            "Trainable params: 425,252\n",
            "Non-trainable params: 0\n",
            "_________________________________________________________________\n"
          ],
          "name": "stdout"
        }
      ]
    },
    {
      "cell_type": "code",
      "metadata": {
        "colab": {
          "base_uri": "https://localhost:8080/"
        },
        "id": "4rShiD6RsELm",
        "outputId": "14ccd8f3-91ba-4d3c-d726-53d5b62dbd99"
      },
      "source": [
        "history_modelcnn = modelcnn.fit(x_train, y_train, validation_data= (x_test,y_test), epochs=15);"
      ],
      "execution_count": 44,
      "outputs": [
        {
          "output_type": "stream",
          "text": [
            "Epoch 1/15\n",
            "111/111 [==============================] - 3s 26ms/step - loss: 1.2171 - accuracy: 0.5065 - val_loss: 0.9138 - val_accuracy: 0.6795\n",
            "Epoch 2/15\n",
            "111/111 [==============================] - 3s 23ms/step - loss: 0.8566 - accuracy: 0.6897 - val_loss: 0.9377 - val_accuracy: 0.6512\n",
            "Epoch 3/15\n",
            "111/111 [==============================] - 3s 23ms/step - loss: 0.7150 - accuracy: 0.7504 - val_loss: 0.6620 - val_accuracy: 0.7822\n",
            "Epoch 4/15\n",
            "111/111 [==============================] - 3s 23ms/step - loss: 0.6089 - accuracy: 0.7976 - val_loss: 0.6520 - val_accuracy: 0.7856\n",
            "Epoch 5/15\n",
            "111/111 [==============================] - 3s 23ms/step - loss: 0.5544 - accuracy: 0.8182 - val_loss: 0.5587 - val_accuracy: 0.8217\n",
            "Epoch 6/15\n",
            "111/111 [==============================] - 3s 23ms/step - loss: 0.4567 - accuracy: 0.8546 - val_loss: 0.5418 - val_accuracy: 0.8318\n",
            "Epoch 7/15\n",
            "111/111 [==============================] - 3s 23ms/step - loss: 0.4403 - accuracy: 0.8501 - val_loss: 0.6424 - val_accuracy: 0.8002\n",
            "Epoch 8/15\n",
            "111/111 [==============================] - 3s 23ms/step - loss: 0.3827 - accuracy: 0.8792 - val_loss: 0.6275 - val_accuracy: 0.8081\n",
            "Epoch 9/15\n",
            "111/111 [==============================] - 3s 23ms/step - loss: 0.3433 - accuracy: 0.8941 - val_loss: 0.5378 - val_accuracy: 0.8296\n",
            "Epoch 10/15\n",
            "111/111 [==============================] - 3s 23ms/step - loss: 0.3190 - accuracy: 0.9040 - val_loss: 0.5856 - val_accuracy: 0.8352\n",
            "Epoch 11/15\n",
            "111/111 [==============================] - 3s 23ms/step - loss: 0.2723 - accuracy: 0.9221 - val_loss: 0.5521 - val_accuracy: 0.8239\n",
            "Epoch 12/15\n",
            "111/111 [==============================] - 3s 23ms/step - loss: 0.2534 - accuracy: 0.9280 - val_loss: 0.5674 - val_accuracy: 0.8397\n",
            "Epoch 13/15\n",
            "111/111 [==============================] - 3s 23ms/step - loss: 0.2251 - accuracy: 0.9430 - val_loss: 0.5769 - val_accuracy: 0.8476\n",
            "Epoch 14/15\n",
            "111/111 [==============================] - 3s 23ms/step - loss: 0.2116 - accuracy: 0.9379 - val_loss: 0.6826 - val_accuracy: 0.8296\n",
            "Epoch 15/15\n",
            "111/111 [==============================] - 3s 23ms/step - loss: 0.2110 - accuracy: 0.9407 - val_loss: 0.8587 - val_accuracy: 0.7709\n"
          ],
          "name": "stdout"
        }
      ]
    },
    {
      "cell_type": "code",
      "metadata": {
        "colab": {
          "base_uri": "https://localhost:8080/"
        },
        "id": "C_SKHWrlsJIt",
        "outputId": "42d8b719-de61-4078-b590-0293e1169c3c"
      },
      "source": [
        "score_accuracy = modelcnn.evaluate(x_test, y_test)"
      ],
      "execution_count": 45,
      "outputs": [
        {
          "output_type": "stream",
          "text": [
            "28/28 [==============================] - 0s 11ms/step - loss: 0.8587 - accuracy: 0.7709\n"
          ],
          "name": "stdout"
        }
      ]
    },
    {
      "cell_type": "code",
      "metadata": {
        "colab": {
          "base_uri": "https://localhost:8080/",
          "height": 201
        },
        "id": "rM047tGVsf9h",
        "outputId": "a4cabe5f-81e0-426c-ce13-ef804382cd51"
      },
      "source": [
        "plot_accuracy_loss(history_modelcnn)"
      ],
      "execution_count": 46,
      "outputs": [
        {
          "output_type": "display_data",
          "data": {
            "image/png": "[encoded data removed]",
            "text/plain": [
              "<Figure size 720x360 with 2 Axes>"
            ]
          },
          "metadata": {
            "tags": [],
            "needs_background": "light"
          }
        }
      ]
    },
    {
      "cell_type": "markdown",
      "metadata": {
        "id": "dBo8vJCOUQQ5"
      },
      "source": [
        "### MODEL 2.5.0 CNN \n"
      ]
    },
    {
      "cell_type": "code",
      "metadata": {
        "id": "ufN-EVGFYVfq"
      },
      "source": [
        "# from tensorflow.keras.preprocessing.image import ImageDataGenerator\n",
        "\n",
        "# aug = ImageDataGenerator(\n",
        "# \trotation_range=30,\n",
        "# \tzoom_range=0.15,\n",
        "# \twidth_shift_range=0.2,\n",
        "# \theight_shift_range=0.2,\n",
        "# \tshear_range=0.15,\n",
        "# \thorizontal_flip=True,\n",
        "# \tfill_mode=\"nearest\")"
      ],
      "execution_count": null,
      "outputs": []
    },
    {
      "cell_type": "code",
      "metadata": {
        "id": "p_2Z67UwZCq_"
      },
      "source": [
        "# MIN_LR = 1e-6\n",
        "# MAX_LR = 1e-4\n",
        "# BATCH_SIZE = 32"
      ],
      "execution_count": null,
      "outputs": []
    },
    {
      "cell_type": "code",
      "metadata": {
        "id": "aW_ju69vUPui"
      },
      "source": [
        "from tensorflow.keras import layers\n",
        "from tensorflow.keras.models import Sequential\n",
        "from keras import regularizers\n",
        "\n",
        "model_cnn3 = keras.Sequential()\n",
        "\n",
        "#Regularization optimizes a model by penalizing complex models, therefore minimizing loss and complexity. \n",
        "model_cnn3.add(keras.layers.Conv2D(filters=32, kernel_size=(7,7), input_shape=(224,224,3), padding='same', activation=\"relu\",  kernel_regularizer=regularizers.l2(l=0.01)))\n",
        "model_cnn3.add(keras.layers.MaxPooling2D())\n",
        "model_cnn3.add(keras.layers.Conv2D(filters=32, kernel_size=(5,5), padding='same', activation=\"relu\",  kernel_regularizer=regularizers.l2(l=0.01)))\n",
        "model_cnn3.add(keras.layers.MaxPooling2D())\n",
        "model_cnn3.add(keras.layers.Conv2D(filters=32, kernel_size=(3,3), padding='same', activation=\"relu\"))\n",
        "model_cnn3.add(keras.layers.MaxPooling2D())\n",
        "#using dropout\n",
        "model_cnn3.add(keras.layers.Dropout(0.7))\n",
        "\n",
        "model_cnn3.add(keras.layers.Flatten()) # flatten layer \n",
        "#model_cnn2.add(keras.layers.Dense(units = 128,activation='relu') )  #input layer \n",
        "#model_cnn2.add(keras.layers.Dense(units = 64, activation='relu') )\n",
        "model_cnn3.add(keras.layers.Dense(units = 100, activation='relu') )  # hidden layer \n",
        "model_cnn3.add(keras.layers.Dense(units = 4, activation='softmax') ) # output layer \n",
        "\n",
        "model_cnn3.compile(optimizer='adam', loss='sparse_categorical_crossentropy', metrics=['accuracy'])"
      ],
      "execution_count": null,
      "outputs": []
    },
    {
      "cell_type": "code",
      "metadata": {
        "colab": {
          "base_uri": "https://localhost:8080/"
        },
        "id": "xx7VOUuEc_Xh",
        "outputId": "92572fd1-8ddc-4294-bd56-393ebbc20f23"
      },
      "source": [
        "model_cnn3.summary()"
      ],
      "execution_count": null,
      "outputs": [
        {
          "output_type": "stream",
          "text": [
            "Model: \"sequential_2\"\n",
            "_________________________________________________________________\n",
            "Layer (type)                 Output Shape              Param #   \n",
            "=================================================================\n",
            "conv2d_5 (Conv2D)            (None, 224, 224, 32)      4736      \n",
            "_________________________________________________________________\n",
            "max_pooling2d_4 (MaxPooling2 (None, 112, 112, 32)      0         \n",
            "_________________________________________________________________\n",
            "conv2d_6 (Conv2D)            (None, 112, 112, 32)      25632     \n",
            "_________________________________________________________________\n",
            "max_pooling2d_5 (MaxPooling2 (None, 56, 56, 32)        0         \n",
            "_________________________________________________________________\n",
            "conv2d_7 (Conv2D)            (None, 56, 56, 32)        9248      \n",
            "_________________________________________________________________\n",
            "max_pooling2d_6 (MaxPooling2 (None, 28, 28, 32)        0         \n",
            "_________________________________________________________________\n",
            "dropout_2 (Dropout)          (None, 28, 28, 32)        0         \n",
            "_________________________________________________________________\n",
            "flatten_2 (Flatten)          (None, 25088)             0         \n",
            "_________________________________________________________________\n",
            "dense_4 (Dense)              (None, 100)               2508900   \n",
            "_________________________________________________________________\n",
            "dense_5 (Dense)              (None, 4)                 404       \n",
            "=================================================================\n",
            "Total params: 2,548,920\n",
            "Trainable params: 2,548,920\n",
            "Non-trainable params: 0\n",
            "_________________________________________________________________\n"
          ],
          "name": "stdout"
        }
      ]
    },
    {
      "cell_type": "code",
      "metadata": {
        "colab": {
          "base_uri": "https://localhost:8080/"
        },
        "id": "qD7CItShdECo",
        "outputId": "3b78cd80-32f2-43d7-d8c0-6e5e3b637cfb"
      },
      "source": [
        "history_3 = model_cnn3.fit(x_train, y_train, validation_data= (x_test,y_test), epochs=10);"
      ],
      "execution_count": null,
      "outputs": [
        {
          "output_type": "stream",
          "text": [
            "Epoch 1/10\n",
            "111/111 [==============================] - 4s 36ms/step - loss: 0.1503 - accuracy: 0.9616 - val_loss: 0.6311 - val_accuracy: 0.8341\n",
            "Epoch 2/10\n",
            "111/111 [==============================] - 3s 31ms/step - loss: 0.1245 - accuracy: 0.9692 - val_loss: 0.7211 - val_accuracy: 0.8420\n",
            "Epoch 3/10\n",
            "111/111 [==============================] - 3s 31ms/step - loss: 0.1442 - accuracy: 0.9619 - val_loss: 0.6445 - val_accuracy: 0.8431\n",
            "Epoch 4/10\n",
            "111/111 [==============================] - 3s 31ms/step - loss: 0.1081 - accuracy: 0.9777 - val_loss: 0.6662 - val_accuracy: 0.8521\n",
            "Epoch 5/10\n",
            "111/111 [==============================] - 3s 31ms/step - loss: 0.1258 - accuracy: 0.9698 - val_loss: 0.6049 - val_accuracy: 0.8465\n",
            "Epoch 6/10\n",
            "111/111 [==============================] - 3s 31ms/step - loss: 0.0847 - accuracy: 0.9850 - val_loss: 0.6462 - val_accuracy: 0.8544\n",
            "Epoch 7/10\n",
            "111/111 [==============================] - 3s 32ms/step - loss: 0.0962 - accuracy: 0.9819 - val_loss: 0.8257 - val_accuracy: 0.8386\n",
            "Epoch 8/10\n",
            "111/111 [==============================] - 3s 32ms/step - loss: 0.1011 - accuracy: 0.9802 - val_loss: 0.8018 - val_accuracy: 0.8352\n",
            "Epoch 9/10\n",
            "111/111 [==============================] - 3s 31ms/step - loss: 0.1266 - accuracy: 0.9667 - val_loss: 0.6779 - val_accuracy: 0.8375\n",
            "Epoch 10/10\n",
            "111/111 [==============================] - 3s 31ms/step - loss: 0.1102 - accuracy: 0.9766 - val_loss: 0.6186 - val_accuracy: 0.8386\n"
          ],
          "name": "stdout"
        }
      ]
    },
    {
      "cell_type": "code",
      "metadata": {
        "colab": {
          "base_uri": "https://localhost:8080/"
        },
        "id": "s8HVCdF6dD5F",
        "outputId": "cfaaa19d-29bc-4229-9a71-458fc404d1d5"
      },
      "source": [
        "score_accuracy3 = model_cnn3.evaluate(x_test, y_test)"
      ],
      "execution_count": null,
      "outputs": [
        {
          "output_type": "stream",
          "text": [
            "28/28 [==============================] - 0s 14ms/step - loss: 0.6080 - accuracy: 0.8296\n"
          ],
          "name": "stdout"
        }
      ]
    },
    {
      "cell_type": "markdown",
      "metadata": {
        "id": "mrDNdtDUektH"
      },
      "source": [
        "### MODEL 2.5.1 CNN "
      ]
    },
    {
      "cell_type": "code",
      "metadata": {
        "id": "JrMdRJesem4V"
      },
      "source": [
        "from tensorflow.keras import layers\n",
        "from tensorflow.keras.models import Sequential\n",
        "from keras import regularizers\n",
        "\n",
        "model_cnn4 = keras.Sequential()\n",
        "\n",
        "#Regularization optimizes a model by penalizing complex models, therefore minimizing loss and complexity. \n",
        "model_cnn4.add(keras.layers.Conv2D(filters=16, kernel_size=(7,7), input_shape=(224,224,3), padding='same', activation=\"relu\",  kernel_regularizer=regularizers.l2(l=0.01)))\n",
        "model_cnn4.add(keras.layers.MaxPooling2D())\n",
        "model_cnn4.add(keras.layers.Conv2D(filters=16, kernel_size=(5,5), padding='same', activation=\"relu\",  kernel_regularizer=regularizers.l2(l=0.01)))\n",
        "model_cnn4.add(keras.layers.MaxPooling2D())\n",
        "model_cnn4.add(keras.layers.Conv2D(filters=32, kernel_size=(3,3), padding='same', activation=\"relu\"))\n",
        "model_cnn4.add(keras.layers.MaxPooling2D())\n",
        "model_cnn4.add(keras.layers.Conv2D(filters=32, kernel_size=(2,2), padding='same', activation=\"relu\"))\n",
        "#using dropout\n",
        "model_cnn4.add(keras.layers.Dropout(0.9))\n",
        "\n",
        "model_cnn4.add(keras.layers.Flatten()) # flatten layer \n",
        "#model_cnn2.add(keras.layers.Dense(units = 128,activation='relu') )  #input layer \n",
        "#model_cnn2.add(keras.layers.Dense(units = 64, activation='relu') )\n",
        "model_cnn4.add(keras.layers.Dense(units = 64, activation='relu') )  # hidden layer \n",
        "model_cnn4.add(keras.layers.Dense(units = 4, activation='softmax') ) # output layer \n",
        "\n",
        "model_cnn4.compile(optimizer='adam', loss='sparse_categorical_crossentropy', metrics=['accuracy'])"
      ],
      "execution_count": null,
      "outputs": []
    },
    {
      "cell_type": "code",
      "metadata": {
        "colab": {
          "base_uri": "https://localhost:8080/"
        },
        "id": "zuWLBQHOenJ3",
        "outputId": "67aa5b6e-faef-437b-e251-7500f6f9fc05"
      },
      "source": [
        "model_cnn4.summary()"
      ],
      "execution_count": null,
      "outputs": [
        {
          "output_type": "stream",
          "text": [
            "Model: \"sequential_3\"\n",
            "_________________________________________________________________\n",
            "Layer (type)                 Output Shape              Param #   \n",
            "=================================================================\n",
            "conv2d_8 (Conv2D)            (None, 224, 224, 16)      2368      \n",
            "_________________________________________________________________\n",
            "max_pooling2d_7 (MaxPooling2 (None, 112, 112, 16)      0         \n",
            "_________________________________________________________________\n",
            "conv2d_9 (Conv2D)            (None, 112, 112, 16)      6416      \n",
            "_________________________________________________________________\n",
            "max_pooling2d_8 (MaxPooling2 (None, 56, 56, 16)        0         \n",
            "_________________________________________________________________\n",
            "conv2d_10 (Conv2D)           (None, 56, 56, 32)        4640      \n",
            "_________________________________________________________________\n",
            "max_pooling2d_9 (MaxPooling2 (None, 28, 28, 32)        0         \n",
            "_________________________________________________________________\n",
            "conv2d_11 (Conv2D)           (None, 28, 28, 32)        4128      \n",
            "_________________________________________________________________\n",
            "dropout_3 (Dropout)          (None, 28, 28, 32)        0         \n",
            "_________________________________________________________________\n",
            "flatten_3 (Flatten)          (None, 25088)             0         \n",
            "_________________________________________________________________\n",
            "dense_6 (Dense)              (None, 64)                1605696   \n",
            "_________________________________________________________________\n",
            "dense_7 (Dense)              (None, 4)                 260       \n",
            "=================================================================\n",
            "Total params: 1,623,508\n",
            "Trainable params: 1,623,508\n",
            "Non-trainable params: 0\n",
            "_________________________________________________________________\n"
          ],
          "name": "stdout"
        }
      ]
    },
    {
      "cell_type": "code",
      "metadata": {
        "id": "hu-W0xwJmi4V",
        "colab": {
          "base_uri": "https://localhost:8080/"
        },
        "outputId": "c1fdcbe9-cc13-4814-d1fa-ba69fbf75df8"
      },
      "source": [
        "history_4 = model_cnn4.fit(x_train, y_train, validation_data= (x_test,y_test), epochs=15);"
      ],
      "execution_count": null,
      "outputs": [
        {
          "output_type": "stream",
          "text": [
            "Epoch 1/15\n",
            "111/111 [==============================] - 4s 28ms/step - loss: 1.1206 - accuracy: 0.5519 - val_loss: 0.7452 - val_accuracy: 0.7551\n",
            "Epoch 2/15\n",
            "111/111 [==============================] - 3s 23ms/step - loss: 0.7775 - accuracy: 0.7276 - val_loss: 0.6198 - val_accuracy: 0.7968\n",
            "Epoch 3/15\n",
            "111/111 [==============================] - 3s 23ms/step - loss: 0.6534 - accuracy: 0.7733 - val_loss: 0.5971 - val_accuracy: 0.8002\n",
            "Epoch 4/15\n",
            "111/111 [==============================] - 3s 23ms/step - loss: 0.6144 - accuracy: 0.7880 - val_loss: 0.6193 - val_accuracy: 0.8036\n",
            "Epoch 5/15\n",
            "111/111 [==============================] - 3s 23ms/step - loss: 0.5812 - accuracy: 0.8010 - val_loss: 0.5531 - val_accuracy: 0.8183\n",
            "Epoch 6/15\n",
            "111/111 [==============================] - 3s 23ms/step - loss: 0.5776 - accuracy: 0.8103 - val_loss: 0.5196 - val_accuracy: 0.8397\n",
            "Epoch 7/15\n",
            "111/111 [==============================] - 3s 23ms/step - loss: 0.5050 - accuracy: 0.8363 - val_loss: 0.5286 - val_accuracy: 0.8284\n",
            "Epoch 8/15\n",
            "111/111 [==============================] - 3s 23ms/step - loss: 0.4571 - accuracy: 0.8495 - val_loss: 0.5540 - val_accuracy: 0.8239\n",
            "Epoch 9/15\n",
            "111/111 [==============================] - 3s 23ms/step - loss: 0.4665 - accuracy: 0.8487 - val_loss: 0.5019 - val_accuracy: 0.8431\n",
            "Epoch 10/15\n",
            "111/111 [==============================] - 3s 23ms/step - loss: 0.4500 - accuracy: 0.8506 - val_loss: 0.4758 - val_accuracy: 0.8454\n",
            "Epoch 11/15\n",
            "111/111 [==============================] - 3s 23ms/step - loss: 0.4311 - accuracy: 0.8605 - val_loss: 0.4923 - val_accuracy: 0.8465\n",
            "Epoch 12/15\n",
            "111/111 [==============================] - 3s 23ms/step - loss: 0.4258 - accuracy: 0.8682 - val_loss: 0.6107 - val_accuracy: 0.8149\n",
            "Epoch 13/15\n",
            "111/111 [==============================] - 3s 23ms/step - loss: 0.3831 - accuracy: 0.8772 - val_loss: 0.6415 - val_accuracy: 0.8205\n",
            "Epoch 14/15\n",
            "111/111 [==============================] - 3s 23ms/step - loss: 0.3503 - accuracy: 0.8919 - val_loss: 0.4776 - val_accuracy: 0.8555\n",
            "Epoch 15/15\n",
            "111/111 [==============================] - 3s 23ms/step - loss: 0.3539 - accuracy: 0.8857 - val_loss: 0.5387 - val_accuracy: 0.8431\n"
          ],
          "name": "stdout"
        }
      ]
    },
    {
      "cell_type": "code",
      "metadata": {
        "colab": {
          "base_uri": "https://localhost:8080/"
        },
        "id": "bpO65zR6eu46",
        "outputId": "1622f517-c18c-4c1d-a90f-efc118b6840e"
      },
      "source": [
        "score_accuracy4 = model_cnn4.evaluate(x_test, y_test)"
      ],
      "execution_count": null,
      "outputs": [
        {
          "output_type": "stream",
          "text": [
            "28/28 [==============================] - 0s 12ms/step - loss: 0.6395 - accuracy: 0.8160\n"
          ],
          "name": "stdout"
        }
      ]
    },
    {
      "cell_type": "markdown",
      "metadata": {
        "id": "4xEelL8bllfT"
      },
      "source": [
        "### MODEL 2.5.2 CNN"
      ]
    },
    {
      "cell_type": "code",
      "metadata": {
        "id": "KOp71CahlpBh"
      },
      "source": [
        "from tensorflow.keras import layers\n",
        "from tensorflow.keras.models import Sequential\n",
        "from keras import regularizers\n",
        "\n",
        "model_cnn5 = keras.Sequential()\n",
        "\n",
        "#Regularization optimizes a model by penalizing complex models, therefore minimizing loss and complexity. \n",
        "model_cnn5.add(keras.layers.Conv2D(filters=16, kernel_size=(7,7), input_shape=(224,224,3), padding='same', activation=\"relu\",  kernel_regularizer=regularizers.l2(l=0.01)))\n",
        "model_cnn5.add(keras.layers.MaxPooling2D())\n",
        "model_cnn5.add(keras.layers.Conv2D(filters=16, kernel_size=(5,5), padding='same', activation=\"relu\",  kernel_regularizer=regularizers.l2(l=0.01)))\n",
        "model_cnn5.add(keras.layers.MaxPooling2D())\n",
        "model_cnn5.add(keras.layers.Conv2D(filters=32, kernel_size=(3,3), padding='same', activation=\"relu\"))\n",
        "model_cnn5.add(keras.layers.MaxPooling2D())\n",
        "model_cnn5.add(keras.layers.Conv2D(filters=32, kernel_size=(2,2), padding='same', activation=\"relu\"))\n",
        "model_cnn5.add(keras.layers.MaxPooling2D())\n",
        "#using dropout\n",
        "model_cnn5.add(keras.layers.Dropout(0.7))\n",
        "\n",
        "model_cnn5.add(keras.layers.Flatten()) # flatten layer \n",
        "#model_cnn2.add(keras.layers.Dense(units = 128,activation='relu') )  #input layer \n",
        "model_cnn5.add(keras.layers.Dense(units = 64, activation='relu') )\n",
        "model_cnn5.add(keras.layers.Dense(units = 16, activation='relu') )  # hidden layer \n",
        "model_cnn5.add(keras.layers.Dense(units = 4, activation='softmax') ) # output layer \n",
        "\n",
        "model_cnn5.compile(optimizer='adam', loss='sparse_categorical_crossentropy', metrics=['accuracy'])"
      ],
      "execution_count": null,
      "outputs": []
    },
    {
      "cell_type": "code",
      "metadata": {
        "id": "uGE-wesalo-A",
        "colab": {
          "base_uri": "https://localhost:8080/"
        },
        "outputId": "be0182ce-7acf-4a4b-8371-57ac501ea17c"
      },
      "source": [
        "model_cnn5.summary()"
      ],
      "execution_count": null,
      "outputs": [
        {
          "output_type": "stream",
          "text": [
            "Model: \"sequential_5\"\n",
            "_________________________________________________________________\n",
            "Layer (type)                 Output Shape              Param #   \n",
            "=================================================================\n",
            "conv2d_16 (Conv2D)           (None, 224, 224, 16)      2368      \n",
            "_________________________________________________________________\n",
            "max_pooling2d_13 (MaxPooling (None, 112, 112, 16)      0         \n",
            "_________________________________________________________________\n",
            "conv2d_17 (Conv2D)           (None, 112, 112, 16)      6416      \n",
            "_________________________________________________________________\n",
            "max_pooling2d_14 (MaxPooling (None, 56, 56, 16)        0         \n",
            "_________________________________________________________________\n",
            "conv2d_18 (Conv2D)           (None, 56, 56, 32)        4640      \n",
            "_________________________________________________________________\n",
            "max_pooling2d_15 (MaxPooling (None, 28, 28, 32)        0         \n",
            "_________________________________________________________________\n",
            "conv2d_19 (Conv2D)           (None, 28, 28, 32)        4128      \n",
            "_________________________________________________________________\n",
            "max_pooling2d_16 (MaxPooling (None, 14, 14, 32)        0         \n",
            "_________________________________________________________________\n",
            "dropout_5 (Dropout)          (None, 14, 14, 32)        0         \n",
            "_________________________________________________________________\n",
            "flatten_5 (Flatten)          (None, 6272)              0         \n",
            "_________________________________________________________________\n",
            "dense_11 (Dense)             (None, 64)                401472    \n",
            "_________________________________________________________________\n",
            "dense_12 (Dense)             (None, 16)                1040      \n",
            "_________________________________________________________________\n",
            "dense_13 (Dense)             (None, 4)                 68        \n",
            "=================================================================\n",
            "Total params: 420,132\n",
            "Trainable params: 420,132\n",
            "Non-trainable params: 0\n",
            "_________________________________________________________________\n"
          ],
          "name": "stdout"
        }
      ]
    },
    {
      "cell_type": "code",
      "metadata": {
        "id": "ERuj9Fa6loyL",
        "colab": {
          "base_uri": "https://localhost:8080/"
        },
        "outputId": "7aea9140-3b1b-47c1-f364-b8512a8cc1d3"
      },
      "source": [
        "history_5 = model_cnn5.fit(x_train, y_train, validation_data= (x_test,y_test), epochs=15);"
      ],
      "execution_count": null,
      "outputs": [
        {
          "output_type": "stream",
          "text": [
            "Epoch 1/15\n",
            "111/111 [==============================] - 3s 27ms/step - loss: 1.2780 - accuracy: 0.4754 - val_loss: 0.9370 - val_accuracy: 0.6343\n",
            "Epoch 2/15\n",
            "111/111 [==============================] - 2s 23ms/step - loss: 0.8668 - accuracy: 0.6925 - val_loss: 0.8028 - val_accuracy: 0.7280\n",
            "Epoch 3/15\n",
            "111/111 [==============================] - 3s 23ms/step - loss: 0.7369 - accuracy: 0.7501 - val_loss: 0.6911 - val_accuracy: 0.7720\n",
            "Epoch 4/15\n",
            "111/111 [==============================] - 2s 22ms/step - loss: 0.6879 - accuracy: 0.7719 - val_loss: 0.7252 - val_accuracy: 0.7675\n",
            "Epoch 5/15\n",
            "111/111 [==============================] - 3s 23ms/step - loss: 0.6133 - accuracy: 0.7976 - val_loss: 0.5869 - val_accuracy: 0.8160\n",
            "Epoch 6/15\n",
            "111/111 [==============================] - 2s 22ms/step - loss: 0.5586 - accuracy: 0.8145 - val_loss: 0.5718 - val_accuracy: 0.8262\n",
            "Epoch 7/15\n",
            "111/111 [==============================] - 2s 22ms/step - loss: 0.4993 - accuracy: 0.8365 - val_loss: 0.6185 - val_accuracy: 0.8228\n",
            "Epoch 8/15\n",
            "111/111 [==============================] - 3s 23ms/step - loss: 0.4584 - accuracy: 0.8600 - val_loss: 0.6116 - val_accuracy: 0.8104\n",
            "Epoch 9/15\n",
            "111/111 [==============================] - 2s 22ms/step - loss: 0.4198 - accuracy: 0.8704 - val_loss: 0.5348 - val_accuracy: 0.8352\n",
            "Epoch 10/15\n",
            "111/111 [==============================] - 3s 23ms/step - loss: 0.3967 - accuracy: 0.8786 - val_loss: 0.5865 - val_accuracy: 0.8126\n",
            "Epoch 11/15\n",
            "111/111 [==============================] - 2s 23ms/step - loss: 0.3836 - accuracy: 0.8831 - val_loss: 0.5129 - val_accuracy: 0.8318\n",
            "Epoch 12/15\n",
            "111/111 [==============================] - 3s 23ms/step - loss: 0.3407 - accuracy: 0.8992 - val_loss: 0.5353 - val_accuracy: 0.8397\n",
            "Epoch 13/15\n",
            "111/111 [==============================] - 2s 23ms/step - loss: 0.3326 - accuracy: 0.8995 - val_loss: 0.5220 - val_accuracy: 0.8510\n",
            "Epoch 14/15\n",
            "111/111 [==============================] - 3s 23ms/step - loss: 0.2943 - accuracy: 0.9105 - val_loss: 0.5562 - val_accuracy: 0.8318\n",
            "Epoch 15/15\n",
            "111/111 [==============================] - 3s 23ms/step - loss: 0.3237 - accuracy: 0.9040 - val_loss: 0.5135 - val_accuracy: 0.8499\n"
          ],
          "name": "stdout"
        }
      ]
    },
    {
      "cell_type": "code",
      "metadata": {
        "colab": {
          "base_uri": "https://localhost:8080/"
        },
        "id": "qYl2Jz4UfqD_",
        "outputId": "9213b7f8-41d3-4ef3-db5c-59abd629b272"
      },
      "source": [
        "score_accuracy5 = model_cnn5.evaluate(x_test, y_test)"
      ],
      "execution_count": null,
      "outputs": [
        {
          "output_type": "stream",
          "text": [
            "28/28 [==============================] - 0s 11ms/step - loss: 0.5135 - accuracy: 0.8499\n"
          ],
          "name": "stdout"
        }
      ]
    },
    {
      "cell_type": "markdown",
      "metadata": {
        "id": "2hAEsE-_s45a"
      },
      "source": [
        "### MODEL 2.5.3 CNN"
      ]
    },
    {
      "cell_type": "code",
      "metadata": {
        "id": "RBFfVDVGnw0g"
      },
      "source": [
        "from tensorflow.keras import layers\n",
        "from tensorflow.keras.models import Sequential\n",
        "from keras import regularizers\n",
        "\n",
        "model_cnn6 = keras.Sequential()\n",
        "\n",
        "#Regularization optimizes a model by penalizing complex models, therefore minimizing loss and complexity. \n",
        "model_cnn6.add(keras.layers.Conv2D(filters=16, kernel_size=(7,7), input_shape=(224,224,3), padding='same', activation=\"relu\",  kernel_regularizer=regularizers.l2(l=0.01)))\n",
        "model_cnn6.add(keras.layers.MaxPooling2D())\n",
        "model_cnn6.add(keras.layers.Conv2D(filters=16, kernel_size=(5,5), padding='same', activation=\"relu\",  kernel_regularizer=regularizers.l2(l=0.01)))\n",
        "model_cnn6.add(keras.layers.MaxPooling2D())\n",
        "model_cnn6.add(keras.layers.Conv2D(filters=32, kernel_size=(3,3), padding='same', activation=\"relu\"))\n",
        "model_cnn6.add(keras.layers.MaxPooling2D())\n",
        "model_cnn6.add(keras.layers.Conv2D(filters=32, kernel_size=(2,2), padding='same', activation=\"relu\"))\n",
        "model_cnn6.add(keras.layers.MaxPooling2D())\n",
        "model_cnn6.add(keras.layers.Conv2D(filters=64, kernel_size=(2,2), padding='same', activation=\"relu\"))\n",
        "#using dropout\n",
        "model_cnn6.add(keras.layers.Dropout(0.7))\n",
        "\n",
        "model_cnn6.add(keras.layers.Flatten()) # flatten layer \n",
        "#model_cnn2.add(keras.layers.Dense(units = 128,activation='relu') )  #input layer \n",
        "model_cnn6.add(keras.layers.Dense(units = 32, activation='relu') )\n",
        "model_cnn6.add(keras.layers.Dense(units = 10, activation='relu') )  # hidden layer \n",
        "model_cnn6.add(keras.layers.Dense(units = 4, activation='softmax') ) # output layer \n",
        "\n",
        "model_cnn6.compile(optimizer='adam', loss='sparse_categorical_crossentropy', metrics=['accuracy'])"
      ],
      "execution_count": null,
      "outputs": []
    },
    {
      "cell_type": "code",
      "metadata": {
        "colab": {
          "base_uri": "https://localhost:8080/"
        },
        "id": "dm8Oop1Xn46T",
        "outputId": "b851146b-e90b-49ea-d037-91d9653dcef7"
      },
      "source": [
        "model_cnn6.summary()"
      ],
      "execution_count": null,
      "outputs": [
        {
          "output_type": "stream",
          "text": [
            "Model: \"sequential_12\"\n",
            "_________________________________________________________________\n",
            "Layer (type)                 Output Shape              Param #   \n",
            "=================================================================\n",
            "conv2d_50 (Conv2D)           (None, 224, 224, 16)      2368      \n",
            "_________________________________________________________________\n",
            "max_pooling2d_41 (MaxPooling (None, 112, 112, 16)      0         \n",
            "_________________________________________________________________\n",
            "conv2d_51 (Conv2D)           (None, 112, 112, 16)      6416      \n",
            "_________________________________________________________________\n",
            "max_pooling2d_42 (MaxPooling (None, 56, 56, 16)        0         \n",
            "_________________________________________________________________\n",
            "conv2d_52 (Conv2D)           (None, 56, 56, 32)        4640      \n",
            "_________________________________________________________________\n",
            "max_pooling2d_43 (MaxPooling (None, 28, 28, 32)        0         \n",
            "_________________________________________________________________\n",
            "conv2d_53 (Conv2D)           (None, 28, 28, 32)        4128      \n",
            "_________________________________________________________________\n",
            "max_pooling2d_44 (MaxPooling (None, 14, 14, 32)        0         \n",
            "_________________________________________________________________\n",
            "conv2d_54 (Conv2D)           (None, 14, 14, 64)        8256      \n",
            "_________________________________________________________________\n",
            "dropout_12 (Dropout)         (None, 14, 14, 64)        0         \n",
            "_________________________________________________________________\n",
            "flatten_12 (Flatten)         (None, 12544)             0         \n",
            "_________________________________________________________________\n",
            "dense_32 (Dense)             (None, 32)                401440    \n",
            "_________________________________________________________________\n",
            "dense_33 (Dense)             (None, 10)                330       \n",
            "_________________________________________________________________\n",
            "dense_34 (Dense)             (None, 4)                 44        \n",
            "=================================================================\n",
            "Total params: 427,622\n",
            "Trainable params: 427,622\n",
            "Non-trainable params: 0\n",
            "_________________________________________________________________\n"
          ],
          "name": "stdout"
        }
      ]
    },
    {
      "cell_type": "code",
      "metadata": {
        "colab": {
          "base_uri": "https://localhost:8080/"
        },
        "id": "CKh3R-h7n4rj",
        "outputId": "50a12755-eedd-4888-89af-12640676121a"
      },
      "source": [
        "history_6 = model_cnn6.fit(x_train, y_train, validation_data=(x_test,y_test), epochs =15 )"
      ],
      "execution_count": null,
      "outputs": [
        {
          "output_type": "stream",
          "text": [
            "Epoch 1/15\n",
            "111/111 [==============================] - 5s 40ms/step - loss: 1.3506 - accuracy: 0.3992 - val_loss: 1.0663 - val_accuracy: 0.5395\n",
            "Epoch 2/15\n",
            "111/111 [==============================] - 5s 41ms/step - loss: 0.8892 - accuracy: 0.6773 - val_loss: 0.7465 - val_accuracy: 0.7573\n",
            "Epoch 3/15\n",
            "111/111 [==============================] - 5s 48ms/step - loss: 0.7650 - accuracy: 0.7391 - val_loss: 0.6910 - val_accuracy: 0.7585\n",
            "Epoch 4/15\n",
            "111/111 [==============================] - 6s 50ms/step - loss: 0.6465 - accuracy: 0.7764 - val_loss: 0.6540 - val_accuracy: 0.7912\n",
            "Epoch 5/15\n",
            "111/111 [==============================] - 3s 25ms/step - loss: 0.6123 - accuracy: 0.7931 - val_loss: 0.5900 - val_accuracy: 0.8104\n",
            "Epoch 6/15\n",
            "111/111 [==============================] - 5s 46ms/step - loss: 0.5653 - accuracy: 0.8106 - val_loss: 0.6126 - val_accuracy: 0.7833\n",
            "Epoch 7/15\n",
            "111/111 [==============================] - 5s 43ms/step - loss: 0.5135 - accuracy: 0.8221 - val_loss: 0.5744 - val_accuracy: 0.8059\n",
            "Epoch 8/15\n",
            "111/111 [==============================] - 3s 25ms/step - loss: 0.4912 - accuracy: 0.8317 - val_loss: 0.5957 - val_accuracy: 0.8115\n",
            "Epoch 9/15\n",
            "111/111 [==============================] - 3s 30ms/step - loss: 0.4559 - accuracy: 0.8526 - val_loss: 0.5976 - val_accuracy: 0.8081\n",
            "Epoch 10/15\n",
            "111/111 [==============================] - 6s 53ms/step - loss: 0.4075 - accuracy: 0.8639 - val_loss: 0.5674 - val_accuracy: 0.8239\n",
            "Epoch 11/15\n",
            "111/111 [==============================] - 6s 51ms/step - loss: 0.4230 - accuracy: 0.8619 - val_loss: 0.5417 - val_accuracy: 0.8296\n",
            "Epoch 12/15\n",
            "111/111 [==============================] - 4s 33ms/step - loss: 0.3625 - accuracy: 0.8761 - val_loss: 0.5449 - val_accuracy: 0.8239\n",
            "Epoch 13/15\n",
            "111/111 [==============================] - 3s 25ms/step - loss: 0.3394 - accuracy: 0.8876 - val_loss: 0.5422 - val_accuracy: 0.8251\n",
            "Epoch 14/15\n",
            "111/111 [==============================] - 5s 46ms/step - loss: 0.3075 - accuracy: 0.9018 - val_loss: 0.4953 - val_accuracy: 0.8465\n",
            "Epoch 15/15\n",
            "111/111 [==============================] - 3s 24ms/step - loss: 0.2936 - accuracy: 0.9020 - val_loss: 0.6210 - val_accuracy: 0.8093\n"
          ],
          "name": "stdout"
        }
      ]
    },
    {
      "cell_type": "code",
      "metadata": {
        "id": "6_55V-JHn4ZI"
      },
      "source": [
        "score_accuracy6 = model_cnn6.evaluate(x_test, y_test)"
      ],
      "execution_count": null,
      "outputs": []
    },
    {
      "cell_type": "markdown",
      "metadata": {
        "id": "cUVukGcUe9lK"
      },
      "source": [
        "### MODEL 2.5.4 MobileNet V2"
      ]
    },
    {
      "cell_type": "code",
      "metadata": {
        "colab": {
          "base_uri": "https://localhost:8080/"
        },
        "id": "VfpvbJEOfCPL",
        "outputId": "d97b035b-bebe-40f7-81f2-8f68fb344b8a"
      },
      "source": [
        "from tensorflow.keras.applications import MobileNetV2\n",
        "# get base models\n",
        "base_model = MobileNetV2(\n",
        "    input_shape=(224,224,3),\n",
        "    include_top=False,\n",
        "    weights='imagenet',\n",
        ")"
      ],
      "execution_count": null,
      "outputs": [
        {
          "output_type": "stream",
          "text": [
            "Downloading data from https://storage.googleapis.com/tensorflow/keras-applications/mobilenet_v2/mobilenet_v2_weights_tf_dim_ordering_tf_kernels_1.0_224_no_top.h5\n",
            "9412608/9406464 [==============================] - 0s 0us/step\n"
          ],
          "name": "stdout"
        }
      ]
    },
    {
      "cell_type": "code",
      "metadata": {
        "id": "JEzbHi2vfjn5"
      },
      "source": [
        "from tensorflow.keras import layers,Sequential\n",
        "from tensorflow.keras.models import Model\n",
        "#Adding custom layers\n",
        "x = base_model.output\n",
        "x = layers.GlobalAveragePooling2D()(x)\n",
        "x = layers.Dropout(0.5)(x)\n",
        "x = layers.Dense(100, activation=\"relu\")(x)\n",
        "predictions = layers.Dense(4,activation=\"softmax\")(x)\n",
        "model_img = Model(inputs=base_model.input, outputs=predictions)"
      ],
      "execution_count": null,
      "outputs": []
    },
    {
      "cell_type": "code",
      "metadata": {
        "colab": {
          "base_uri": "https://localhost:8080/"
        },
        "id": "aCOkw19MgD1F",
        "outputId": "07f9d4ec-2685-467c-9b6e-beefcd8ba95c"
      },
      "source": [
        "model_img.summary()"
      ],
      "execution_count": null,
      "outputs": [
        {
          "output_type": "stream",
          "text": [
            "Model: \"model_1\"\n",
            "__________________________________________________________________________________________________\n",
            "Layer (type)                    Output Shape         Param #     Connected to                     \n",
            "==================================================================================================\n",
            "input_1 (InputLayer)            [(None, 224, 224, 3) 0                                            \n",
            "__________________________________________________________________________________________________\n",
            "Conv1 (Conv2D)                  (None, 112, 112, 32) 864         input_1[0][0]                    \n",
            "__________________________________________________________________________________________________\n",
            "bn_Conv1 (BatchNormalization)   (None, 112, 112, 32) 128         Conv1[0][0]                      \n",
            "__________________________________________________________________________________________________\n",
            "Conv1_relu (ReLU)               (None, 112, 112, 32) 0           bn_Conv1[0][0]                   \n",
            "__________________________________________________________________________________________________\n",
            "expanded_conv_depthwise (Depthw (None, 112, 112, 32) 288         Conv1_relu[0][0]                 \n",
            "__________________________________________________________________________________________________\n",
            "expanded_conv_depthwise_BN (Bat (None, 112, 112, 32) 128         expanded_conv_depthwise[0][0]    \n",
            "__________________________________________________________________________________________________\n",
            "expanded_conv_depthwise_relu (R (None, 112, 112, 32) 0           expanded_conv_depthwise_BN[0][0] \n",
            "__________________________________________________________________________________________________\n",
            "expanded_conv_project (Conv2D)  (None, 112, 112, 16) 512         expanded_conv_depthwise_relu[0][0\n",
            "__________________________________________________________________________________________________\n",
            "expanded_conv_project_BN (Batch (None, 112, 112, 16) 64          expanded_conv_project[0][0]      \n",
            "__________________________________________________________________________________________________\n",
            "block_1_expand (Conv2D)         (None, 112, 112, 96) 1536        expanded_conv_project_BN[0][0]   \n",
            "__________________________________________________________________________________________________\n",
            "block_1_expand_BN (BatchNormali (None, 112, 112, 96) 384         block_1_expand[0][0]             \n",
            "__________________________________________________________________________________________________\n",
            "block_1_expand_relu (ReLU)      (None, 112, 112, 96) 0           block_1_expand_BN[0][0]          \n",
            "__________________________________________________________________________________________________\n",
            "block_1_pad (ZeroPadding2D)     (None, 113, 113, 96) 0           block_1_expand_relu[0][0]        \n",
            "__________________________________________________________________________________________________\n",
            "block_1_depthwise (DepthwiseCon (None, 56, 56, 96)   864         block_1_pad[0][0]                \n",
            "__________________________________________________________________________________________________\n",
            "block_1_depthwise_BN (BatchNorm (None, 56, 56, 96)   384         block_1_depthwise[0][0]          \n",
            "__________________________________________________________________________________________________\n",
            "block_1_depthwise_relu (ReLU)   (None, 56, 56, 96)   0           block_1_depthwise_BN[0][0]       \n",
            "__________________________________________________________________________________________________\n",
            "block_1_project (Conv2D)        (None, 56, 56, 24)   2304        block_1_depthwise_relu[0][0]     \n",
            "__________________________________________________________________________________________________\n",
            "block_1_project_BN (BatchNormal (None, 56, 56, 24)   96          block_1_project[0][0]            \n",
            "__________________________________________________________________________________________________\n",
            "block_2_expand (Conv2D)         (None, 56, 56, 144)  3456        block_1_project_BN[0][0]         \n",
            "__________________________________________________________________________________________________\n",
            "block_2_expand_BN (BatchNormali (None, 56, 56, 144)  576         block_2_expand[0][0]             \n",
            "__________________________________________________________________________________________________\n",
            "block_2_expand_relu (ReLU)      (None, 56, 56, 144)  0           block_2_expand_BN[0][0]          \n",
            "__________________________________________________________________________________________________\n",
            "block_2_depthwise (DepthwiseCon (None, 56, 56, 144)  1296        block_2_expand_relu[0][0]        \n",
            "__________________________________________________________________________________________________\n",
            "block_2_depthwise_BN (BatchNorm (None, 56, 56, 144)  576         block_2_depthwise[0][0]          \n",
            "__________________________________________________________________________________________________\n",
            "block_2_depthwise_relu (ReLU)   (None, 56, 56, 144)  0           block_2_depthwise_BN[0][0]       \n",
            "__________________________________________________________________________________________________\n",
            "block_2_project (Conv2D)        (None, 56, 56, 24)   3456        block_2_depthwise_relu[0][0]     \n",
            "__________________________________________________________________________________________________\n",
            "block_2_project_BN (BatchNormal (None, 56, 56, 24)   96          block_2_project[0][0]            \n",
            "__________________________________________________________________________________________________\n",
            "block_2_add (Add)               (None, 56, 56, 24)   0           block_1_project_BN[0][0]         \n",
            "                                                                 block_2_project_BN[0][0]         \n",
            "__________________________________________________________________________________________________\n",
            "block_3_expand (Conv2D)         (None, 56, 56, 144)  3456        block_2_add[0][0]                \n",
            "__________________________________________________________________________________________________\n",
            "block_3_expand_BN (BatchNormali (None, 56, 56, 144)  576         block_3_expand[0][0]             \n",
            "__________________________________________________________________________________________________\n",
            "block_3_expand_relu (ReLU)      (None, 56, 56, 144)  0           block_3_expand_BN[0][0]          \n",
            "__________________________________________________________________________________________________\n",
            "block_3_pad (ZeroPadding2D)     (None, 57, 57, 144)  0           block_3_expand_relu[0][0]        \n",
            "__________________________________________________________________________________________________\n",
            "block_3_depthwise (DepthwiseCon (None, 28, 28, 144)  1296        block_3_pad[0][0]                \n",
            "__________________________________________________________________________________________________\n",
            "block_3_depthwise_BN (BatchNorm (None, 28, 28, 144)  576         block_3_depthwise[0][0]          \n",
            "__________________________________________________________________________________________________\n",
            "block_3_depthwise_relu (ReLU)   (None, 28, 28, 144)  0           block_3_depthwise_BN[0][0]       \n",
            "__________________________________________________________________________________________________\n",
            "block_3_project (Conv2D)        (None, 28, 28, 32)   4608        block_3_depthwise_relu[0][0]     \n",
            "__________________________________________________________________________________________________\n",
            "block_3_project_BN (BatchNormal (None, 28, 28, 32)   128         block_3_project[0][0]            \n",
            "__________________________________________________________________________________________________\n",
            "block_4_expand (Conv2D)         (None, 28, 28, 192)  6144        block_3_project_BN[0][0]         \n",
            "__________________________________________________________________________________________________\n",
            "block_4_expand_BN (BatchNormali (None, 28, 28, 192)  768         block_4_expand[0][0]             \n",
            "__________________________________________________________________________________________________\n",
            "block_4_expand_relu (ReLU)      (None, 28, 28, 192)  0           block_4_expand_BN[0][0]          \n",
            "__________________________________________________________________________________________________\n",
            "block_4_depthwise (DepthwiseCon (None, 28, 28, 192)  1728        block_4_expand_relu[0][0]        \n",
            "__________________________________________________________________________________________________\n",
            "block_4_depthwise_BN (BatchNorm (None, 28, 28, 192)  768         block_4_depthwise[0][0]          \n",
            "__________________________________________________________________________________________________\n",
            "block_4_depthwise_relu (ReLU)   (None, 28, 28, 192)  0           block_4_depthwise_BN[0][0]       \n",
            "__________________________________________________________________________________________________\n",
            "block_4_project (Conv2D)        (None, 28, 28, 32)   6144        block_4_depthwise_relu[0][0]     \n",
            "__________________________________________________________________________________________________\n",
            "block_4_project_BN (BatchNormal (None, 28, 28, 32)   128         block_4_project[0][0]            \n",
            "__________________________________________________________________________________________________\n",
            "block_4_add (Add)               (None, 28, 28, 32)   0           block_3_project_BN[0][0]         \n",
            "                                                                 block_4_project_BN[0][0]         \n",
            "__________________________________________________________________________________________________\n",
            "block_5_expand (Conv2D)         (None, 28, 28, 192)  6144        block_4_add[0][0]                \n",
            "__________________________________________________________________________________________________\n",
            "block_5_expand_BN (BatchNormali (None, 28, 28, 192)  768         block_5_expand[0][0]             \n",
            "__________________________________________________________________________________________________\n",
            "block_5_expand_relu (ReLU)      (None, 28, 28, 192)  0           block_5_expand_BN[0][0]          \n",
            "__________________________________________________________________________________________________\n",
            "block_5_depthwise (DepthwiseCon (None, 28, 28, 192)  1728        block_5_expand_relu[0][0]        \n",
            "__________________________________________________________________________________________________\n",
            "block_5_depthwise_BN (BatchNorm (None, 28, 28, 192)  768         block_5_depthwise[0][0]          \n",
            "__________________________________________________________________________________________________\n",
            "block_5_depthwise_relu (ReLU)   (None, 28, 28, 192)  0           block_5_depthwise_BN[0][0]       \n",
            "__________________________________________________________________________________________________\n",
            "block_5_project (Conv2D)        (None, 28, 28, 32)   6144        block_5_depthwise_relu[0][0]     \n",
            "__________________________________________________________________________________________________\n",
            "block_5_project_BN (BatchNormal (None, 28, 28, 32)   128         block_5_project[0][0]            \n",
            "__________________________________________________________________________________________________\n",
            "block_5_add (Add)               (None, 28, 28, 32)   0           block_4_add[0][0]                \n",
            "                                                                 block_5_project_BN[0][0]         \n",
            "__________________________________________________________________________________________________\n",
            "block_6_expand (Conv2D)         (None, 28, 28, 192)  6144        block_5_add[0][0]                \n",
            "__________________________________________________________________________________________________\n",
            "block_6_expand_BN (BatchNormali (None, 28, 28, 192)  768         block_6_expand[0][0]             \n",
            "__________________________________________________________________________________________________\n",
            "block_6_expand_relu (ReLU)      (None, 28, 28, 192)  0           block_6_expand_BN[0][0]          \n",
            "__________________________________________________________________________________________________\n",
            "block_6_pad (ZeroPadding2D)     (None, 29, 29, 192)  0           block_6_expand_relu[0][0]        \n",
            "__________________________________________________________________________________________________\n",
            "block_6_depthwise (DepthwiseCon (None, 14, 14, 192)  1728        block_6_pad[0][0]                \n",
            "__________________________________________________________________________________________________\n",
            "block_6_depthwise_BN (BatchNorm (None, 14, 14, 192)  768         block_6_depthwise[0][0]          \n",
            "__________________________________________________________________________________________________\n",
            "block_6_depthwise_relu (ReLU)   (None, 14, 14, 192)  0           block_6_depthwise_BN[0][0]       \n",
            "__________________________________________________________________________________________________\n",
            "block_6_project (Conv2D)        (None, 14, 14, 64)   12288       block_6_depthwise_relu[0][0]     \n",
            "__________________________________________________________________________________________________\n",
            "block_6_project_BN (BatchNormal (None, 14, 14, 64)   256         block_6_project[0][0]            \n",
            "__________________________________________________________________________________________________\n",
            "block_7_expand (Conv2D)         (None, 14, 14, 384)  24576       block_6_project_BN[0][0]         \n",
            "__________________________________________________________________________________________________\n",
            "block_7_expand_BN (BatchNormali (None, 14, 14, 384)  1536        block_7_expand[0][0]             \n",
            "__________________________________________________________________________________________________\n",
            "block_7_expand_relu (ReLU)      (None, 14, 14, 384)  0           block_7_expand_BN[0][0]          \n",
            "__________________________________________________________________________________________________\n",
            "block_7_depthwise (DepthwiseCon (None, 14, 14, 384)  3456        block_7_expand_relu[0][0]        \n",
            "__________________________________________________________________________________________________\n",
            "block_7_depthwise_BN (BatchNorm (None, 14, 14, 384)  1536        block_7_depthwise[0][0]          \n",
            "__________________________________________________________________________________________________\n",
            "block_7_depthwise_relu (ReLU)   (None, 14, 14, 384)  0           block_7_depthwise_BN[0][0]       \n",
            "__________________________________________________________________________________________________\n",
            "block_7_project (Conv2D)        (None, 14, 14, 64)   24576       block_7_depthwise_relu[0][0]     \n",
            "__________________________________________________________________________________________________\n",
            "block_7_project_BN (BatchNormal (None, 14, 14, 64)   256         block_7_project[0][0]            \n",
            "__________________________________________________________________________________________________\n",
            "block_7_add (Add)               (None, 14, 14, 64)   0           block_6_project_BN[0][0]         \n",
            "                                                                 block_7_project_BN[0][0]         \n",
            "__________________________________________________________________________________________________\n",
            "block_8_expand (Conv2D)         (None, 14, 14, 384)  24576       block_7_add[0][0]                \n",
            "__________________________________________________________________________________________________\n",
            "block_8_expand_BN (BatchNormali (None, 14, 14, 384)  1536        block_8_expand[0][0]             \n",
            "__________________________________________________________________________________________________\n",
            "block_8_expand_relu (ReLU)      (None, 14, 14, 384)  0           block_8_expand_BN[0][0]          \n",
            "__________________________________________________________________________________________________\n",
            "block_8_depthwise (DepthwiseCon (None, 14, 14, 384)  3456        block_8_expand_relu[0][0]        \n",
            "__________________________________________________________________________________________________\n",
            "block_8_depthwise_BN (BatchNorm (None, 14, 14, 384)  1536        block_8_depthwise[0][0]          \n",
            "__________________________________________________________________________________________________\n",
            "block_8_depthwise_relu (ReLU)   (None, 14, 14, 384)  0           block_8_depthwise_BN[0][0]       \n",
            "__________________________________________________________________________________________________\n",
            "block_8_project (Conv2D)        (None, 14, 14, 64)   24576       block_8_depthwise_relu[0][0]     \n",
            "__________________________________________________________________________________________________\n",
            "block_8_project_BN (BatchNormal (None, 14, 14, 64)   256         block_8_project[0][0]            \n",
            "__________________________________________________________________________________________________\n",
            "block_8_add (Add)               (None, 14, 14, 64)   0           block_7_add[0][0]                \n",
            "                                                                 block_8_project_BN[0][0]         \n",
            "__________________________________________________________________________________________________\n",
            "block_9_expand (Conv2D)         (None, 14, 14, 384)  24576       block_8_add[0][0]                \n",
            "__________________________________________________________________________________________________\n",
            "block_9_expand_BN (BatchNormali (None, 14, 14, 384)  1536        block_9_expand[0][0]             \n",
            "__________________________________________________________________________________________________\n",
            "block_9_expand_relu (ReLU)      (None, 14, 14, 384)  0           block_9_expand_BN[0][0]          \n",
            "__________________________________________________________________________________________________\n",
            "block_9_depthwise (DepthwiseCon (None, 14, 14, 384)  3456        block_9_expand_relu[0][0]        \n",
            "__________________________________________________________________________________________________\n",
            "block_9_depthwise_BN (BatchNorm (None, 14, 14, 384)  1536        block_9_depthwise[0][0]          \n",
            "__________________________________________________________________________________________________\n",
            "block_9_depthwise_relu (ReLU)   (None, 14, 14, 384)  0           block_9_depthwise_BN[0][0]       \n",
            "__________________________________________________________________________________________________\n",
            "block_9_project (Conv2D)        (None, 14, 14, 64)   24576       block_9_depthwise_relu[0][0]     \n",
            "__________________________________________________________________________________________________\n",
            "block_9_project_BN (BatchNormal (None, 14, 14, 64)   256         block_9_project[0][0]            \n",
            "__________________________________________________________________________________________________\n",
            "block_9_add (Add)               (None, 14, 14, 64)   0           block_8_add[0][0]                \n",
            "                                                                 block_9_project_BN[0][0]         \n",
            "__________________________________________________________________________________________________\n",
            "block_10_expand (Conv2D)        (None, 14, 14, 384)  24576       block_9_add[0][0]                \n",
            "__________________________________________________________________________________________________\n",
            "block_10_expand_BN (BatchNormal (None, 14, 14, 384)  1536        block_10_expand[0][0]            \n",
            "__________________________________________________________________________________________________\n",
            "block_10_expand_relu (ReLU)     (None, 14, 14, 384)  0           block_10_expand_BN[0][0]         \n",
            "__________________________________________________________________________________________________\n",
            "block_10_depthwise (DepthwiseCo (None, 14, 14, 384)  3456        block_10_expand_relu[0][0]       \n",
            "__________________________________________________________________________________________________\n",
            "block_10_depthwise_BN (BatchNor (None, 14, 14, 384)  1536        block_10_depthwise[0][0]         \n",
            "__________________________________________________________________________________________________\n",
            "block_10_depthwise_relu (ReLU)  (None, 14, 14, 384)  0           block_10_depthwise_BN[0][0]      \n",
            "__________________________________________________________________________________________________\n",
            "block_10_project (Conv2D)       (None, 14, 14, 96)   36864       block_10_depthwise_relu[0][0]    \n",
            "__________________________________________________________________________________________________\n",
            "block_10_project_BN (BatchNorma (None, 14, 14, 96)   384         block_10_project[0][0]           \n",
            "__________________________________________________________________________________________________\n",
            "block_11_expand (Conv2D)        (None, 14, 14, 576)  55296       block_10_project_BN[0][0]        \n",
            "__________________________________________________________________________________________________\n",
            "block_11_expand_BN (BatchNormal (None, 14, 14, 576)  2304        block_11_expand[0][0]            \n",
            "__________________________________________________________________________________________________\n",
            "block_11_expand_relu (ReLU)     (None, 14, 14, 576)  0           block_11_expand_BN[0][0]         \n",
            "__________________________________________________________________________________________________\n",
            "block_11_depthwise (DepthwiseCo (None, 14, 14, 576)  5184        block_11_expand_relu[0][0]       \n",
            "__________________________________________________________________________________________________\n",
            "block_11_depthwise_BN (BatchNor (None, 14, 14, 576)  2304        block_11_depthwise[0][0]         \n",
            "__________________________________________________________________________________________________\n",
            "block_11_depthwise_relu (ReLU)  (None, 14, 14, 576)  0           block_11_depthwise_BN[0][0]      \n",
            "__________________________________________________________________________________________________\n",
            "block_11_project (Conv2D)       (None, 14, 14, 96)   55296       block_11_depthwise_relu[0][0]    \n",
            "__________________________________________________________________________________________________\n",
            "block_11_project_BN (BatchNorma (None, 14, 14, 96)   384         block_11_project[0][0]           \n",
            "__________________________________________________________________________________________________\n",
            "block_11_add (Add)              (None, 14, 14, 96)   0           block_10_project_BN[0][0]        \n",
            "                                                                 block_11_project_BN[0][0]        \n",
            "__________________________________________________________________________________________________\n",
            "block_12_expand (Conv2D)        (None, 14, 14, 576)  55296       block_11_add[0][0]               \n",
            "__________________________________________________________________________________________________\n",
            "block_12_expand_BN (BatchNormal (None, 14, 14, 576)  2304        block_12_expand[0][0]            \n",
            "__________________________________________________________________________________________________\n",
            "block_12_expand_relu (ReLU)     (None, 14, 14, 576)  0           block_12_expand_BN[0][0]         \n",
            "__________________________________________________________________________________________________\n",
            "block_12_depthwise (DepthwiseCo (None, 14, 14, 576)  5184        block_12_expand_relu[0][0]       \n",
            "__________________________________________________________________________________________________\n",
            "block_12_depthwise_BN (BatchNor (None, 14, 14, 576)  2304        block_12_depthwise[0][0]         \n",
            "__________________________________________________________________________________________________\n",
            "block_12_depthwise_relu (ReLU)  (None, 14, 14, 576)  0           block_12_depthwise_BN[0][0]      \n",
            "__________________________________________________________________________________________________\n",
            "block_12_project (Conv2D)       (None, 14, 14, 96)   55296       block_12_depthwise_relu[0][0]    \n",
            "__________________________________________________________________________________________________\n",
            "block_12_project_BN (BatchNorma (None, 14, 14, 96)   384         block_12_project[0][0]           \n",
            "__________________________________________________________________________________________________\n",
            "block_12_add (Add)              (None, 14, 14, 96)   0           block_11_add[0][0]               \n",
            "                                                                 block_12_project_BN[0][0]        \n",
            "__________________________________________________________________________________________________\n",
            "block_13_expand (Conv2D)        (None, 14, 14, 576)  55296       block_12_add[0][0]               \n",
            "__________________________________________________________________________________________________\n",
            "block_13_expand_BN (BatchNormal (None, 14, 14, 576)  2304        block_13_expand[0][0]            \n",
            "__________________________________________________________________________________________________\n",
            "block_13_expand_relu (ReLU)     (None, 14, 14, 576)  0           block_13_expand_BN[0][0]         \n",
            "__________________________________________________________________________________________________\n",
            "block_13_pad (ZeroPadding2D)    (None, 15, 15, 576)  0           block_13_expand_relu[0][0]       \n",
            "__________________________________________________________________________________________________\n",
            "block_13_depthwise (DepthwiseCo (None, 7, 7, 576)    5184        block_13_pad[0][0]               \n",
            "__________________________________________________________________________________________________\n",
            "block_13_depthwise_BN (BatchNor (None, 7, 7, 576)    2304        block_13_depthwise[0][0]         \n",
            "__________________________________________________________________________________________________\n",
            "block_13_depthwise_relu (ReLU)  (None, 7, 7, 576)    0           block_13_depthwise_BN[0][0]      \n",
            "__________________________________________________________________________________________________\n",
            "block_13_project (Conv2D)       (None, 7, 7, 160)    92160       block_13_depthwise_relu[0][0]    \n",
            "__________________________________________________________________________________________________\n",
            "block_13_project_BN (BatchNorma (None, 7, 7, 160)    640         block_13_project[0][0]           \n",
            "__________________________________________________________________________________________________\n",
            "block_14_expand (Conv2D)        (None, 7, 7, 960)    153600      block_13_project_BN[0][0]        \n",
            "__________________________________________________________________________________________________\n",
            "block_14_expand_BN (BatchNormal (None, 7, 7, 960)    3840        block_14_expand[0][0]            \n",
            "__________________________________________________________________________________________________\n",
            "block_14_expand_relu (ReLU)     (None, 7, 7, 960)    0           block_14_expand_BN[0][0]         \n",
            "__________________________________________________________________________________________________\n",
            "block_14_depthwise (DepthwiseCo (None, 7, 7, 960)    8640        block_14_expand_relu[0][0]       \n",
            "__________________________________________________________________________________________________\n",
            "block_14_depthwise_BN (BatchNor (None, 7, 7, 960)    3840        block_14_depthwise[0][0]         \n",
            "__________________________________________________________________________________________________\n",
            "block_14_depthwise_relu (ReLU)  (None, 7, 7, 960)    0           block_14_depthwise_BN[0][0]      \n",
            "__________________________________________________________________________________________________\n",
            "block_14_project (Conv2D)       (None, 7, 7, 160)    153600      block_14_depthwise_relu[0][0]    \n",
            "__________________________________________________________________________________________________\n",
            "block_14_project_BN (BatchNorma (None, 7, 7, 160)    640         block_14_project[0][0]           \n",
            "__________________________________________________________________________________________________\n",
            "block_14_add (Add)              (None, 7, 7, 160)    0           block_13_project_BN[0][0]        \n",
            "                                                                 block_14_project_BN[0][0]        \n",
            "__________________________________________________________________________________________________\n",
            "block_15_expand (Conv2D)        (None, 7, 7, 960)    153600      block_14_add[0][0]               \n",
            "__________________________________________________________________________________________________\n",
            "block_15_expand_BN (BatchNormal (None, 7, 7, 960)    3840        block_15_expand[0][0]            \n",
            "__________________________________________________________________________________________________\n",
            "block_15_expand_relu (ReLU)     (None, 7, 7, 960)    0           block_15_expand_BN[0][0]         \n",
            "__________________________________________________________________________________________________\n",
            "block_15_depthwise (DepthwiseCo (None, 7, 7, 960)    8640        block_15_expand_relu[0][0]       \n",
            "__________________________________________________________________________________________________\n",
            "block_15_depthwise_BN (BatchNor (None, 7, 7, 960)    3840        block_15_depthwise[0][0]         \n",
            "__________________________________________________________________________________________________\n",
            "block_15_depthwise_relu (ReLU)  (None, 7, 7, 960)    0           block_15_depthwise_BN[0][0]      \n",
            "__________________________________________________________________________________________________\n",
            "block_15_project (Conv2D)       (None, 7, 7, 160)    153600      block_15_depthwise_relu[0][0]    \n",
            "__________________________________________________________________________________________________\n",
            "block_15_project_BN (BatchNorma (None, 7, 7, 160)    640         block_15_project[0][0]           \n",
            "__________________________________________________________________________________________________\n",
            "block_15_add (Add)              (None, 7, 7, 160)    0           block_14_add[0][0]               \n",
            "                                                                 block_15_project_BN[0][0]        \n",
            "__________________________________________________________________________________________________\n",
            "block_16_expand (Conv2D)        (None, 7, 7, 960)    153600      block_15_add[0][0]               \n",
            "__________________________________________________________________________________________________\n",
            "block_16_expand_BN (BatchNormal (None, 7, 7, 960)    3840        block_16_expand[0][0]            \n",
            "__________________________________________________________________________________________________\n",
            "block_16_expand_relu (ReLU)     (None, 7, 7, 960)    0           block_16_expand_BN[0][0]         \n",
            "__________________________________________________________________________________________________\n",
            "block_16_depthwise (DepthwiseCo (None, 7, 7, 960)    8640        block_16_expand_relu[0][0]       \n",
            "__________________________________________________________________________________________________\n",
            "block_16_depthwise_BN (BatchNor (None, 7, 7, 960)    3840        block_16_depthwise[0][0]         \n",
            "__________________________________________________________________________________________________\n",
            "block_16_depthwise_relu (ReLU)  (None, 7, 7, 960)    0           block_16_depthwise_BN[0][0]      \n",
            "__________________________________________________________________________________________________\n",
            "block_16_project (Conv2D)       (None, 7, 7, 320)    307200      block_16_depthwise_relu[0][0]    \n",
            "__________________________________________________________________________________________________\n",
            "block_16_project_BN (BatchNorma (None, 7, 7, 320)    1280        block_16_project[0][0]           \n",
            "__________________________________________________________________________________________________\n",
            "Conv_1 (Conv2D)                 (None, 7, 7, 1280)   409600      block_16_project_BN[0][0]        \n",
            "__________________________________________________________________________________________________\n",
            "Conv_1_bn (BatchNormalization)  (None, 7, 7, 1280)   5120        Conv_1[0][0]                     \n",
            "__________________________________________________________________________________________________\n",
            "out_relu (ReLU)                 (None, 7, 7, 1280)   0           Conv_1_bn[0][0]                  \n",
            "__________________________________________________________________________________________________\n",
            "global_average_pooling2d_3 (Glo (None, 1280)         0           out_relu[0][0]                   \n",
            "__________________________________________________________________________________________________\n",
            "dropout_9 (Dropout)             (None, 1280)         0           global_average_pooling2d_3[0][0] \n",
            "__________________________________________________________________________________________________\n",
            "dense_18 (Dense)                (None, 100)          128100      dropout_9[0][0]                  \n",
            "__________________________________________________________________________________________________\n",
            "dense_19 (Dense)                (None, 4)            404         dense_18[0][0]                   \n",
            "==================================================================================================\n",
            "Total params: 2,386,488\n",
            "Trainable params: 2,352,376\n",
            "Non-trainable params: 34,112\n",
            "__________________________________________________________________________________________________\n"
          ],
          "name": "stdout"
        }
      ]
    },
    {
      "cell_type": "code",
      "metadata": {
        "id": "pVwo3FI3gaxg"
      },
      "source": [
        "model_img.compile(optimizer='adam',\n",
        "              loss='sparse_categorical_crossentropy',\n",
        "              metrics=['accuracy'])"
      ],
      "execution_count": null,
      "outputs": []
    },
    {
      "cell_type": "code",
      "metadata": {
        "colab": {
          "base_uri": "https://localhost:8080/"
        },
        "id": "AaguesJggImp",
        "outputId": "360f9da3-c6a5-40e4-e2f4-fe614c94765e"
      },
      "source": [
        "history_4 = model_img.fit(x_train, y_train, validation_data= (x_test,y_test), epochs=15);"
      ],
      "execution_count": null,
      "outputs": [
        {
          "output_type": "stream",
          "text": [
            "Epoch 1/15\n",
            "111/111 [==============================] - 25s 177ms/step - loss: 0.1589 - accuracy: 0.9497 - val_loss: 20.6192 - val_accuracy: 0.3397\n",
            "Epoch 2/15\n",
            "111/111 [==============================] - 18s 162ms/step - loss: 0.0833 - accuracy: 0.9763 - val_loss: 16.5741 - val_accuracy: 0.2686\n",
            "Epoch 3/15\n",
            "111/111 [==============================] - 19s 168ms/step - loss: 0.0643 - accuracy: 0.9819 - val_loss: 26.9381 - val_accuracy: 0.2156\n",
            "Epoch 4/15\n",
            "111/111 [==============================] - 18s 166ms/step - loss: 0.0662 - accuracy: 0.9805 - val_loss: 39.5025 - val_accuracy: 0.2156\n",
            "Epoch 5/15\n",
            "111/111 [==============================] - 18s 166ms/step - loss: 0.0716 - accuracy: 0.9768 - val_loss: 9.6243 - val_accuracy: 0.4639\n",
            "Epoch 6/15\n",
            "111/111 [==============================] - 19s 167ms/step - loss: 0.0789 - accuracy: 0.9760 - val_loss: 8.7628 - val_accuracy: 0.4153\n",
            "Epoch 7/15\n",
            "111/111 [==============================] - 19s 167ms/step - loss: 0.0469 - accuracy: 0.9833 - val_loss: 12.4368 - val_accuracy: 0.4097\n",
            "Epoch 8/15\n",
            "111/111 [==============================] - 19s 168ms/step - loss: 0.0623 - accuracy: 0.9845 - val_loss: 8.9246 - val_accuracy: 0.3070\n",
            "Epoch 9/15\n",
            "111/111 [==============================] - 18s 167ms/step - loss: 0.0731 - accuracy: 0.9768 - val_loss: 6.1511 - val_accuracy: 0.3352\n",
            "Epoch 10/15\n",
            "111/111 [==============================] - 18s 164ms/step - loss: 0.0577 - accuracy: 0.9848 - val_loss: 4.1770 - val_accuracy: 0.6084\n",
            "Epoch 11/15\n",
            "111/111 [==============================] - 18s 166ms/step - loss: 0.0308 - accuracy: 0.9910 - val_loss: 3.8220 - val_accuracy: 0.6874\n",
            "Epoch 12/15\n",
            "111/111 [==============================] - 18s 164ms/step - loss: 0.0426 - accuracy: 0.9862 - val_loss: 4.1854 - val_accuracy: 0.6005\n",
            "Epoch 13/15\n",
            "111/111 [==============================] - 18s 165ms/step - loss: 0.0511 - accuracy: 0.9836 - val_loss: 4.7740 - val_accuracy: 0.6907\n",
            "Epoch 14/15\n",
            "111/111 [==============================] - 19s 167ms/step - loss: 0.0457 - accuracy: 0.9845 - val_loss: 13.4993 - val_accuracy: 0.4120\n",
            "Epoch 15/15\n",
            "111/111 [==============================] - 18s 167ms/step - loss: 0.0361 - accuracy: 0.9867 - val_loss: 10.9815 - val_accuracy: 0.3544\n"
          ],
          "name": "stdout"
        }
      ]
    },
    {
      "cell_type": "code",
      "metadata": {
        "colab": {
          "base_uri": "https://localhost:8080/"
        },
        "id": "Tl9p5BnBk1to",
        "outputId": "fc023813-fbd2-4f2f-ebe7-d784928b68ce"
      },
      "source": [
        "score_accuracy5 = model_img.evaluate(x_test, y_test)"
      ],
      "execution_count": null,
      "outputs": [
        {
          "output_type": "stream",
          "text": [
            "28/28 [==============================] - 1s 30ms/step - loss: 10.9815 - accuracy: 0.3544\n"
          ],
          "name": "stdout"
        }
      ]
    },
    {
      "cell_type": "markdown",
      "metadata": {
        "id": "pPjJabT1kwbO"
      },
      "source": [
        ""
      ]
    },
    {
      "cell_type": "markdown",
      "metadata": {
        "id": "lllE5cFeKWnI"
      },
      "source": [
        "### MODEL 2.5 VGG"
      ]
    },
    {
      "cell_type": "code",
      "metadata": {
        "colab": {
          "base_uri": "https://localhost:8080/"
        },
        "id": "Kisc-vQDKaIR",
        "outputId": "722d651b-4815-4c42-e83f-ad70ca34fcea"
      },
      "source": [
        "from keras.applications.vgg16 import VGG16\n",
        "from keras.preprocessing import image\n",
        "from keras.applications.vgg16 import preprocess_input\n",
        "\n",
        "model = VGG16(weights='imagenet', include_top=False)"
      ],
      "execution_count": null,
      "outputs": [
        {
          "output_type": "stream",
          "text": [
            "Downloading data from https://storage.googleapis.com/tensorflow/keras-applications/vgg16/vgg16_weights_tf_dim_ordering_tf_kernels_notop.h5\n",
            "58892288/58889256 [==============================] - 1s 0us/step\n",
            "58900480/58889256 [==============================] - 1s 0us/step\n"
          ],
          "name": "stdout"
        }
      ]
    },
    {
      "cell_type": "code",
      "metadata": {
        "colab": {
          "base_uri": "https://localhost:8080/"
        },
        "id": "SCOqgrh4KzbP",
        "outputId": "2330566b-b5b4-4709-9caa-932c73718ef0"
      },
      "source": [
        "print(model.summary())"
      ],
      "execution_count": null,
      "outputs": [
        {
          "output_type": "stream",
          "text": [
            "Model: \"vgg16\"\n",
            "_________________________________________________________________\n",
            "Layer (type)                 Output Shape              Param #   \n",
            "=================================================================\n",
            "input_1 (InputLayer)         [(None, None, None, 3)]   0         \n",
            "_________________________________________________________________\n",
            "block1_conv1 (Conv2D)        (None, None, None, 64)    1792      \n",
            "_________________________________________________________________\n",
            "block1_conv2 (Conv2D)        (None, None, None, 64)    36928     \n",
            "_________________________________________________________________\n",
            "block1_pool (MaxPooling2D)   (None, None, None, 64)    0         \n",
            "_________________________________________________________________\n",
            "block2_conv1 (Conv2D)        (None, None, None, 128)   73856     \n",
            "_________________________________________________________________\n",
            "block2_conv2 (Conv2D)        (None, None, None, 128)   147584    \n",
            "_________________________________________________________________\n",
            "block2_pool (MaxPooling2D)   (None, None, None, 128)   0         \n",
            "_________________________________________________________________\n",
            "block3_conv1 (Conv2D)        (None, None, None, 256)   295168    \n",
            "_________________________________________________________________\n",
            "block3_conv2 (Conv2D)        (None, None, None, 256)   590080    \n",
            "_________________________________________________________________\n",
            "block3_conv3 (Conv2D)        (None, None, None, 256)   590080    \n",
            "_________________________________________________________________\n",
            "block3_pool (MaxPooling2D)   (None, None, None, 256)   0         \n",
            "_________________________________________________________________\n",
            "block4_conv1 (Conv2D)        (None, None, None, 512)   1180160   \n",
            "_________________________________________________________________\n",
            "block4_conv2 (Conv2D)        (None, None, None, 512)   2359808   \n",
            "_________________________________________________________________\n",
            "block4_conv3 (Conv2D)        (None, None, None, 512)   2359808   \n",
            "_________________________________________________________________\n",
            "block4_pool (MaxPooling2D)   (None, None, None, 512)   0         \n",
            "_________________________________________________________________\n",
            "block5_conv1 (Conv2D)        (None, None, None, 512)   2359808   \n",
            "_________________________________________________________________\n",
            "block5_conv2 (Conv2D)        (None, None, None, 512)   2359808   \n",
            "_________________________________________________________________\n",
            "block5_conv3 (Conv2D)        (None, None, None, 512)   2359808   \n",
            "_________________________________________________________________\n",
            "block5_pool (MaxPooling2D)   (None, None, None, 512)   0         \n",
            "=================================================================\n",
            "Total params: 14,714,688\n",
            "Trainable params: 14,714,688\n",
            "Non-trainable params: 0\n",
            "_________________________________________________________________\n",
            "None\n"
          ],
          "name": "stdout"
        }
      ]
    },
    {
      "cell_type": "code",
      "metadata": {
        "colab": {
          "base_uri": "https://localhost:8080/",
          "height": 1000
        },
        "id": "qwp_lovDPlxw",
        "outputId": "b52e01b0-fe67-4f20-f7f2-eb57b5704314"
      },
      "source": [
        "from keras.applications.vgg16 import VGG16\n",
        "from keras.utils.vis_utils import plot_model\n",
        "model = VGG16()\n",
        "plot_model(model, to_file='vgg.png')"
      ],
      "execution_count": null,
      "outputs": [
        {
          "output_type": "stream",
          "text": [
            "Downloading data from https://storage.googleapis.com/tensorflow/keras-applications/vgg16/vgg16_weights_tf_dim_ordering_tf_kernels.h5\n",
            "553467904/553467096 [==============================] - 5s 0us/step\n",
            "553476096/553467096 [==============================] - 5s 0us/step\n"
          ],
          "name": "stdout"
        },
        {
          "output_type": "execute_result",
          "data": {
            "image/png": "[encoded data removed]",
            "text/plain": [
              "<IPython.core.display.Image object>"
            ]
          },
          "metadata": {
            "tags": []
          },
          "execution_count": 37
        }
      ]
    },
    {
      "cell_type": "code",
      "metadata": {
        "id": "EP7lIBVbPyMW"
      },
      "source": [
        "from keras.preprocessing.image import load_img\n",
        "# load an image from file\n",
        "image = load_img('/content/drive/MyDrive/2.jpg', target_size=(224, 224))\n"
      ],
      "execution_count": null,
      "outputs": []
    },
    {
      "cell_type": "code",
      "metadata": {
        "id": "OC_sCl7NQudY"
      },
      "source": [
        "from keras.preprocessing.image import img_to_array\n",
        "# convert the image pixels to a numpy array\n",
        "image = img_to_array(image)"
      ],
      "execution_count": null,
      "outputs": []
    },
    {
      "cell_type": "code",
      "metadata": {
        "id": "tKgtfofEQxms"
      },
      "source": [
        "# reshape data for the model\n",
        "image = image.reshape((1, image.shape[0], image.shape[1], image.shape[2]))"
      ],
      "execution_count": null,
      "outputs": []
    },
    {
      "cell_type": "code",
      "metadata": {
        "id": "ygtqLjQuQ04n"
      },
      "source": [
        "from keras.applications.vgg16 import preprocess_input\n",
        "# prepare the image for the VGG model\n",
        "image = preprocess_input(image)"
      ],
      "execution_count": null,
      "outputs": []
    },
    {
      "cell_type": "code",
      "metadata": {
        "id": "ucg-W7h2Q3m6"
      },
      "source": [
        "# predict the probability across all output classes\n",
        "yhat = model.predict(image)"
      ],
      "execution_count": null,
      "outputs": []
    },
    {
      "cell_type": "code",
      "metadata": {
        "colab": {
          "base_uri": "https://localhost:8080/"
        },
        "id": "9nc_2m_xQ9_H",
        "outputId": "65800d56-20bc-476d-ac1d-63be4e81e43d"
      },
      "source": [
        "from keras.applications.vgg16 import decode_predictions\n",
        "# convert the probabilities to class labels\n",
        "label = decode_predictions(yhat)\n",
        "# retrieve the most likely result, e.g. highest probability\n",
        "label = label[0][0]\n",
        "# print the classification\n",
        "print('%s (%.2f%%)' % (label[1], label[2]*100))"
      ],
      "execution_count": null,
      "outputs": [
        {
          "output_type": "stream",
          "text": [
            "Downloading data from https://storage.googleapis.com/download.tensorflow.org/data/imagenet_class_index.json\n",
            "40960/35363 [==================================] - 0s 0us/step\n",
            "49152/35363 [=========================================] - 0s 0us/step\n",
            "pay-phone (12.90%)\n"
          ],
          "name": "stdout"
        }
      ]
    },
    {
      "cell_type": "markdown",
      "metadata": {
        "id": "hvil805HJfl-"
      },
      "source": [
        "### MODEL 3  Transfer learning"
      ]
    },
    {
      "cell_type": "code",
      "metadata": {
        "id": "k6QbSybiKfBJ"
      },
      "source": [
        "model = tf.keras.Sequential([\n",
        "    tf.keras.layers.Conv2D(32, (3, 3), activation = 'relu', input_shape = (224, 224, 3)), \n",
        "    tf.keras.layers.MaxPooling2D(2,2),\n",
        "    tf.keras.layers.Conv2D(32, (3, 3), activation = 'relu'),\n",
        "    tf.keras.layers.MaxPooling2D(2,2),\n",
        "    tf.keras.layers.Flatten(),\n",
        "    tf.keras.layers.Dense(128, activation=tf.nn.relu),\n",
        "    tf.keras.layers.Dense(4, activation=tf.nn.softmax)\n",
        "])"
      ],
      "execution_count": null,
      "outputs": []
    },
    {
      "cell_type": "code",
      "metadata": {
        "id": "IjeNVSpKKo0b"
      },
      "source": [
        "model.compile(optimizer = 'adam', loss = 'sparse_categorical_crossentropy', metrics=['accuracy'])"
      ],
      "execution_count": null,
      "outputs": []
    },
    {
      "cell_type": "code",
      "metadata": {
        "id": "YMdplT80LEBQ"
      },
      "source": [
        "histor_3 = model.fit(x_train, y_train, validation_data= (x_test,y_test), epochs=10);"
      ],
      "execution_count": null,
      "outputs": []
    },
    {
      "cell_type": "code",
      "metadata": {
        "colab": {
          "base_uri": "https://localhost:8080/"
        },
        "id": "UGQeg2wOLErh",
        "outputId": "9c52c215-d5dd-4f6d-ec20-d88c6271274f"
      },
      "source": [
        "score_accuracy3 = model.evaluate(x_test, y_test)"
      ],
      "execution_count": null,
      "outputs": [
        {
          "output_type": "stream",
          "text": [
            "28/28 [==============================] - 0s 11ms/step - loss: 1.1720 - accuracy: 0.8025\n"
          ],
          "name": "stdout"
        }
      ]
    },
    {
      "cell_type": "code",
      "metadata": {
        "id": "zCTP4jgXJfJG"
      },
      "source": [
        "from keras.applications.vgg16 import VGG16\n",
        "from keras.preprocessing import image\n",
        "from keras.applications.vgg16 import preprocess_input\n",
        "\n",
        "model = VGG16(weights='imagenet', include_top=False)"
      ],
      "execution_count": null,
      "outputs": []
    },
    {
      "cell_type": "code",
      "metadata": {
        "id": "OSa5HXBgJnh_"
      },
      "source": [
        "train_features = model.predict(x_train)\n",
        "test_features = model.predict(y_test)"
      ],
      "execution_count": null,
      "outputs": []
    },
    {
      "cell_type": "markdown",
      "metadata": {
        "id": "MEXzItbgO1ym"
      },
      "source": [
        "### Model 4 CNN"
      ]
    },
    {
      "cell_type": "code",
      "metadata": {
        "id": "4QGuiXKKRkXp"
      },
      "source": [
        "!pip install -U efficientnet"
      ],
      "execution_count": null,
      "outputs": []
    },
    {
      "cell_type": "code",
      "metadata": {
        "colab": {
          "base_uri": "https://localhost:8080/"
        },
        "id": "u2ObpQ6yO4uW",
        "outputId": "dbf87c1b-6c2f-4a97-ae15-1c7c4d725386"
      },
      "source": [
        "model_4 = tf.keras.models.Sequential([\n",
        "    tf.keras.layers.Conv2D(8, (3,3), activation=tf.nn.relu,input_shape=(224, 224, 3)),\n",
        "    tf.keras.layers.MaxPooling2D(2,2),\n",
        "    \n",
        "    tf.keras.layers.Conv2D(16, (3,3), activation=tf.nn.relu),\n",
        "    tf.keras.layers.MaxPooling2D(2,2),\n",
        "\n",
        "    tf.keras.layers.Conv2D(32, (3,3), activation=tf.nn.relu),\n",
        "    tf.keras.layers.MaxPooling2D(2,2),\n",
        "    \n",
        "    tf.keras.layers.Conv2D(64, (3,3), activation=tf.nn.relu,padding = 'Same'),\n",
        "    tf.keras.layers.MaxPooling2D(2,2),\n",
        "    \n",
        "    \n",
        "    #tf.keras.layers.Conv2D(256, (3,3), activation=tf.nn.relu,padding = 'Same'),\n",
        "    #tf.keras.layers.MaxPooling2D(2,2),\n",
        "    \n",
        "    tf.keras.layers.Flatten(),\n",
        "\n",
        "    tf.keras.layers.Dense(512, activation=tf.nn.relu),\n",
        "    #tf.keras.layers.Dropout(0.2),\n",
        "    tf.keras.layers.Dense(4, activation = tf.nn.softmax)\n",
        "])\n",
        "\n",
        "model_4.summary()"
      ],
      "execution_count": null,
      "outputs": [
        {
          "output_type": "stream",
          "text": [
            "Model: \"sequential_13\"\n",
            "_________________________________________________________________\n",
            "Layer (type)                 Output Shape              Param #   \n",
            "=================================================================\n",
            "conv2d_37 (Conv2D)           (None, 222, 222, 8)       224       \n",
            "_________________________________________________________________\n",
            "max_pooling2d_15 (MaxPooling (None, 111, 111, 8)       0         \n",
            "_________________________________________________________________\n",
            "conv2d_38 (Conv2D)           (None, 109, 109, 16)      1168      \n",
            "_________________________________________________________________\n",
            "max_pooling2d_16 (MaxPooling (None, 54, 54, 16)        0         \n",
            "_________________________________________________________________\n",
            "conv2d_39 (Conv2D)           (None, 52, 52, 32)        4640      \n",
            "_________________________________________________________________\n",
            "max_pooling2d_17 (MaxPooling (None, 26, 26, 32)        0         \n",
            "_________________________________________________________________\n",
            "conv2d_40 (Conv2D)           (None, 26, 26, 64)        18496     \n",
            "_________________________________________________________________\n",
            "max_pooling2d_18 (MaxPooling (None, 13, 13, 64)        0         \n",
            "_________________________________________________________________\n",
            "flatten_8 (Flatten)          (None, 10816)             0         \n",
            "_________________________________________________________________\n",
            "dense_30 (Dense)             (None, 512)               5538304   \n",
            "_________________________________________________________________\n",
            "dense_31 (Dense)             (None, 4)                 2052      \n",
            "=================================================================\n",
            "Total params: 5,564,884\n",
            "Trainable params: 5,564,884\n",
            "Non-trainable params: 0\n",
            "_________________________________________________________________\n"
          ],
          "name": "stdout"
        }
      ]
    },
    {
      "cell_type": "code",
      "metadata": {
        "id": "D_gtQhm5Q4Ui"
      },
      "source": [
        "learning_rate_reduction = ReduceLROnPlateau(monitor='val_acc',\n",
        "                                            patience=2,\n",
        "                                            verbose=1,\n",
        "                                            factor=0.5,\n",
        "                                            min_lr=0.000003)"
      ],
      "execution_count": null,
      "outputs": []
    },
    {
      "cell_type": "code",
      "metadata": {
        "id": "k_1DeJxwSrfB"
      },
      "source": [
        "model_4.compile(loss = 'categorical_crossentropy', optimizer= tf.keras.optimizers.Adam(), metrics=['acc'])\n",
        "\n",
        "histor_4 = model_4.fit(x_train, y_train, validation_data= (x_test,y_test), epochs=10,verbose = 1);\n",
        "\n",
        "# history_4 = model_4.fit(train_generator,\n",
        "#                     epochs = 25,\n",
        "#                     verbose = 1,\n",
        "#                    validation_data = validation_generator,\n",
        "#                    callbacks=[learning_rate_reduction])"
      ],
      "execution_count": null,
      "outputs": []
    },
    {
      "cell_type": "markdown",
      "metadata": {
        "id": "wyhf2yoWZyJB"
      },
      "source": [
        "### Model 5"
      ]
    },
    {
      "cell_type": "code",
      "metadata": {
        "colab": {
          "base_uri": "https://localhost:8080/"
        },
        "id": "4gkI7sUrZ1V_",
        "outputId": "7e5cd38a-2b06-4549-eee6-c16ae4d57261"
      },
      "source": [
        "pretrained_model3 = tf.keras.applications.DenseNet201(input_shape=(224,224,3),include_top=False,weights='imagenet',pooling='avg')\n",
        "pretrained_model3.trainable = False"
      ],
      "execution_count": null,
      "outputs": [
        {
          "output_type": "stream",
          "text": [
            "Downloading data from https://storage.googleapis.com/tensorflow/keras-applications/densenet/densenet201_weights_tf_dim_ordering_tf_kernels_notop.h5\n",
            "74842112/74836368 [==============================] - 1s 0us/step\n"
          ],
          "name": "stdout"
        }
      ]
    },
    {
      "cell_type": "code",
      "metadata": {
        "id": "Qw2ZzRHyatq8"
      },
      "source": [
        "from tensorflow.keras.utils import to_categorical\n",
        "from tensorflow.keras.preprocessing.image import load_img, img_to_array\n",
        "from tensorflow.python.keras.preprocessing.image import ImageDataGenerator\n",
        "\n",
        "datagen = ImageDataGenerator(horizontal_flip=True,vertical_flip=True,rotation_range=20,zoom_range=0.2,\n",
        "                        width_shift_range=0.2,height_shift_range=0.2,shear_range=0.1,fill_mode=\"nearest\")"
      ],
      "execution_count": null,
      "outputs": []
    },
    {
      "cell_type": "code",
      "metadata": {
        "id": "uGU_1Uw1Z1UB"
      },
      "source": [
        "inputs3 = pretrained_model3.input\n",
        "x3 = tf.keras.layers.Dense(128, activation='relu')(pretrained_model3.output)\n",
        "outputs3 = tf.keras.layers.Dense(3, activation='softmax')(x3)\n",
        "model_dense = tf.keras.Model(inputs=inputs3, outputs=outputs3)"
      ],
      "execution_count": null,
      "outputs": []
    },
    {
      "cell_type": "code",
      "metadata": {
        "id": "irSsu7eMZ1Ps"
      },
      "source": [
        "model.compile(optimizer='adam',loss='categorical_crossentropy',metrics=['accuracy'])"
      ],
      "execution_count": null,
      "outputs": []
    },
    {
      "cell_type": "code",
      "metadata": {
        "id": "RbzB1yTlaN3y"
      },
      "source": [
        "his=model.fit(datagen.flow(x_train,y_train,batch_size=32),validation_data=(x_test,y_test),epochs=10)"
      ],
      "execution_count": null,
      "outputs": []
    },
    {
      "cell_type": "markdown",
      "metadata": {
        "id": "ePjv51r-I4pM"
      },
      "source": [
        "## 5. Predicting Image by Uploading"
      ]
    },
    {
      "cell_type": "code",
      "metadata": {
        "colab": {
          "resources": {
            "http://localhost:8080/nbextensions/google.colab/files.js": {
              "data": "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",
              "headers": [
                [
                  "content-type",
                  "application/javascript"
                ]
              ],
              "ok": true,
              "status": 200,
              "status_text": ""
            }
          },
          "base_uri": "https://localhost:8080/",
          "height": 177
        },
        "id": "JUu1-e2tIybh",
        "outputId": "47c49760-72cc-4376-96a8-ff70f9086ea6"
      },
      "source": [
        "import numpy as np\n",
        "from google.colab import files\n",
        "from keras.preprocessing import image\n",
        "\n",
        "uploaded = files.upload()\n",
        "for fn in uploaded.keys():\n",
        "  path=\"/content/\"+fn\n",
        "  print(path)\n",
        "\n",
        "img = image.load_img(path , target_size=(224,224))\n",
        "x = image.img_to_array(img)\n",
        "x=np.expand_dims(x,axis=0)\n",
        "images = np.vstack([x])\n",
        "classes = model_cnn.predict_classes(images,batch_size=10)\n",
        "\n",
        "print(fn)\n",
        "\n",
        "if classes==0:\n",
        "    print('cyclone')\n",
        "elif classes==1:\n",
        "    print('flood')\n",
        "elif classes==2:\n",
        "    print('earthquake')\n",
        "else:\n",
        "    print('wildfire')"
      ],
      "execution_count": null,
      "outputs": [
        {
          "output_type": "display_data",
          "data": {
            "text/html": [
              "\n",
              "     <input type=\"file\" id=\"files-94498d20-c25a-4f1c-b08b-2d00ef0e4096\" name=\"files[]\" multiple disabled\n",
              "        style=\"border:none\" />\n",
              "     <output id=\"result-94498d20-c25a-4f1c-b08b-2d00ef0e4096\">\n",
              "      Upload widget is only available when the cell has been executed in the\n",
              "      current browser session. Please rerun this cell to enable.\n",
              "      </output>\n",
              "      <script src=\"/nbextensions/google.colab/files.js\"></script> "
            ],
            "text/plain": [
              "<IPython.core.display.HTML object>"
            ]
          },
          "metadata": {
            "tags": []
          }
        },
        {
          "output_type": "stream",
          "text": [
            "Saving 2.jpg to 2.jpg\n",
            "/content/2.jpg\n",
            "2.jpg\n",
            "earthquake\n"
          ],
          "name": "stdout"
        },
        {
          "output_type": "stream",
          "text": [
            "/usr/local/lib/python3.7/dist-packages/tensorflow/python/keras/engine/sequential.py:455: UserWarning: `model.predict_classes()` is deprecated and will be removed after 2021-01-01. Please use instead:* `np.argmax(model.predict(x), axis=-1)`,   if your model does multi-class classification   (e.g. if it uses a `softmax` last-layer activation).* `(model.predict(x) > 0.5).astype(\"int32\")`,   if your model does binary classification   (e.g. if it uses a `sigmoid` last-layer activation).\n",
            "  warnings.warn('`model.predict_classes()` is deprecated and '\n"
          ],
          "name": "stderr"
        }
      ]
    },
    {
      "cell_type": "markdown",
      "metadata": {
        "id": "b6CJavKSHKaF"
      },
      "source": [
        "## 6. Save File"
      ]
    },
    {
      "cell_type": "markdown",
      "metadata": {
        "id": "DfI-m-UCFPa0"
      },
      "source": [
        ""
      ]
    },
    {
      "cell_type": "code",
      "metadata": {
        "colab": {
          "base_uri": "https://localhost:8080/"
        },
        "id": "81YQS14dJKSi",
        "outputId": "565a0f77-41cf-42f5-8220-60c77ba3db11"
      },
      "source": [
        "import time\n",
        "t = time.time()\n",
        "\n",
        "export_path_sm = \"./{}\".format(int(t))\n",
        "print(export_path_sm)\n",
        "\n",
        "tf.saved_model.save(model_cnn5, export_path_sm)"
      ],
      "execution_count": null,
      "outputs": [
        {
          "output_type": "stream",
          "text": [
            "./1622618495\n",
            "WARNING:tensorflow:FOR KERAS USERS: The object that you are saving contains one or more Keras models or layers. If you are loading the SavedModel with `tf.keras.models.load_model`, continue reading (otherwise, you may ignore the following instructions). Please change your code to save with `tf.keras.models.save_model` or `model.save`, and confirm that the file \"keras.metadata\" exists in the export directory. In the future, Keras will only load the SavedModels that have this file. In other words, `tf.saved_model.save` will no longer write SavedModels that can be recovered as Keras models (this will apply in TF 2.5).\n",
            "\n",
            "FOR DEVS: If you are overwriting _tracking_metadata in your class, this property has been used to save metadata in the SavedModel. The metadta field will be deprecated soon, so please move the metadata to a different file.\n",
            "INFO:tensorflow:Assets written to: ./1622618495/assets\n"
          ],
          "name": "stdout"
        }
      ]
    },
    {
      "cell_type": "code",
      "metadata": {
        "id": "HtawpwAvGp1L"
      },
      "source": [
        "# import joblib\n",
        "# filename = 'finalized_model.sav'\n",
        "# joblib.dump(model_cnn2, filename)"
      ],
      "execution_count": null,
      "outputs": []
    },
    {
      "cell_type": "code",
      "metadata": {
        "colab": {
          "base_uri": "https://localhost:8080/"
        },
        "id": "ZMI_0NP5-qVd",
        "outputId": "98755dc1-b35f-480d-9b05-779a05db26c6"
      },
      "source": [
        "#zip file\n",
        "!zip -r /content/file.zip /content/cnn_model"
      ],
      "execution_count": null,
      "outputs": [
        {
          "output_type": "stream",
          "text": [
            "  adding: content/cnn_model/ (stored 0%)\n",
            "  adding: content/cnn_model/saved_model.pb (deflated 88%)\n",
            "  adding: content/cnn_model/variables/ (stored 0%)\n",
            "  adding: content/cnn_model/variables/variables.data-00000-of-00001 (deflated 29%)\n",
            "  adding: content/cnn_model/variables/variables.index (deflated 66%)\n",
            "  adding: content/cnn_model/keras_metadata.pb (deflated 91%)\n",
            "  adding: content/cnn_model/assets/ (stored 0%)\n"
          ],
          "name": "stdout"
        }
      ]
    },
    {
      "cell_type": "code",
      "metadata": {
        "id": "WS9vM8xs-0Zi"
      },
      "source": [
        "from google.colab import files\n",
        "files.download(\"/content/file.zip\")"
      ],
      "execution_count": null,
      "outputs": []
    },
    {
      "cell_type": "code",
      "metadata": {
        "colab": {
          "base_uri": "https://localhost:8080/",
          "height": 34
        },
        "id": "UBKuI4FOJJen",
        "outputId": "eae7b0a9-5f57-4601-ecb5-dad282c1d29e"
      },
      "source": [
        "#download savedfile\n",
        "\n",
        "from google.colab import files\n",
        "files.download('/content/cnn_model/variables') "
      ],
      "execution_count": null,
      "outputs": [
        {
          "output_type": "display_data",
          "data": {
            "application/javascript": [
              "\n",
              "    async function download(id, filename, size) {\n",
              "      if (!google.colab.kernel.accessAllowed) {\n",
              "        return;\n",
              "      }\n",
              "      const div = document.createElement('div');\n",
              "      const label = document.createElement('label');\n",
              "      label.textContent = `Downloading \"${filename}\": `;\n",
              "      div.appendChild(label);\n",
              "      const progress = document.createElement('progress');\n",
              "      progress.max = size;\n",
              "      div.appendChild(progress);\n",
              "      document.body.appendChild(div);\n",
              "\n",
              "      const buffers = [];\n",
              "      let downloaded = 0;\n",
              "\n",
              "      const channel = await google.colab.kernel.comms.open(id);\n",
              "      // Send a message to notify the kernel that we're ready.\n",
              "      channel.send({})\n",
              "\n",
              "      for await (const message of channel.messages) {\n",
              "        // Send a message to notify the kernel that we're ready.\n",
              "        channel.send({})\n",
              "        if (message.buffers) {\n",
              "          for (const buffer of message.buffers) {\n",
              "            buffers.push(buffer);\n",
              "            downloaded += buffer.byteLength;\n",
              "            progress.value = downloaded;\n",
              "          }\n",
              "        }\n",
              "      }\n",
              "      const blob = new Blob(buffers, {type: 'application/binary'});\n",
              "      const a = document.createElement('a');\n",
              "      a.href = window.URL.createObjectURL(blob);\n",
              "      a.download = filename;\n",
              "      div.appendChild(a);\n",
              "      a.click();\n",
              "      div.remove();\n",
              "    }\n",
              "  "
            ],
            "text/plain": [
              "<IPython.core.display.Javascript object>"
            ]
          },
          "metadata": {
            "tags": []
          }
        },
        {
          "output_type": "display_data",
          "data": {
            "application/javascript": [
              "download(\"download_40301f5a-a74d-4475-89f6-4fd9301996c7\", \"variables\", 4096)"
            ],
            "text/plain": [
              "<IPython.core.display.Javascript object>"
            ]
          },
          "metadata": {
            "tags": []
          }
        }
      ]
    },
    {
      "cell_type": "code",
      "metadata": {
        "colab": {
          "base_uri": "https://localhost:8080/",
          "height": 35
        },
        "id": "IILTzYlpkFx5",
        "outputId": "3508de58-3c9c-41fe-d1ad-f39c50eeebf6"
      },
      "source": [
        "import shutil\n",
        "#nama folder, zip, path directori folder\n",
        "shutil.make_archive('/content/cnn_modele', 'zip', '/content/cnn_model')"
      ],
      "execution_count": null,
      "outputs": [
        {
          "output_type": "execute_result",
          "data": {
            "application/vnd.google.colaboratory.intrinsic+json": {
              "type": "string"
            },
            "text/plain": [
              "'/content/cnn_modele.zip'"
            ]
          },
          "metadata": {
            "tags": []
          },
          "execution_count": 43
        }
      ]
    },
    {
      "cell_type": "code",
      "metadata": {
        "id": "8Uvq6OYLGkA3"
      },
      "source": [
        "# import pickle\n",
        "\n",
        "# Pkl_Filename = \"Pickle_RL_Model.pkl\"  \n",
        "\n",
        "# with open(Pkl_Filename, 'wb') as file:  \n",
        "#     pickle.dump(model_cnn2, file)"
      ],
      "execution_count": null,
      "outputs": []
    },
    {
      "cell_type": "code",
      "metadata": {
        "id": "bZvEv7xbMjw_"
      },
      "source": [
        "#Save the trained model as a Keras HDF5 file. \n",
        "saved_model_path = \"./my_modelcnn.h5\"\n",
        "\n",
        "model_cnn5.save(saved_model_path)"
      ],
      "execution_count": null,
      "outputs": []
    },
    {
      "cell_type": "code",
      "metadata": {
        "id": "uyjuXUeUNLMX"
      },
      "source": [
        "# Use the tensorflow.js converter to convert the saved Keras model into JSON format.\n",
        "\n",
        "!tensorflowjs_converter --input_format=keras \"./my_modelcnn.h5\" ./"
      ],
      "execution_count": null,
      "outputs": []
    },
    {
      "cell_type": "markdown",
      "metadata": {
        "id": "BP1eeQkzQiPA"
      },
      "source": [
        "Save model to tflite \n",
        "\n",
        "[Referensi](https://www.tensorflow.org/lite/convert)"
      ]
    },
    {
      "cell_type": "code",
      "metadata": {
        "id": "YLoqJQYGNbIO"
      },
      "source": [
        "import tensorflow as tf\n",
        "\n",
        "# Convert the model\n",
        "converter = tf.lite.TFLiteConverter.from_saved_model(\"/content/1622618495\") # path to the SavedModel directory\n",
        "tflite_model = converter.convert()\n",
        "\n",
        "# Save the model.\n",
        "with open('model.tflite', 'wb') as f:\n",
        "  f.write(tflite_model)"
      ],
      "execution_count": null,
      "outputs": []
    },
    {
      "cell_type": "code",
      "metadata": {
        "id": "Nrt502UNQGfb"
      },
      "source": [
        "# import tensorflow as tf\n",
        "\n",
        "# # Convert the model\n",
        "# converter = tf.lite.TFLiteConverter.from_saved_model(\"/content/1622173316\") # path to the SavedModel directory\n",
        "# tflite_model = converter.convert()\n",
        "\n",
        "# # Save the model.\n",
        "# with open('model.tflite', 'wb') as f:\n",
        "#   f.write(tflite_model)"
      ],
      "execution_count": null,
      "outputs": []
    },
    {
      "cell_type": "code",
      "metadata": {
        "colab": {
          "base_uri": "https://localhost:8080/"
        },
        "id": "clxyIRCnEZZQ",
        "outputId": "8f706175-1dd7-41bf-b441-652ed7a49e6b"
      },
      "source": [
        "# Save model_1\n",
        "model_cnn3.save(\"cnn_model\")"
      ],
      "execution_count": null,
      "outputs": [
        {
          "output_type": "stream",
          "text": [
            "INFO:tensorflow:Assets written to: cnn_model/assets\n"
          ],
          "name": "stdout"
        }
      ]
    },
    {
      "cell_type": "markdown",
      "metadata": {
        "id": "yPwAcTIUoXet"
      },
      "source": [
        "Ini dibawah gaperlu dijalanin\n",
        "\n",
        "---\n",
        "\n"
      ]
    },
    {
      "cell_type": "code",
      "metadata": {
        "id": "62ya2zr8_fVc"
      },
      "source": [
        "\n",
        "# Authentic Colab \n",
        "# (running this will give you a code to authentic your Google Colab instance, keep the code secret)\n",
        "from google.colab import auth\n",
        "auth.authenticate_user()"
      ],
      "execution_count": null,
      "outputs": []
    },
    {
      "cell_type": "code",
      "metadata": {
        "id": "NRo1wkWc_g9B"
      },
      "source": [
        "!curl https://sdk.cloud.google.com | bash 1> /dev/null\n",
        "!gcloud init"
      ],
      "execution_count": null,
      "outputs": []
    },
    {
      "cell_type": "code",
      "metadata": {
        "id": "2gj0dQcD_lsJ"
      },
      "source": [
        "# Copy model to bucket - https://cloud.google.com/storage/docs/uploading-objects#gsutil \n",
        "# Use \"-r\" for folders (r stands for recursive)\n",
        "!gsutil cp -r efficientnet_model_1_10_classes gs://ml_deploymet_lec_bucket_0\n"
      ],
      "execution_count": null,
      "outputs": []
    },
    {
      "cell_type": "code",
      "metadata": {
        "id": "JMrL_6HD_n1b"
      },
      "source": [
        "# Copy model to bucket\n",
        "!gsutil cp -r efficientnet_model_1_10_classes gs://cs329s_live_bucket_creation"
      ],
      "execution_count": null,
      "outputs": []
    },
    {
      "cell_type": "code",
      "metadata": {
        "id": "HSGLwwRb_re1"
      },
      "source": [
        "\n",
        "# # Download model (to upload to GS, you could probably use gcloud cli here but whatever)\n",
        "# !zip -r /content/efficientnet_model_0_10_classes.zip /content/efficientnet_model_0_10_classes\n",
        "# from google.colab import files\n",
        "# files.download(\"/content/efficientnet_model_0_10_classes.zip\")"
      ],
      "execution_count": null,
      "outputs": []
    }
  ]
}